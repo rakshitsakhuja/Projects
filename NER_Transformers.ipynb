{
  "nbformat": 4,
  "nbformat_minor": 0,
  "metadata": {
    "colab": {
      "name": "NER_Transformers.ipynb",
      "provenance": [],
      "authorship_tag": "ABX9TyNpcr0qNHKjWWVi001TJsZc",
      "include_colab_link": true
    },
    "kernelspec": {
      "name": "python3",
      "display_name": "Python 3"
    },
    "language_info": {
      "name": "python"
    }
  },
  "cells": [
    {
      "cell_type": "markdown",
      "metadata": {
        "id": "view-in-github",
        "colab_type": "text"
      },
      "source": [
        "<a href=\"https://colab.research.google.com/github/rakshitsakhuja/Projects/blob/master/NER_Transformers.ipynb\" target=\"_parent\"><img src=\"https://colab.research.google.com/assets/colab-badge.svg\" alt=\"Open In Colab\"/></a>"
      ]
    },
    {
      "cell_type": "code",
      "execution_count": 1,
      "metadata": {
        "colab": {
          "base_uri": "https://localhost:8080/"
        },
        "id": "870oPsvWQh1Z",
        "outputId": "27f091c0-13d8-41f4-83a2-0329cae7d4ff"
      },
      "outputs": [
        {
          "output_type": "stream",
          "name": "stdout",
          "text": [
            "Collecting transformers\n",
            "  Downloading transformers-4.19.1-py3-none-any.whl (4.2 MB)\n",
            "\u001b[K     |████████████████████████████████| 4.2 MB 6.9 MB/s \n",
            "\u001b[?25hRequirement already satisfied: regex!=2019.12.17 in /usr/local/lib/python3.7/dist-packages (from transformers) (2019.12.20)\n",
            "Requirement already satisfied: importlib-metadata in /usr/local/lib/python3.7/dist-packages (from transformers) (4.11.3)\n",
            "Requirement already satisfied: numpy>=1.17 in /usr/local/lib/python3.7/dist-packages (from transformers) (1.21.6)\n",
            "Collecting tokenizers!=0.11.3,<0.13,>=0.11.1\n",
            "  Downloading tokenizers-0.12.1-cp37-cp37m-manylinux_2_12_x86_64.manylinux2010_x86_64.whl (6.6 MB)\n",
            "\u001b[K     |████████████████████████████████| 6.6 MB 31.6 MB/s \n",
            "\u001b[?25hRequirement already satisfied: packaging>=20.0 in /usr/local/lib/python3.7/dist-packages (from transformers) (21.3)\n",
            "Requirement already satisfied: requests in /usr/local/lib/python3.7/dist-packages (from transformers) (2.23.0)\n",
            "Requirement already satisfied: tqdm>=4.27 in /usr/local/lib/python3.7/dist-packages (from transformers) (4.64.0)\n",
            "Collecting pyyaml>=5.1\n",
            "  Downloading PyYAML-6.0-cp37-cp37m-manylinux_2_5_x86_64.manylinux1_x86_64.manylinux_2_12_x86_64.manylinux2010_x86_64.whl (596 kB)\n",
            "\u001b[K     |████████████████████████████████| 596 kB 65.9 MB/s \n",
            "\u001b[?25hRequirement already satisfied: filelock in /usr/local/lib/python3.7/dist-packages (from transformers) (3.6.0)\n",
            "Collecting huggingface-hub<1.0,>=0.1.0\n",
            "  Downloading huggingface_hub-0.6.0-py3-none-any.whl (84 kB)\n",
            "\u001b[K     |████████████████████████████████| 84 kB 2.3 MB/s \n",
            "\u001b[?25hRequirement already satisfied: typing-extensions>=3.7.4.3 in /usr/local/lib/python3.7/dist-packages (from huggingface-hub<1.0,>=0.1.0->transformers) (4.2.0)\n",
            "Requirement already satisfied: pyparsing!=3.0.5,>=2.0.2 in /usr/local/lib/python3.7/dist-packages (from packaging>=20.0->transformers) (3.0.8)\n",
            "Requirement already satisfied: zipp>=0.5 in /usr/local/lib/python3.7/dist-packages (from importlib-metadata->transformers) (3.8.0)\n",
            "Requirement already satisfied: urllib3!=1.25.0,!=1.25.1,<1.26,>=1.21.1 in /usr/local/lib/python3.7/dist-packages (from requests->transformers) (1.24.3)\n",
            "Requirement already satisfied: certifi>=2017.4.17 in /usr/local/lib/python3.7/dist-packages (from requests->transformers) (2021.10.8)\n",
            "Requirement already satisfied: idna<3,>=2.5 in /usr/local/lib/python3.7/dist-packages (from requests->transformers) (2.10)\n",
            "Requirement already satisfied: chardet<4,>=3.0.2 in /usr/local/lib/python3.7/dist-packages (from requests->transformers) (3.0.4)\n",
            "Installing collected packages: pyyaml, tokenizers, huggingface-hub, transformers\n",
            "  Attempting uninstall: pyyaml\n",
            "    Found existing installation: PyYAML 3.13\n",
            "    Uninstalling PyYAML-3.13:\n",
            "      Successfully uninstalled PyYAML-3.13\n",
            "Successfully installed huggingface-hub-0.6.0 pyyaml-6.0 tokenizers-0.12.1 transformers-4.19.1\n"
          ]
        }
      ],
      "source": [
        "!pip install transformers"
      ]
    },
    {
      "cell_type": "code",
      "source": [
        "from transformers import pipeline"
      ],
      "metadata": {
        "id": "Qeeyiw8pQnMp"
      },
      "execution_count": 2,
      "outputs": []
    },
    {
      "cell_type": "code",
      "source": [
        "ner = pipeline('ner', aggregation_strategy=\"SIMPLE\")\n",
        "ner('My name is John and I live at Baldwin Road')"
      ],
      "metadata": {
        "colab": {
          "base_uri": "https://localhost:8080/"
        },
        "id": "1-YKI84kQnkV",
        "outputId": "6e95b6c6-6d64-49b6-fa87-25f3f1cea132"
      },
      "execution_count": 11,
      "outputs": [
        {
          "output_type": "stream",
          "name": "stderr",
          "text": [
            "No model was supplied, defaulted to dbmdz/bert-large-cased-finetuned-conll03-english (https://huggingface.co/dbmdz/bert-large-cased-finetuned-conll03-english)\n"
          ]
        },
        {
          "output_type": "execute_result",
          "data": {
            "text/plain": [
              "[{'end': 15,\n",
              "  'entity_group': 'PER',\n",
              "  'score': 0.99849105,\n",
              "  'start': 11,\n",
              "  'word': 'John'},\n",
              " {'end': 42,\n",
              "  'entity_group': 'LOC',\n",
              "  'score': 0.9440105,\n",
              "  'start': 30,\n",
              "  'word': 'Baldwin Road'}]"
            ]
          },
          "metadata": {},
          "execution_count": 11
        }
      ]
    },
    {
      "cell_type": "code",
      "source": [
        "ner = pipeline('ner', aggregation_strategy=\"SIMPLE\", model='samrawal/bert-large-uncased_med-ner', tokenizer='samrawal/bert-large-uncased_med-ner')\n",
        "ner('Take 1mg of tylenol every 12 hours for 5 days')"
      ],
      "metadata": {
        "colab": {
          "base_uri": "https://localhost:8080/"
        },
        "id": "46_v4e7WQo8r",
        "outputId": "5e513928-d569-42d6-9b75-59d458a9a355"
      },
      "execution_count": 10,
      "outputs": [
        {
          "output_type": "execute_result",
          "data": {
            "text/plain": [
              "[{'end': 8,\n",
              "  'entity_group': 'do',\n",
              "  'score': 0.99743664,\n",
              "  'start': 5,\n",
              "  'word': '1mg'},\n",
              " {'end': 19,\n",
              "  'entity_group': 'm',\n",
              "  'score': 0.90280133,\n",
              "  'start': 12,\n",
              "  'word': 'tylenol'},\n",
              " {'end': 34,\n",
              "  'entity_group': 'f',\n",
              "  'score': 0.99928826,\n",
              "  'start': 20,\n",
              "  'word': 'every 12 hours'},\n",
              " {'end': 45,\n",
              "  'entity_group': 'du',\n",
              "  'score': 0.99516255,\n",
              "  'start': 35,\n",
              "  'word': 'for 5 days'}]"
            ]
          },
          "metadata": {},
          "execution_count": 10
        }
      ]
    },
    {
      "cell_type": "code",
      "source": [
        ""
      ],
      "metadata": {
        "id": "PhaozDbhRR9e"
      },
      "execution_count": null,
      "outputs": []
    },
    {
      "cell_type": "code",
      "source": [
        ""
      ],
      "metadata": {
        "id": "8wfggrSSRSAQ"
      },
      "execution_count": null,
      "outputs": []
    },
    {
      "cell_type": "code",
      "source": [
        "!pip install pytelegrambotapi"
      ],
      "metadata": {
        "colab": {
          "base_uri": "https://localhost:8080/"
        },
        "id": "kWKchtl_RSCz",
        "outputId": "c69c79aa-23a4-41ce-8d8b-ef0815abcf86"
      },
      "execution_count": 5,
      "outputs": [
        {
          "output_type": "stream",
          "name": "stdout",
          "text": [
            "Collecting pytelegrambotapi\n",
            "  Downloading pyTelegramBotAPI-4.5.1.tar.gz (157 kB)\n",
            "\u001b[?25l\r\u001b[K     |██                              | 10 kB 22.8 MB/s eta 0:00:01\r\u001b[K     |████▏                           | 20 kB 27.9 MB/s eta 0:00:01\r\u001b[K     |██████▎                         | 30 kB 17.6 MB/s eta 0:00:01\r\u001b[K     |████████▎                       | 40 kB 11.8 MB/s eta 0:00:01\r\u001b[K     |██████████▍                     | 51 kB 5.6 MB/s eta 0:00:01\r\u001b[K     |████████████▌                   | 61 kB 6.5 MB/s eta 0:00:01\r\u001b[K     |██████████████▋                 | 71 kB 7.4 MB/s eta 0:00:01\r\u001b[K     |████████████████▋               | 81 kB 6.0 MB/s eta 0:00:01\r\u001b[K     |██████████████████▊             | 92 kB 6.6 MB/s eta 0:00:01\r\u001b[K     |████████████████████▉           | 102 kB 7.2 MB/s eta 0:00:01\r\u001b[K     |██████████████████████▉         | 112 kB 7.2 MB/s eta 0:00:01\r\u001b[K     |█████████████████████████       | 122 kB 7.2 MB/s eta 0:00:01\r\u001b[K     |███████████████████████████     | 133 kB 7.2 MB/s eta 0:00:01\r\u001b[K     |█████████████████████████████▏  | 143 kB 7.2 MB/s eta 0:00:01\r\u001b[K     |███████████████████████████████▏| 153 kB 7.2 MB/s eta 0:00:01\r\u001b[K     |████████████████████████████████| 157 kB 7.2 MB/s \n",
            "\u001b[?25hRequirement already satisfied: requests in /usr/local/lib/python3.7/dist-packages (from pytelegrambotapi) (2.23.0)\n",
            "Requirement already satisfied: certifi>=2017.4.17 in /usr/local/lib/python3.7/dist-packages (from requests->pytelegrambotapi) (2021.10.8)\n",
            "Requirement already satisfied: idna<3,>=2.5 in /usr/local/lib/python3.7/dist-packages (from requests->pytelegrambotapi) (2.10)\n",
            "Requirement already satisfied: chardet<4,>=3.0.2 in /usr/local/lib/python3.7/dist-packages (from requests->pytelegrambotapi) (3.0.4)\n",
            "Requirement already satisfied: urllib3!=1.25.0,!=1.25.1,<1.26,>=1.21.1 in /usr/local/lib/python3.7/dist-packages (from requests->pytelegrambotapi) (1.24.3)\n",
            "Building wheels for collected packages: pytelegrambotapi\n",
            "  Building wheel for pytelegrambotapi (setup.py) ... \u001b[?25l\u001b[?25hdone\n",
            "  Created wheel for pytelegrambotapi: filename=pyTelegramBotAPI-4.5.1-py3-none-any.whl size=138116 sha256=62327f9703dc74503962cd26dffe804c09f0890008e9cabbbd8785a73f194c27\n",
            "  Stored in directory: /root/.cache/pip/wheels/9a/90/69/89e4e68c819633d933753827fd4f3a22987e162b7404b092b5\n",
            "Successfully built pytelegrambotapi\n",
            "Installing collected packages: pytelegrambotapi\n",
            "Successfully installed pytelegrambotapi-4.5.1\n"
          ]
        }
      ]
    },
    {
      "cell_type": "code",
      "source": [
        "entities=ner(\"I am going to live in UK\")"
      ],
      "metadata": {
        "id": "0buqIieHWV0P"
      },
      "execution_count": 13,
      "outputs": []
    },
    {
      "cell_type": "code",
      "source": [
        "entities"
      ],
      "metadata": {
        "colab": {
          "base_uri": "https://localhost:8080/"
        },
        "id": "c88jeDHCWcy3",
        "outputId": "0d146534-7eb2-4777-e60d-0fa9a2550d6f"
      },
      "execution_count": 14,
      "outputs": [
        {
          "output_type": "execute_result",
          "data": {
            "text/plain": [
              "[{'end': 24,\n",
              "  'entity_group': 'LOC',\n",
              "  'score': 0.99973136,\n",
              "  'start': 22,\n",
              "  'word': 'UK'}]"
            ]
          },
          "metadata": {},
          "execution_count": 14
        }
      ]
    },
    {
      "cell_type": "code",
      "source": [
        ""
      ],
      "metadata": {
        "id": "YkClOZZ_WdEl"
      },
      "execution_count": null,
      "outputs": []
    },
    {
      "cell_type": "code",
      "source": [
        ""
      ],
      "metadata": {
        "id": "DYeNcwXzWWJX"
      },
      "execution_count": null,
      "outputs": []
    },
    {
      "cell_type": "code",
      "source": [
        "import telebot\n",
        "\n",
        "from transformers import pipeline"
      ],
      "metadata": {
        "id": "AKNb-X0RRSFc"
      },
      "execution_count": 6,
      "outputs": []
    },
    {
      "cell_type": "code",
      "source": [
        "API_TOKEN = None\n",
        "bot = telebot.TeleBot(API_TOKEN)\n",
        "\n",
        "ner = pipeline('ner', aggregation_strategy=\"simple\")\n",
        "med_ner = pipeline('ner', aggregation_strategy=\"simple\", model='samrawal/bert-large-uncased_med-ner', tokenizer='samrawal/bert-large-uncased_med-ner')\n",
        "\n",
        "\n",
        "@bot.message_handler(func=lambda message: True)\n",
        "def chat(message):\n",
        "    \n",
        "    name = ''\n",
        "    location = ''\n",
        "    \n",
        "    centities = ner(message.text)\n",
        "    mentities = med_ner(message.text)\n",
        "    entities=centities+mentities\n",
        "\n",
        "\n",
        "    for entity in entities: \n",
        "        if entity['entity_group'] == 'PER': \n",
        "          name = entity['word']\n",
        "          flag =1\n",
        "        if entity['entity_group'] == 'LOC': \n",
        "          location = entity['word']\n",
        "          flag=1\n",
        "\n",
        "        if entity['entity_group'] == 'm': medication = entity['word'] if entity['word'] is not None else None; flag=0\n",
        "        if entity['entity_group'] == 'do': dosage = entity['word'] if entity['word'] is not None else None; flag=0\n",
        "        if entity['entity_group'] == 'f': frequency = entity['word'] if entity['word'] is not None else None; flag=0\n",
        "        if entity['entity_group'] == 'du': duration = entity['word'] if entity['word'] is not None else None; flag=0\n",
        "\n",
        "    if flag ==1:\n",
        "      bot.reply_to(message, 'Hi '+name+', your product will be delivered at '+location)\n",
        "    else:\n",
        "      bot.reply_to(message, 'Medication: '+medication+' -- Dosage: '+dosage+' -- ')#Frequency: '+frequency+' -- Duration: '+duration)\n",
        "    return\n",
        "\n",
        "\n",
        "\n",
        "\n",
        "\n",
        "# @bot.message_handler(func=lambda message: True)\n",
        "# def chat(message):\n",
        "    \n",
        "#     medication = ''\n",
        "#     dosage = ''\n",
        "#     frequency = ''\n",
        "#     duration = ''\n",
        "    \n",
        "    \n",
        "\n",
        "#     for entity in entities:\n",
        "#       if entity['entity_group'] == 'm': medication = entity['word']\n",
        "#       if entity['entity_group'] == 'do': dosage = entity['word']\n",
        "#       if entity['entity_group'] == 'f': frequency = entity['word']\n",
        "#       if entity['entity_group'] == 'du': duration = entity['word']\n",
        "    \n",
        "#     bot.reply_to(message, 'Medication: '+medication+' -- Dosage: '+dosage+' -- Frequency: '+frequency+' -- Duration: '+duration)\n",
        "#     return"
      ],
      "metadata": {
        "colab": {
          "base_uri": "https://localhost:8080/"
        },
        "id": "QCuBFYAbRVxJ",
        "outputId": "8594ac8a-6cf2-421f-b6d5-51955cdc3225"
      },
      "execution_count": 25,
      "outputs": [
        {
          "output_type": "stream",
          "name": "stderr",
          "text": [
            "No model was supplied, defaulted to dbmdz/bert-large-cased-finetuned-conll03-english (https://huggingface.co/dbmdz/bert-large-cased-finetuned-conll03-english)\n"
          ]
        }
      ]
    },
    {
      "cell_type": "code",
      "source": [
        ""
      ],
      "metadata": {
        "id": "UUqxPNTOV9Rq"
      },
      "execution_count": 23,
      "outputs": []
    },
    {
      "cell_type": "code",
      "source": [
        ""
      ],
      "metadata": {
        "id": "SxHmSBkEV9Uw"
      },
      "execution_count": 23,
      "outputs": []
    },
    {
      "cell_type": "code",
      "source": [
        "bot.polling()"
      ],
      "metadata": {
        "id": "cpZvoys0RX2R"
      },
      "execution_count": null,
      "outputs": []
    },
    {
      "cell_type": "code",
      "source": [
        ""
      ],
      "metadata": {
        "id": "IwQO_Ol_UmDL"
      },
      "execution_count": null,
      "outputs": []
    }
  ]
}
