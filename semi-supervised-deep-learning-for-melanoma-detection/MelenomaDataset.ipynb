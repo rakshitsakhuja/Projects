{
  "nbformat": 4,
  "nbformat_minor": 0,
  "metadata": {
    "colab": {
      "name": "MelenomaDataset.ipynb",
      "provenance": [],
      "collapsed_sections": []
    },
    "kernelspec": {
      "name": "python3",
      "display_name": "Python 3"
    }
  },
  "cells": [
    {
      "cell_type": "code",
      "metadata": {
        "id": "N9at-ILOJ1Ve",
        "colab_type": "code",
        "colab": {
          "base_uri": "https://localhost:8080/",
          "height": 208
        },
        "outputId": "a98c90cc-7627-4307-85d1-de3b2ea55d8f"
      },
      "source": [
        "!wget https://liveproject-resources.s3.amazonaws.com/other/MelanomaDetection.zip"
      ],
      "execution_count": 75,
      "outputs": [
        {
          "output_type": "stream",
          "text": [
            "--2020-08-08 22:28:08--  https://liveproject-resources.s3.amazonaws.com/other/MelanomaDetection.zip\n",
            "Resolving liveproject-resources.s3.amazonaws.com (liveproject-resources.s3.amazonaws.com)... 52.216.27.180\n",
            "Connecting to liveproject-resources.s3.amazonaws.com (liveproject-resources.s3.amazonaws.com)|52.216.27.180|:443... connected.\n",
            "HTTP request sent, awaiting response... 200 OK\n",
            "Length: 6296754 (6.0M) [application/zip]\n",
            "Saving to: ‘MelanomaDetection.zip.1’\n",
            "\n",
            "MelanomaDetection.z 100%[===================>]   6.00M  4.08MB/s    in 1.5s    \n",
            "\n",
            "2020-08-08 22:28:10 (4.08 MB/s) - ‘MelanomaDetection.zip.1’ saved [6296754/6296754]\n",
            "\n"
          ],
          "name": "stdout"
        }
      ]
    },
    {
      "cell_type": "code",
      "metadata": {
        "id": "DIFAscgyLFGy",
        "colab_type": "code",
        "colab": {
          "base_uri": "https://localhost:8080/",
          "height": 52
        },
        "outputId": "e7c4401f-6b25-45ea-855f-792f64de8152"
      },
      "source": [
        "import os\n",
        "os.makedirs('dataset',exist_ok=True)\n",
        "!unzip MelanomaDetection.zip -d dataset\n"
      ],
      "execution_count": 76,
      "outputs": [
        {
          "output_type": "stream",
          "text": [
            "Archive:  MelanomaDetection.zip\n",
            "replace dataset/MelanomaDetection/.DS_Store? [y]es, [n]o, [A]ll, [N]one, [r]ename: N\n"
          ],
          "name": "stdout"
        }
      ]
    },
    {
      "cell_type": "code",
      "metadata": {
        "id": "AMTbzWVhNXj5",
        "colab_type": "code",
        "colab": {}
      },
      "source": [
        "from glob import glob\n",
        "\n",
        "train_list = glob('dataset/MelanomaDetection/labeled/*')\n",
        "test_list = glob('dataset/MelanomaDetection/test/*')\n",
        "unlabelled_list = glob('dataset/MelanomaDetection/unlabeled//*')"
      ],
      "execution_count": 78,
      "outputs": []
    },
    {
      "cell_type": "code",
      "metadata": {
        "id": "OgWecODKOWEe",
        "colab_type": "code",
        "colab": {
          "base_uri": "https://localhost:8080/",
          "height": 35
        },
        "outputId": "1c3fe02f-f256-42fb-8609-652ef087a7e0"
      },
      "source": [
        "train_labels = [os.path.basename(os.path.join(i)).split('.')[0].split('_')[1] for i in train_list]\n",
        "os.path.commonprefix(train_list)\n"
      ],
      "execution_count": 79,
      "outputs": [
        {
          "output_type": "execute_result",
          "data": {
            "application/vnd.google.colaboratory.intrinsic+json": {
              "type": "string"
            },
            "text/plain": [
              "'dataset/MelanomaDetection/labeled/'"
            ]
          },
          "metadata": {
            "tags": []
          },
          "execution_count": 79
        }
      ]
    },
    {
      "cell_type": "code",
      "metadata": {
        "id": "UADWlJgRLrDB",
        "colab_type": "code",
        "colab": {}
      },
      "source": [
        "import cv2\n",
        "import numpy as np\n",
        "import torch\n",
        "from torch.utils.data.dataset import Dataset\n",
        "from mpl_toolkits.axes_grid1 import ImageGrid\n",
        "import matplotlib.pyplot as plt\n",
        "from torchvision import transforms\n",
        "from PIL import Image\n",
        "\n",
        "class MelanomaDataset(Dataset):\n",
        "# dir_path, transform=None\n",
        "    def __init__(self, \n",
        "                 file_names: list, \n",
        "                 train: bool = True,\n",
        "                 transforms = None):\n",
        "      \n",
        "        super().__init__()\n",
        "\n",
        "        self.image_ids = file_names\n",
        "        self.image_dir = os.path.commonprefix(file_names)\n",
        "        self.labels = [os.path.basename(os.path.join(i)).split('.')[0].split('_')[1] \n",
        "                       for i in file_names]\n",
        "\n",
        "        self.transform = transforms\n",
        "        self.train = train\n",
        "\n",
        "\n",
        "    def __getitem__(self, index: int):\n",
        "        image_id = self.image_ids[index]\n",
        "\n",
        "        image = cv2.imread(f'{image_id}', cv2.IMREAD_COLOR)\n",
        "        image = cv2.cvtColor(image, cv2.COLOR_BGR2RGB)#.astype(np.float32)\n",
        "        # image /= 255.0\n",
        "        # image = torch.tensor(image)\n",
        "        \n",
        "        PIL_image = Image.fromarray(image)\n",
        "        if self.train:\n",
        "          target = torch.tensor(np.float32(self.labels[index]))\n",
        "          \n",
        "        if self.transform:\n",
        "            image = self.transform(PIL_image)\n",
        "        return image,target\n",
        "\n",
        "    def __len__(self) -> int:\n",
        "        return len(self.image_ids)"
      ],
      "execution_count": 171,
      "outputs": []
    },
    {
      "cell_type": "code",
      "metadata": {
        "id": "RyZSTFM22VmR",
        "colab_type": "code",
        "colab": {}
      },
      "source": [
        "train_transformation = transforms.Compose([transforms.Resize(64),\n",
        "                    transforms.RandomHorizontalFlip(),\n",
        "                    transforms.RandomResizedCrop(32),\n",
        "                    transforms.ColorJitter(brightness=.4\n",
        "                                          ),\n",
        "                    transforms.ToTensor(),\n",
        "                    transforms.Normalize((0.5,0.5,0.5),\n",
        "                                         (0.5,0.5,0.5)),\n",
        "      \n",
        "                                ])"
      ],
      "execution_count": 208,
      "outputs": []
    },
    {
      "cell_type": "code",
      "metadata": {
        "id": "5lKLk1gRS72O",
        "colab_type": "code",
        "colab": {}
      },
      "source": [
        "test_transformation = transforms.Compose([\n",
        "                    transforms.ToTensor(),\n",
        "                    transforms.Normalize((0.5,0.5,0.5),\n",
        "                                         (0.5,0.5,0.5)),\n",
        "      \n",
        "                                ])"
      ],
      "execution_count": 209,
      "outputs": []
    },
    {
      "cell_type": "code",
      "metadata": {
        "id": "BgyF63yqXxPY",
        "colab_type": "code",
        "colab": {}
      },
      "source": [
        ""
      ],
      "execution_count": 209,
      "outputs": []
    },
    {
      "cell_type": "code",
      "metadata": {
        "id": "0TLdIT_TXxfC",
        "colab_type": "code",
        "colab": {}
      },
      "source": [
        "train_dataset = MelanomaDataset(train_list,\n",
        "                                  \n",
        "                                   train=True,\n",
        "                                   transforms = train_transformation,\n",
        "\n",
        "                                   )"
      ],
      "execution_count": 210,
      "outputs": []
    },
    {
      "cell_type": "code",
      "metadata": {
        "id": "NXP0QfncSusf",
        "colab_type": "code",
        "colab": {}
      },
      "source": [
        "test_dataset = MelanomaDataset(test_list,\n",
        "                                  \n",
        "                                   train=True,\n",
        "                                   transforms = test_transformation,\n",
        "\n",
        "                                   )"
      ],
      "execution_count": 211,
      "outputs": []
    },
    {
      "cell_type": "code",
      "metadata": {
        "id": "SBgEVg2va5C5",
        "colab_type": "code",
        "colab": {}
      },
      "source": [
        "train_loader = torch.utils.data.DataLoader(train_dataset,\n",
        "                                               batch_size=4,\n",
        "                                               pin_memory=True,\n",
        "                                               num_workers=6,\n",
        "                                               shuffle=True\n",
        "                                               )"
      ],
      "execution_count": 192,
      "outputs": []
    },
    {
      "cell_type": "code",
      "metadata": {
        "id": "jQXhe9T2TO1O",
        "colab_type": "code",
        "colab": {}
      },
      "source": [
        "test_loader = torch.utils.data.DataLoader(test_dataset,\n",
        "                                               batch_size=4,\n",
        "                                               pin_memory=True,\n",
        "                                               num_workers=6\n",
        "                                               \n",
        "                                               )"
      ],
      "execution_count": 212,
      "outputs": []
    },
    {
      "cell_type": "code",
      "metadata": {
        "id": "1RagzrsnbNw0",
        "colab_type": "code",
        "colab": {
          "base_uri": "https://localhost:8080/",
          "height": 35
        },
        "outputId": "0d27f4ea-bacb-4443-a434-207d93064674"
      },
      "source": [
        "img,_ = next(iter(train_loader))\n",
        "_"
      ],
      "execution_count": 202,
      "outputs": [
        {
          "output_type": "execute_result",
          "data": {
            "text/plain": [
              "tensor([0., 0., 1., 1.])"
            ]
          },
          "metadata": {
            "tags": []
          },
          "execution_count": 202
        }
      ]
    },
    {
      "cell_type": "code",
      "metadata": {
        "id": "cFGLUjngM0vo",
        "colab_type": "code",
        "colab": {}
      },
      "source": [
        "# plt.imshow(img[0].permute( 2, 1,0))"
      ],
      "execution_count": 204,
      "outputs": []
    },
    {
      "cell_type": "code",
      "metadata": {
        "id": "uWAVR1s40zbz",
        "colab_type": "code",
        "colab": {
          "base_uri": "https://localhost:8080/",
          "height": 477
        },
        "outputId": "3b283b83-c4b6-4b53-95e7-86fac88ab9df"
      },
      "source": [
        "def _make_grid(image_path_list,label,n_row=2, n_col=2,fig_size=(6,6)):\n",
        "    fig = plt.figure(figsize=fig_size)\n",
        "    grid = ImageGrid(fig, 111,  # similar to subplot(111)\n",
        "                     nrows_ncols=(n_row,n_col),  # creates 2x2 grid of axes\n",
        "                     axes_pad=0.3,  # pad between axes in inch.\n",
        "                     )\n",
        "    print(label)\n",
        "    for ax,fname,title in zip(grid, image_path_list,label):\n",
        "        # Iterating over the grid returns the Axes.\n",
        "        # im= plt.imread(fname)\n",
        "        # file_name = fname.split('/')[-1]\n",
        "        ax.imshow(fname.permute( 2, 1,0))\n",
        "        ax.set_title(title,color='blue')\n",
        "\n",
        "    plt.show()\n",
        "\n",
        "_make_grid(img,_,n_row=2, n_col=2,fig_size=(6,6))"
      ],
      "execution_count": 203,
      "outputs": [
        {
          "output_type": "stream",
          "text": [
            "Clipping input data to the valid range for imshow with RGB data ([0..1] for floats or [0..255] for integers).\n",
            "Clipping input data to the valid range for imshow with RGB data ([0..1] for floats or [0..255] for integers).\n",
            "Clipping input data to the valid range for imshow with RGB data ([0..1] for floats or [0..255] for integers).\n",
            "Clipping input data to the valid range for imshow with RGB data ([0..1] for floats or [0..255] for integers).\n"
          ],
          "name": "stderr"
        },
        {
          "output_type": "stream",
          "text": [
            "tensor([0., 0., 1., 1.])\n"
          ],
          "name": "stdout"
        },
        {
          "output_type": "display_data",
          "data": {
            "image/png": "[encoded data removed]",
            "text/plain": [
              "<Figure size 432x432 with 8 Axes>"
            ]
          },
          "metadata": {
            "tags": [],
            "needs_background": "light"
          }
        }
      ]
    },
    {
      "cell_type": "code",
      "metadata": {
        "id": "X9T4Txo3cm15",
        "colab_type": "code",
        "colab": {
          "base_uri": "https://localhost:8080/",
          "height": 477
        },
        "outputId": "f9a8c0df-c4ae-4137-b30b-667b2b258bbb"
      },
      "source": [
        "img,_ = next(iter(test_loader))\n",
        "_make_grid(img,_,n_row=2, n_col=2,fig_size=(6,6))"
      ],
      "execution_count": 213,
      "outputs": [
        {
          "output_type": "stream",
          "text": [
            "Clipping input data to the valid range for imshow with RGB data ([0..1] for floats or [0..255] for integers).\n",
            "Clipping input data to the valid range for imshow with RGB data ([0..1] for floats or [0..255] for integers).\n",
            "Clipping input data to the valid range for imshow with RGB data ([0..1] for floats or [0..255] for integers).\n",
            "Clipping input data to the valid range for imshow with RGB data ([0..1] for floats or [0..255] for integers).\n"
          ],
          "name": "stderr"
        },
        {
          "output_type": "stream",
          "text": [
            "tensor([0., 0., 1., 1.])\n"
          ],
          "name": "stdout"
        },
        {
          "output_type": "display_data",
          "data": {
            "image/png": "[encoded data removed]",
            "text/plain": [
              "<Figure size 432x432 with 8 Axes>"
            ]
          },
          "metadata": {
            "tags": [],
            "needs_background": "light"
          }
        }
      ]
    },
    {
      "cell_type": "code",
      "metadata": {
        "id": "cGHry_YgTZK_",
        "colab_type": "code",
        "colab": {}
      },
      "source": [
        "class UnlabelledMelanomaDataset(Dataset):\n",
        "# dir_path, transform=None\n",
        "    def __init__(self, \n",
        "                 file_names: list, \n",
        "                 transforms = None):\n",
        "      \n",
        "        super().__init__()\n",
        "\n",
        "        self.image_ids = file_names\n",
        "        self.image_dir = os.path.commonprefix(file_names)\n",
        "        # self.labels = [os.path.basename(os.path.join(i)).split('.')[0].split('_')[1] \n",
        "        #                for i in file_names]\n",
        "\n",
        "        self.transform = transforms\n",
        "        # self.train = train\n",
        "\n",
        "\n",
        "    def __getitem__(self, index: int):\n",
        "        image_id = self.image_ids[index]\n",
        "\n",
        "        image = cv2.imread(f'{image_id}', cv2.IMREAD_COLOR)\n",
        "        image = cv2.cvtColor(image, cv2.COLOR_BGR2RGB)#.astype(np.float32)\n",
        "        # image /= 255.0\n",
        "        # image = torch.tensor(image)\n",
        "        \n",
        "        PIL_image = Image.fromarray(image)\n",
        "        # if self.train:\n",
        "        #   target = torch.tensor(np.float32(self.labels[index]))\n",
        "          \n",
        "        if self.transform:\n",
        "            image = self.transform(PIL_image)\n",
        "        return image\n",
        "\n",
        "    def __len__(self) -> int:\n",
        "        return len(self.image_ids)"
      ],
      "execution_count": 216,
      "outputs": []
    },
    {
      "cell_type": "code",
      "metadata": {
        "id": "GBv7M8meT32Q",
        "colab_type": "code",
        "colab": {}
      },
      "source": [
        ""
      ],
      "execution_count": 216,
      "outputs": []
    },
    {
      "cell_type": "code",
      "metadata": {
        "colab_type": "code",
        "id": "6bBDapyMUA5X",
        "colab": {}
      },
      "source": [
        "unlabelled_dataset = UnlabelledMelanomaDataset(unlabelled_list,\n",
        "                                  \n",
        "                          \n",
        "                                   transforms = test_transformation,\n",
        "\n",
        "                                   )"
      ],
      "execution_count": 217,
      "outputs": []
    },
    {
      "cell_type": "code",
      "metadata": {
        "colab_type": "code",
        "id": "_eVtjgVbUA5v",
        "colab": {}
      },
      "source": [
        "unlabelled_loader = torch.utils.data.DataLoader(unlabelled_dataset,\n",
        "                                               batch_size=4,\n",
        "                                               pin_memory=True,\n",
        "                                               num_workers=6,\n",
        "                                               shuffle=True\n",
        "                                               )"
      ],
      "execution_count": 218,
      "outputs": []
    },
    {
      "cell_type": "code",
      "metadata": {
        "id": "UY3fivb3UVwb",
        "colab_type": "code",
        "colab": {
          "base_uri": "https://localhost:8080/",
          "height": 477
        },
        "outputId": "08fb164e-9750-43a9-c49d-65a430274f06"
      },
      "source": [
        "img = next(iter(unlabelled_loader))\n",
        "_make_grid(img,['NA','NA','NA','NA'],n_row=2, n_col=2,fig_size=(6,6))"
      ],
      "execution_count": 220,
      "outputs": [
        {
          "output_type": "stream",
          "text": [
            "Clipping input data to the valid range for imshow with RGB data ([0..1] for floats or [0..255] for integers).\n",
            "Clipping input data to the valid range for imshow with RGB data ([0..1] for floats or [0..255] for integers).\n",
            "Clipping input data to the valid range for imshow with RGB data ([0..1] for floats or [0..255] for integers).\n",
            "Clipping input data to the valid range for imshow with RGB data ([0..1] for floats or [0..255] for integers).\n"
          ],
          "name": "stderr"
        },
        {
          "output_type": "stream",
          "text": [
            "['NA', 'NA', 'NA', 'NA']\n"
          ],
          "name": "stdout"
        },
        {
          "output_type": "display_data",
          "data": {
            "image/png": "[encoded data removed]",
            "text/plain": [
              "<Figure size 432x432 with 8 Axes>"
            ]
          },
          "metadata": {
            "tags": [],
            "needs_background": "light"
          }
        }
      ]
    },
    {
      "cell_type": "code",
      "metadata": {
        "id": "9lscJe05UfcT",
        "colab_type": "code",
        "colab": {}
      },
      "source": [
        ""
      ],
      "execution_count": null,
      "outputs": []
    }
  ]
}