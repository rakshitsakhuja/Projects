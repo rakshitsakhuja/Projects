{
  "nbformat": 4,
  "nbformat_minor": 0,
  "metadata": {
    "kernelspec": {
      "display_name": "Python 3",
      "language": "python",
      "name": "python3"
    },
    "language_info": {
      "codemirror_mode": {
        "name": "ipython",
        "version": 3
      },
      "file_extension": ".py",
      "mimetype": "text/x-python",
      "name": "python",
      "nbconvert_exporter": "python",
      "pygments_lexer": "ipython3",
      "version": "3.7.6"
    },
    "colab": {
      "name": "Captcha Recognition.ipynb",
      "provenance": [],
      "collapsed_sections": [],
      "include_colab_link": true
    },
    "accelerator": "GPU"
  },
  "cells": [
    {
      "cell_type": "markdown",
      "metadata": {
        "id": "view-in-github",
        "colab_type": "text"
      },
      "source": [
        "<a href=\"https://colab.research.google.com/github/rakshitsakhuja/Projects/blob/master/Captcha_Recognition.ipynb\" target=\"_parent\"><img src=\"https://colab.research.google.com/assets/colab-badge.svg\" alt=\"Open In Colab\"/></a>"
      ]
    },
    {
      "cell_type": "code",
      "metadata": {
        "id": "eVYKIiNQSSpe",
        "colab_type": "code",
        "colab": {}
      },
      "source": [
        "# !git clone https://github.com/rakshitsakhuja/Projects.git"
      ],
      "execution_count": 1,
      "outputs": []
    },
    {
      "cell_type": "code",
      "metadata": {
        "id": "NLYbpwD7SGgK",
        "colab_type": "code",
        "colab": {}
      },
      "source": [
        "import os\n",
        "os.chdir('Projects/Captcha_CTC/')"
      ],
      "execution_count": 2,
      "outputs": []
    },
    {
      "cell_type": "code",
      "metadata": {
        "id": "P9d2iU_bSiyP",
        "colab_type": "code",
        "colab": {}
      },
      "source": [
        "# os.makedirs('input',exist_ok=True)\n",
        "# !wget https://github.com/AakashKumarNain/CaptchaCracker/raw/master/captcha_images_v2.zip\n",
        "# !unzip captcha_images_v2.zip -d input/"
      ],
      "execution_count": 3,
      "outputs": []
    },
    {
      "cell_type": "code",
      "metadata": {
        "id": "ceuWGL--SGgW",
        "colab_type": "code",
        "colab": {}
      },
      "source": [
        "import functools\n",
        "import glob\n",
        "import operator\n",
        "import os\n",
        "from pprint import pprint\n",
        "\n",
        "import numpy as np\n",
        "import torch\n",
        "from sklearn import preprocessing, model_selection ,metrics\n",
        "from torch.utils import data\n",
        "\n",
        "import config\n",
        "import engine\n",
        "from dataset import CaptchaImageDataset\n",
        "from model import CaptchaModel\n",
        "from train import run_training\n",
        "\n",
        "\n"
      ],
      "execution_count": 4,
      "outputs": []
    },
    {
      "cell_type": "code",
      "metadata": {
        "id": "apoBZq83SGgi",
        "colab_type": "code",
        "colab": {
          "base_uri": "https://localhost:8080/",
          "height": 1000
        },
        "outputId": "a855ff7b-6c63-4e31-8277-1f88f0a05c5c"
      },
      "source": [
        "run_training()"
      ],
      "execution_count": 5,
      "outputs": [
        {
          "output_type": "stream",
          "text": [
            "/usr/local/lib/python3.6/dist-packages/torch/cuda/__init__.py:125: UserWarning: \n",
            "Tesla T4 with CUDA capability sm_75 is not compatible with the current PyTorch installation.\n",
            "The current PyTorch install supports CUDA capabilities sm_37 sm_50 sm_60 sm_70.\n",
            "If you want to use the Tesla T4 GPU with PyTorch, please check the instructions at https://pytorch.org/get-started/locally/\n",
            "\n",
            "  warnings.warn(incompatible_device_warn.format(device_name, capability, \" \".join(arch_list), device_name))\n",
            "  0%|          | 0/117 [00:00<?, ?it/s]"
          ],
          "name": "stderr"
        },
        {
          "output_type": "stream",
          "text": [
            "done\n"
          ],
          "name": "stdout"
        },
        {
          "output_type": "stream",
          "text": [
            "100%|██████████| 117/117 [00:02<00:00, 41.27it/s]\n",
            "100%|██████████| 13/13 [00:00<00:00, 28.58it/s]\n",
            "  0%|          | 0/117 [00:00<?, ?it/s]"
          ],
          "name": "stderr"
        },
        {
          "output_type": "stream",
          "text": [
            " \n",
            " Saving Best Model\n",
            "\n",
            " Epoch: 0,   train_loss:9.345838149388632,  test_loss:3.3861930003532996,   Accuracy=0.0\n"
          ],
          "name": "stdout"
        },
        {
          "output_type": "stream",
          "text": [
            "100%|██████████| 117/117 [00:02<00:00, 43.12it/s]\n",
            "100%|██████████| 13/13 [00:00<00:00, 28.93it/s]\n",
            "  0%|          | 0/117 [00:00<?, ?it/s]"
          ],
          "name": "stderr"
        },
        {
          "output_type": "stream",
          "text": [
            " \n",
            " Saving Best Model\n",
            "\n",
            " Epoch: 1,   train_loss:3.3569885074582873,  test_loss:3.3329154894902158,   Accuracy=0.0\n"
          ],
          "name": "stdout"
        },
        {
          "output_type": "stream",
          "text": [
            "100%|██████████| 117/117 [00:02<00:00, 42.60it/s]\n",
            "100%|██████████| 13/13 [00:00<00:00, 28.19it/s]\n",
            "  0%|          | 0/117 [00:00<?, ?it/s]"
          ],
          "name": "stderr"
        },
        {
          "output_type": "stream",
          "text": [
            " \n",
            " Saving Best Model\n",
            "\n",
            " Epoch: 2,   train_loss:3.314179548850426,  test_loss:3.32083483842703,   Accuracy=0.0\n"
          ],
          "name": "stdout"
        },
        {
          "output_type": "stream",
          "text": [
            "100%|██████████| 117/117 [00:02<00:00, 42.25it/s]\n",
            "100%|██████████| 13/13 [00:00<00:00, 29.32it/s]\n",
            "  0%|          | 0/117 [00:00<?, ?it/s]"
          ],
          "name": "stderr"
        },
        {
          "output_type": "stream",
          "text": [
            " \n",
            " Saving Best Model\n",
            "\n",
            " Epoch: 3,   train_loss:3.3002701967190475,  test_loss:3.311839507176326,   Accuracy=0.0\n"
          ],
          "name": "stdout"
        },
        {
          "output_type": "stream",
          "text": [
            "100%|██████████| 117/117 [00:02<00:00, 42.85it/s]\n",
            "100%|██████████| 13/13 [00:00<00:00, 29.27it/s]\n",
            "  0%|          | 0/117 [00:00<?, ?it/s]"
          ],
          "name": "stderr"
        },
        {
          "output_type": "stream",
          "text": [
            " \n",
            " Saving Best Model\n",
            "\n",
            " Epoch: 4,   train_loss:3.2916557422051063,  test_loss:3.3069876707517185,   Accuracy=0.0\n"
          ],
          "name": "stdout"
        },
        {
          "output_type": "stream",
          "text": [
            "100%|██████████| 117/117 [00:02<00:00, 42.58it/s]\n",
            "100%|██████████| 13/13 [00:00<00:00, 28.72it/s]\n",
            "  0%|          | 0/117 [00:00<?, ?it/s]"
          ],
          "name": "stderr"
        },
        {
          "output_type": "stream",
          "text": [
            " \n",
            " Saving Best Model\n",
            "\n",
            " Epoch: 5,   train_loss:3.2865366670820446,  test_loss:3.301845440497765,   Accuracy=0.0\n"
          ],
          "name": "stdout"
        },
        {
          "output_type": "stream",
          "text": [
            "100%|██████████| 117/117 [00:02<00:00, 42.60it/s]\n",
            "100%|██████████| 13/13 [00:00<00:00, 28.69it/s]\n",
            "  0%|          | 0/117 [00:00<?, ?it/s]"
          ],
          "name": "stderr"
        },
        {
          "output_type": "stream",
          "text": [
            " \n",
            " Saving Best Model\n",
            "\n",
            " Epoch: 6,   train_loss:3.281305826627291,  test_loss:3.2977032294640174,   Accuracy=0.0\n"
          ],
          "name": "stdout"
        },
        {
          "output_type": "stream",
          "text": [
            "100%|██████████| 117/117 [00:02<00:00, 42.46it/s]\n",
            "100%|██████████| 13/13 [00:00<00:00, 28.35it/s]\n",
            "  0%|          | 0/117 [00:00<?, ?it/s]"
          ],
          "name": "stderr"
        },
        {
          "output_type": "stream",
          "text": [
            " \n",
            " Saving Best Model\n",
            "\n",
            " Epoch: 7,   train_loss:3.278824414962377,  test_loss:3.2968689111562877,   Accuracy=0.0\n"
          ],
          "name": "stdout"
        },
        {
          "output_type": "stream",
          "text": [
            "100%|██████████| 117/117 [00:02<00:00, 42.82it/s]\n",
            "100%|██████████| 13/13 [00:00<00:00, 28.90it/s]\n",
            "  0%|          | 0/117 [00:00<?, ?it/s]"
          ],
          "name": "stderr"
        },
        {
          "output_type": "stream",
          "text": [
            " \n",
            " Saving Best Model\n",
            "\n",
            " Epoch: 8,   train_loss:3.2765583258408766,  test_loss:3.295425525078407,   Accuracy=0.0\n"
          ],
          "name": "stdout"
        },
        {
          "output_type": "stream",
          "text": [
            "100%|██████████| 117/117 [00:02<00:00, 42.56it/s]\n",
            "100%|██████████| 13/13 [00:00<00:00, 28.86it/s]\n",
            "  0%|          | 0/117 [00:00<?, ?it/s]"
          ],
          "name": "stderr"
        },
        {
          "output_type": "stream",
          "text": [
            " \n",
            " Saving Best Model\n",
            "\n",
            " Epoch: 9,   train_loss:3.275143254516471,  test_loss:3.29286736708421,   Accuracy=0.0\n"
          ],
          "name": "stdout"
        },
        {
          "output_type": "stream",
          "text": [
            "100%|██████████| 117/117 [00:02<00:00, 42.79it/s]\n",
            "100%|██████████| 13/13 [00:00<00:00, 28.76it/s]\n",
            "  0%|          | 0/117 [00:00<?, ?it/s]"
          ],
          "name": "stderr"
        },
        {
          "output_type": "stream",
          "text": [
            "\n",
            " Epoch: 10,   train_loss:3.2731240407014504,  test_loss:3.293486705193153,   Accuracy=0.0\n"
          ],
          "name": "stdout"
        },
        {
          "output_type": "stream",
          "text": [
            "100%|██████████| 117/117 [00:02<00:00, 42.39it/s]\n",
            "100%|██████████| 13/13 [00:00<00:00, 28.65it/s]\n",
            "  0%|          | 0/117 [00:00<?, ?it/s]"
          ],
          "name": "stderr"
        },
        {
          "output_type": "stream",
          "text": [
            " \n",
            " Saving Best Model\n",
            "\n",
            " Epoch: 11,   train_loss:3.27113021337069,  test_loss:3.289914076144879,   Accuracy=0.0\n"
          ],
          "name": "stdout"
        },
        {
          "output_type": "stream",
          "text": [
            "100%|██████████| 117/117 [00:02<00:00, 42.20it/s]\n",
            "100%|██████████| 13/13 [00:00<00:00, 29.04it/s]\n",
            "  0%|          | 0/117 [00:00<?, ?it/s]"
          ],
          "name": "stderr"
        },
        {
          "output_type": "stream",
          "text": [
            "\n",
            " Epoch: 12,   train_loss:3.2708048922383886,  test_loss:3.291838187437791,   Accuracy=0.0\n"
          ],
          "name": "stdout"
        },
        {
          "output_type": "stream",
          "text": [
            "100%|██████████| 117/117 [00:02<00:00, 42.13it/s]\n",
            "100%|██████████| 13/13 [00:00<00:00, 29.01it/s]\n",
            "  0%|          | 0/117 [00:00<?, ?it/s]"
          ],
          "name": "stderr"
        },
        {
          "output_type": "stream",
          "text": [
            "\n",
            " Epoch: 13,   train_loss:3.2707117500468197,  test_loss:3.2909760291759786,   Accuracy=0.0\n"
          ],
          "name": "stdout"
        },
        {
          "output_type": "stream",
          "text": [
            "100%|██████████| 117/117 [00:02<00:00, 42.37it/s]\n",
            "100%|██████████| 13/13 [00:00<00:00, 28.23it/s]\n",
            "  0%|          | 0/117 [00:00<?, ?it/s]"
          ],
          "name": "stderr"
        },
        {
          "output_type": "stream",
          "text": [
            "\n",
            " Epoch: 14,   train_loss:3.269103476124951,  test_loss:3.2899258686945987,   Accuracy=0.0\n"
          ],
          "name": "stdout"
        },
        {
          "output_type": "stream",
          "text": [
            "100%|██████████| 117/117 [00:02<00:00, 42.50it/s]\n",
            "100%|██████████| 13/13 [00:00<00:00, 28.83it/s]\n",
            "  0%|          | 0/117 [00:00<?, ?it/s]"
          ],
          "name": "stderr"
        },
        {
          "output_type": "stream",
          "text": [
            "\n",
            " Epoch: 15,   train_loss:3.2684302289261775,  test_loss:3.2913531156686635,   Accuracy=0.0\n"
          ],
          "name": "stdout"
        },
        {
          "output_type": "stream",
          "text": [
            "100%|██████████| 117/117 [00:02<00:00, 42.46it/s]\n",
            "100%|██████████| 13/13 [00:00<00:00, 28.77it/s]\n",
            "  0%|          | 0/117 [00:00<?, ?it/s]"
          ],
          "name": "stderr"
        },
        {
          "output_type": "stream",
          "text": [
            "\n",
            " Epoch: 16,   train_loss:3.2693835996155047,  test_loss:3.2902857340299168,   Accuracy=0.0\n"
          ],
          "name": "stdout"
        },
        {
          "output_type": "stream",
          "text": [
            "100%|██████████| 117/117 [00:02<00:00, 42.90it/s]\n",
            "100%|██████████| 13/13 [00:00<00:00, 28.49it/s]\n",
            "  0%|          | 0/117 [00:00<?, ?it/s]"
          ],
          "name": "stderr"
        },
        {
          "output_type": "stream",
          "text": [
            "\n",
            " Epoch: 17,   train_loss:3.2673143484653573,  test_loss:3.2903566360473633,   Accuracy=0.0\n",
            "Epoch    18: reducing learning rate of group 0 to 2.4000e-04.\n"
          ],
          "name": "stdout"
        },
        {
          "output_type": "stream",
          "text": [
            "100%|██████████| 117/117 [00:02<00:00, 42.95it/s]\n",
            "100%|██████████| 13/13 [00:00<00:00, 28.89it/s]\n",
            "  0%|          | 0/117 [00:00<?, ?it/s]"
          ],
          "name": "stderr"
        },
        {
          "output_type": "stream",
          "text": [
            "\n",
            " Epoch: 18,   train_loss:3.267121979314038,  test_loss:3.2908527117509108,   Accuracy=0.0\n"
          ],
          "name": "stdout"
        },
        {
          "output_type": "stream",
          "text": [
            "100%|██████████| 117/117 [00:02<00:00, 41.97it/s]\n",
            "100%|██████████| 13/13 [00:00<00:00, 29.70it/s]\n",
            "  0%|          | 0/117 [00:00<?, ?it/s]"
          ],
          "name": "stderr"
        },
        {
          "output_type": "stream",
          "text": [
            " \n",
            " Saving Best Model\n",
            "\n",
            " Epoch: 19,   train_loss:3.267349029198671,  test_loss:3.289051807843722,   Accuracy=0.0\n"
          ],
          "name": "stdout"
        },
        {
          "output_type": "stream",
          "text": [
            "100%|██████████| 117/117 [00:02<00:00, 42.31it/s]\n",
            "100%|██████████| 13/13 [00:00<00:00, 30.02it/s]\n",
            "  0%|          | 0/117 [00:00<?, ?it/s]"
          ],
          "name": "stderr"
        },
        {
          "output_type": "stream",
          "text": [
            " \n",
            " Saving Best Model\n",
            "\n",
            " Epoch: 20,   train_loss:3.2678800525828304,  test_loss:3.288591659986056,   Accuracy=0.0\n"
          ],
          "name": "stdout"
        },
        {
          "output_type": "stream",
          "text": [
            "100%|██████████| 117/117 [00:02<00:00, 42.67it/s]\n",
            "100%|██████████| 13/13 [00:00<00:00, 28.77it/s]\n",
            "  0%|          | 0/117 [00:00<?, ?it/s]"
          ],
          "name": "stderr"
        },
        {
          "output_type": "stream",
          "text": [
            "\n",
            " Epoch: 21,   train_loss:3.266480203367706,  test_loss:3.292721601632925,   Accuracy=0.0\n"
          ],
          "name": "stdout"
        },
        {
          "output_type": "stream",
          "text": [
            "100%|██████████| 117/117 [00:02<00:00, 42.43it/s]\n",
            "100%|██████████| 13/13 [00:00<00:00, 26.07it/s]\n",
            "  0%|          | 0/117 [00:00<?, ?it/s]"
          ],
          "name": "stderr"
        },
        {
          "output_type": "stream",
          "text": [
            "\n",
            " Epoch: 22,   train_loss:3.266223730185093,  test_loss:3.2896712926717906,   Accuracy=0.0\n"
          ],
          "name": "stdout"
        },
        {
          "output_type": "stream",
          "text": [
            "100%|██████████| 117/117 [00:02<00:00, 42.66it/s]\n",
            "100%|██████████| 13/13 [00:00<00:00, 28.84it/s]\n",
            "  0%|          | 0/117 [00:00<?, ?it/s]"
          ],
          "name": "stderr"
        },
        {
          "output_type": "stream",
          "text": [
            "\n",
            " Epoch: 23,   train_loss:3.267612171988202,  test_loss:3.2907181152930627,   Accuracy=0.0\n"
          ],
          "name": "stdout"
        },
        {
          "output_type": "stream",
          "text": [
            "100%|██████████| 117/117 [00:02<00:00, 42.48it/s]\n",
            "100%|██████████| 13/13 [00:00<00:00, 28.26it/s]\n",
            "  0%|          | 0/117 [00:00<?, ?it/s]"
          ],
          "name": "stderr"
        },
        {
          "output_type": "stream",
          "text": [
            " \n",
            " Saving Best Model\n",
            "\n",
            " Epoch: 24,   train_loss:3.267341625996125,  test_loss:3.286532622117263,   Accuracy=0.0\n"
          ],
          "name": "stdout"
        },
        {
          "output_type": "stream",
          "text": [
            "100%|██████████| 117/117 [00:02<00:00, 42.40it/s]\n",
            "100%|██████████| 13/13 [00:00<00:00, 29.51it/s]\n",
            "  0%|          | 0/117 [00:00<?, ?it/s]"
          ],
          "name": "stderr"
        },
        {
          "output_type": "stream",
          "text": [
            "\n",
            " Epoch: 25,   train_loss:3.2683646149105496,  test_loss:3.290542932657095,   Accuracy=0.0\n"
          ],
          "name": "stdout"
        },
        {
          "output_type": "stream",
          "text": [
            "100%|██████████| 117/117 [00:02<00:00, 42.54it/s]\n",
            "100%|██████████| 13/13 [00:00<00:00, 28.90it/s]\n",
            "  0%|          | 0/117 [00:00<?, ?it/s]"
          ],
          "name": "stderr"
        },
        {
          "output_type": "stream",
          "text": [
            "\n",
            " Epoch: 26,   train_loss:3.2671043302258873,  test_loss:3.288932286776029,   Accuracy=0.0\n"
          ],
          "name": "stdout"
        },
        {
          "output_type": "stream",
          "text": [
            "100%|██████████| 117/117 [00:02<00:00, 42.72it/s]\n",
            "100%|██████████| 13/13 [00:00<00:00, 28.70it/s]\n",
            "  0%|          | 0/117 [00:00<?, ?it/s]"
          ],
          "name": "stderr"
        },
        {
          "output_type": "stream",
          "text": [
            "\n",
            " Epoch: 27,   train_loss:3.2673638417170596,  test_loss:3.2899248049809384,   Accuracy=0.0\n"
          ],
          "name": "stdout"
        },
        {
          "output_type": "stream",
          "text": [
            "100%|██████████| 117/117 [00:02<00:00, 43.15it/s]\n",
            "100%|██████████| 13/13 [00:00<00:00, 29.06it/s]\n",
            "  0%|          | 0/117 [00:00<?, ?it/s]"
          ],
          "name": "stderr"
        },
        {
          "output_type": "stream",
          "text": [
            "\n",
            " Epoch: 28,   train_loss:3.267442226409912,  test_loss:3.289577392431406,   Accuracy=0.0\n"
          ],
          "name": "stdout"
        },
        {
          "output_type": "stream",
          "text": [
            "100%|██████████| 117/117 [00:02<00:00, 42.51it/s]\n",
            "100%|██████████| 13/13 [00:00<00:00, 29.48it/s]\n",
            "  0%|          | 0/117 [00:00<?, ?it/s]"
          ],
          "name": "stderr"
        },
        {
          "output_type": "stream",
          "text": [
            "\n",
            " Epoch: 29,   train_loss:3.267620184482672,  test_loss:3.287149117543147,   Accuracy=0.0\n"
          ],
          "name": "stdout"
        },
        {
          "output_type": "stream",
          "text": [
            "100%|██████████| 117/117 [00:02<00:00, 42.72it/s]\n",
            "100%|██████████| 13/13 [00:00<00:00, 28.44it/s]\n",
            "  0%|          | 0/117 [00:00<?, ?it/s]"
          ],
          "name": "stderr"
        },
        {
          "output_type": "stream",
          "text": [
            "\n",
            " Epoch: 30,   train_loss:3.26691140476455,  test_loss:3.2890698176163893,   Accuracy=0.0\n",
            "Epoch    31: reducing learning rate of group 0 to 1.9200e-04.\n"
          ],
          "name": "stdout"
        },
        {
          "output_type": "stream",
          "text": [
            "100%|██████████| 117/117 [00:02<00:00, 42.80it/s]\n",
            "100%|██████████| 13/13 [00:00<00:00, 28.26it/s]\n",
            "  0%|          | 0/117 [00:00<?, ?it/s]"
          ],
          "name": "stderr"
        },
        {
          "output_type": "stream",
          "text": [
            "\n",
            " Epoch: 31,   train_loss:3.267251740154038,  test_loss:3.2913449910970836,   Accuracy=0.0\n"
          ],
          "name": "stdout"
        },
        {
          "output_type": "stream",
          "text": [
            "100%|██████████| 117/117 [00:02<00:00, 42.89it/s]\n",
            "100%|██████████| 13/13 [00:00<00:00, 27.84it/s]\n",
            "  0%|          | 0/117 [00:00<?, ?it/s]"
          ],
          "name": "stderr"
        },
        {
          "output_type": "stream",
          "text": [
            "\n",
            " Epoch: 32,   train_loss:3.266157131928664,  test_loss:3.2894668945899377,   Accuracy=0.0\n"
          ],
          "name": "stdout"
        },
        {
          "output_type": "stream",
          "text": [
            "100%|██████████| 117/117 [00:02<00:00, 42.66it/s]\n",
            "100%|██████████| 13/13 [00:00<00:00, 29.03it/s]\n",
            "  0%|          | 0/117 [00:00<?, ?it/s]"
          ],
          "name": "stderr"
        },
        {
          "output_type": "stream",
          "text": [
            "\n",
            " Epoch: 33,   train_loss:3.267010063187689,  test_loss:3.290196180343628,   Accuracy=0.0\n"
          ],
          "name": "stdout"
        },
        {
          "output_type": "stream",
          "text": [
            "100%|██████████| 117/117 [00:02<00:00, 42.93it/s]\n",
            "100%|██████████| 13/13 [00:00<00:00, 29.53it/s]\n",
            "  0%|          | 0/117 [00:00<?, ?it/s]"
          ],
          "name": "stderr"
        },
        {
          "output_type": "stream",
          "text": [
            "\n",
            " Epoch: 34,   train_loss:3.267280941335564,  test_loss:3.2924285301795373,   Accuracy=0.0\n"
          ],
          "name": "stdout"
        },
        {
          "output_type": "stream",
          "text": [
            "100%|██████████| 117/117 [00:02<00:00, 42.85it/s]\n",
            "100%|██████████| 13/13 [00:00<00:00, 29.34it/s]\n",
            "  0%|          | 0/117 [00:00<?, ?it/s]"
          ],
          "name": "stderr"
        },
        {
          "output_type": "stream",
          "text": [
            "\n",
            " Epoch: 35,   train_loss:3.266723738776313,  test_loss:3.292561549406785,   Accuracy=0.0\n"
          ],
          "name": "stdout"
        },
        {
          "output_type": "stream",
          "text": [
            "100%|██████████| 117/117 [00:02<00:00, 42.88it/s]\n",
            "100%|██████████| 13/13 [00:00<00:00, 28.24it/s]\n",
            "  0%|          | 0/117 [00:00<?, ?it/s]"
          ],
          "name": "stderr"
        },
        {
          "output_type": "stream",
          "text": [
            "\n",
            " Epoch: 36,   train_loss:3.2662587634518614,  test_loss:3.2926255739652195,   Accuracy=0.0\n",
            "Epoch    37: reducing learning rate of group 0 to 1.5360e-04.\n"
          ],
          "name": "stdout"
        },
        {
          "output_type": "stream",
          "text": [
            "100%|██████████| 117/117 [00:02<00:00, 42.84it/s]\n",
            "100%|██████████| 13/13 [00:00<00:00, 28.48it/s]\n",
            "  0%|          | 0/117 [00:00<?, ?it/s]"
          ],
          "name": "stderr"
        },
        {
          "output_type": "stream",
          "text": [
            "\n",
            " Epoch: 37,   train_loss:3.2668601060524964,  test_loss:3.2936865916618934,   Accuracy=0.0\n"
          ],
          "name": "stdout"
        },
        {
          "output_type": "stream",
          "text": [
            "100%|██████████| 117/117 [00:02<00:00, 42.98it/s]\n",
            "100%|██████████| 13/13 [00:00<00:00, 29.49it/s]\n",
            "  0%|          | 0/117 [00:00<?, ?it/s]"
          ],
          "name": "stderr"
        },
        {
          "output_type": "stream",
          "text": [
            "\n",
            " Epoch: 38,   train_loss:3.2654479854127283,  test_loss:3.2947679116175723,   Accuracy=0.0\n"
          ],
          "name": "stdout"
        },
        {
          "output_type": "stream",
          "text": [
            "100%|██████████| 117/117 [00:02<00:00, 42.60it/s]\n",
            "100%|██████████| 13/13 [00:00<00:00, 29.16it/s]\n",
            "  0%|          | 0/117 [00:00<?, ?it/s]"
          ],
          "name": "stderr"
        },
        {
          "output_type": "stream",
          "text": [
            "\n",
            " Epoch: 39,   train_loss:3.266587161610269,  test_loss:3.294493235074557,   Accuracy=0.0\n"
          ],
          "name": "stdout"
        },
        {
          "output_type": "stream",
          "text": [
            "100%|██████████| 117/117 [00:02<00:00, 42.93it/s]\n",
            "100%|██████████| 13/13 [00:00<00:00, 29.19it/s]\n",
            "  0%|          | 0/117 [00:00<?, ?it/s]"
          ],
          "name": "stderr"
        },
        {
          "output_type": "stream",
          "text": [
            "\n",
            " Epoch: 40,   train_loss:3.263601019851163,  test_loss:3.2918095405285177,   Accuracy=0.0\n"
          ],
          "name": "stdout"
        },
        {
          "output_type": "stream",
          "text": [
            "100%|██████████| 117/117 [00:02<00:00, 42.57it/s]\n",
            "100%|██████████| 13/13 [00:00<00:00, 27.83it/s]\n",
            "  0%|          | 0/117 [00:00<?, ?it/s]"
          ],
          "name": "stderr"
        },
        {
          "output_type": "stream",
          "text": [
            " \n",
            " Saving Best Model\n",
            "\n",
            " Epoch: 41,   train_loss:3.2582751950647078,  test_loss:3.2767525086036096,   Accuracy=0.0\n"
          ],
          "name": "stdout"
        },
        {
          "output_type": "stream",
          "text": [
            "100%|██████████| 117/117 [00:02<00:00, 41.43it/s]\n",
            "100%|██████████| 13/13 [00:00<00:00, 26.69it/s]\n",
            "  0%|          | 0/117 [00:00<?, ?it/s]"
          ],
          "name": "stderr"
        },
        {
          "output_type": "stream",
          "text": [
            " \n",
            " Saving Best Model\n",
            "\n",
            " Epoch: 42,   train_loss:3.2382173578963322,  test_loss:3.218057265648475,   Accuracy=0.0\n"
          ],
          "name": "stdout"
        },
        {
          "output_type": "stream",
          "text": [
            "100%|██████████| 117/117 [00:02<00:00, 41.85it/s]\n",
            "100%|██████████| 13/13 [00:00<00:00, 27.86it/s]\n",
            "  0%|          | 0/117 [00:00<?, ?it/s]"
          ],
          "name": "stderr"
        },
        {
          "output_type": "stream",
          "text": [
            " \n",
            " Saving Best Model\n",
            "\n",
            " Epoch: 43,   train_loss:3.1804376035674005,  test_loss:3.1062730642465444,   Accuracy=0.0\n"
          ],
          "name": "stdout"
        },
        {
          "output_type": "stream",
          "text": [
            "100%|██████████| 117/117 [00:02<00:00, 41.76it/s]\n",
            "100%|██████████| 13/13 [00:00<00:00, 28.02it/s]\n",
            "  0%|          | 0/117 [00:00<?, ?it/s]"
          ],
          "name": "stderr"
        },
        {
          "output_type": "stream",
          "text": [
            " \n",
            " Saving Best Model\n",
            "\n",
            " Epoch: 44,   train_loss:3.0939368814484687,  test_loss:3.0097922545212965,   Accuracy=0.0\n"
          ],
          "name": "stdout"
        },
        {
          "output_type": "stream",
          "text": [
            "100%|██████████| 117/117 [00:02<00:00, 41.93it/s]\n",
            "100%|██████████| 13/13 [00:00<00:00, 27.95it/s]\n",
            "  0%|          | 0/117 [00:00<?, ?it/s]"
          ],
          "name": "stderr"
        },
        {
          "output_type": "stream",
          "text": [
            " \n",
            " Saving Best Model\n",
            "\n",
            " Epoch: 45,   train_loss:2.980295876152495,  test_loss:2.839531715099628,   Accuracy=0.0\n"
          ],
          "name": "stdout"
        },
        {
          "output_type": "stream",
          "text": [
            "100%|██████████| 117/117 [00:02<00:00, 42.05it/s]\n",
            "100%|██████████| 13/13 [00:00<00:00, 28.39it/s]\n",
            "  0%|          | 0/117 [00:00<?, ?it/s]"
          ],
          "name": "stderr"
        },
        {
          "output_type": "stream",
          "text": [
            " \n",
            " Saving Best Model\n",
            "\n",
            " Epoch: 46,   train_loss:2.8054418665731053,  test_loss:2.5842102490938625,   Accuracy=0.0\n"
          ],
          "name": "stdout"
        },
        {
          "output_type": "stream",
          "text": [
            "100%|██████████| 117/117 [00:02<00:00, 42.54it/s]\n",
            "100%|██████████| 13/13 [00:00<00:00, 27.93it/s]\n",
            "  0%|          | 0/117 [00:00<?, ?it/s]"
          ],
          "name": "stderr"
        },
        {
          "output_type": "stream",
          "text": [
            " \n",
            " Saving Best Model\n",
            "\n",
            " Epoch: 47,   train_loss:2.577993625249618,  test_loss:2.3544317208803616,   Accuracy=0.0\n"
          ],
          "name": "stdout"
        },
        {
          "output_type": "stream",
          "text": [
            "100%|██████████| 117/117 [00:02<00:00, 42.66it/s]\n",
            "100%|██████████| 13/13 [00:00<00:00, 28.45it/s]\n",
            "  0%|          | 0/117 [00:00<?, ?it/s]"
          ],
          "name": "stderr"
        },
        {
          "output_type": "stream",
          "text": [
            " \n",
            " Saving Best Model\n",
            "\n",
            " Epoch: 48,   train_loss:2.389315026438134,  test_loss:2.186704232142522,   Accuracy=0.0\n"
          ],
          "name": "stdout"
        },
        {
          "output_type": "stream",
          "text": [
            "100%|██████████| 117/117 [00:02<00:00, 42.72it/s]\n",
            "100%|██████████| 13/13 [00:00<00:00, 28.39it/s]\n",
            "  0%|          | 0/117 [00:00<?, ?it/s]"
          ],
          "name": "stderr"
        },
        {
          "output_type": "stream",
          "text": [
            " \n",
            " Saving Best Model\n",
            "\n",
            " Epoch: 49,   train_loss:2.2104215805347147,  test_loss:2.0608877952282247,   Accuracy=0.009615384615384616\n"
          ],
          "name": "stdout"
        },
        {
          "output_type": "stream",
          "text": [
            "100%|██████████| 117/117 [00:02<00:00, 42.82it/s]\n",
            "100%|██████████| 13/13 [00:00<00:00, 17.58it/s]\n",
            "  0%|          | 0/117 [00:00<?, ?it/s]"
          ],
          "name": "stderr"
        },
        {
          "output_type": "stream",
          "text": [
            " \n",
            " Saving Best Model\n",
            "\n",
            " Epoch: 50,   train_loss:2.0531382255065136,  test_loss:1.8818253095333393,   Accuracy=0.019230769230769232\n"
          ],
          "name": "stdout"
        },
        {
          "output_type": "stream",
          "text": [
            "100%|██████████| 117/117 [00:03<00:00, 38.79it/s]\n",
            "100%|██████████| 13/13 [00:00<00:00, 17.17it/s]\n",
            "  0%|          | 0/117 [00:00<?, ?it/s]"
          ],
          "name": "stderr"
        },
        {
          "output_type": "stream",
          "text": [
            " \n",
            " Saving Best Model\n",
            "\n",
            " Epoch: 51,   train_loss:1.8957285677265918,  test_loss:1.716092192209684,   Accuracy=0.009615384615384616\n"
          ],
          "name": "stdout"
        },
        {
          "output_type": "stream",
          "text": [
            "100%|██████████| 117/117 [00:03<00:00, 38.53it/s]\n",
            "100%|██████████| 13/13 [00:00<00:00, 18.02it/s]\n",
            "  0%|          | 0/117 [00:00<?, ?it/s]"
          ],
          "name": "stderr"
        },
        {
          "output_type": "stream",
          "text": [
            " \n",
            " Saving Best Model\n",
            "\n",
            " Epoch: 52,   train_loss:1.7261710472595997,  test_loss:1.531937415783222,   Accuracy=0.038461538461538464\n"
          ],
          "name": "stdout"
        },
        {
          "output_type": "stream",
          "text": [
            "100%|██████████| 117/117 [00:03<00:00, 38.85it/s]\n",
            "100%|██████████| 13/13 [00:00<00:00, 17.29it/s]\n",
            "  0%|          | 0/117 [00:00<?, ?it/s]"
          ],
          "name": "stderr"
        },
        {
          "output_type": "stream",
          "text": [
            " \n",
            " Saving Best Model\n",
            "\n",
            " Epoch: 53,   train_loss:1.5499667866617186,  test_loss:1.3449081916075487,   Accuracy=0.0673076923076923\n"
          ],
          "name": "stdout"
        },
        {
          "output_type": "stream",
          "text": [
            "100%|██████████| 117/117 [00:02<00:00, 39.33it/s]\n",
            "100%|██████████| 13/13 [00:00<00:00, 17.91it/s]\n",
            "  0%|          | 0/117 [00:00<?, ?it/s]"
          ],
          "name": "stderr"
        },
        {
          "output_type": "stream",
          "text": [
            " \n",
            " Saving Best Model\n",
            "\n",
            " Epoch: 54,   train_loss:1.3953391282986372,  test_loss:1.1889832386603723,   Accuracy=0.07692307692307693\n"
          ],
          "name": "stdout"
        },
        {
          "output_type": "stream",
          "text": [
            "100%|██████████| 117/117 [00:03<00:00, 38.65it/s]\n",
            "100%|██████████| 13/13 [00:00<00:00, 17.77it/s]\n",
            "  0%|          | 0/117 [00:00<?, ?it/s]"
          ],
          "name": "stderr"
        },
        {
          "output_type": "stream",
          "text": [
            " \n",
            " Saving Best Model\n",
            "\n",
            " Epoch: 55,   train_loss:1.2414892127371242,  test_loss:1.03530798967068,   Accuracy=0.20192307692307693\n"
          ],
          "name": "stdout"
        },
        {
          "output_type": "stream",
          "text": [
            "100%|██████████| 117/117 [00:02<00:00, 39.15it/s]\n",
            "100%|██████████| 13/13 [00:00<00:00, 17.35it/s]\n",
            "  0%|          | 0/117 [00:00<?, ?it/s]"
          ],
          "name": "stderr"
        },
        {
          "output_type": "stream",
          "text": [
            " \n",
            " Saving Best Model\n",
            "\n",
            " Epoch: 56,   train_loss:1.0933122201862497,  test_loss:0.9014881757589487,   Accuracy=0.2692307692307692\n"
          ],
          "name": "stdout"
        },
        {
          "output_type": "stream",
          "text": [
            "100%|██████████| 117/117 [00:03<00:00, 38.65it/s]\n",
            "100%|██████████| 13/13 [00:00<00:00, 18.09it/s]\n",
            "  0%|          | 0/117 [00:00<?, ?it/s]"
          ],
          "name": "stderr"
        },
        {
          "output_type": "stream",
          "text": [
            " \n",
            " Saving Best Model\n",
            "\n",
            " Epoch: 57,   train_loss:0.9803081017274123,  test_loss:0.7854202114618741,   Accuracy=0.25961538461538464\n"
          ],
          "name": "stdout"
        },
        {
          "output_type": "stream",
          "text": [
            "100%|██████████| 117/117 [00:03<00:00, 38.68it/s]\n",
            "100%|██████████| 13/13 [00:00<00:00, 17.43it/s]\n",
            "  0%|          | 0/117 [00:00<?, ?it/s]"
          ],
          "name": "stderr"
        },
        {
          "output_type": "stream",
          "text": [
            " \n",
            " Saving Best Model\n",
            "\n",
            " Epoch: 58,   train_loss:0.8805097550408453,  test_loss:0.7017299807988681,   Accuracy=0.3076923076923077\n"
          ],
          "name": "stdout"
        },
        {
          "output_type": "stream",
          "text": [
            "100%|██████████| 117/117 [00:03<00:00, 38.28it/s]\n",
            "100%|██████████| 13/13 [00:00<00:00, 17.54it/s]\n",
            "  0%|          | 0/117 [00:00<?, ?it/s]"
          ],
          "name": "stderr"
        },
        {
          "output_type": "stream",
          "text": [
            " \n",
            " Saving Best Model\n",
            "\n",
            " Epoch: 59,   train_loss:0.8029810913607606,  test_loss:0.6572163930306067,   Accuracy=0.33653846153846156\n"
          ],
          "name": "stdout"
        },
        {
          "output_type": "stream",
          "text": [
            "100%|██████████| 117/117 [00:02<00:00, 39.12it/s]\n",
            "100%|██████████| 13/13 [00:00<00:00, 17.27it/s]\n",
            "  0%|          | 0/117 [00:00<?, ?it/s]"
          ],
          "name": "stderr"
        },
        {
          "output_type": "stream",
          "text": [
            " \n",
            " Saving Best Model\n",
            "\n",
            " Epoch: 60,   train_loss:0.730093838312687,  test_loss:0.5961606204509735,   Accuracy=0.3269230769230769\n"
          ],
          "name": "stdout"
        },
        {
          "output_type": "stream",
          "text": [
            "100%|██████████| 117/117 [00:03<00:00, 38.95it/s]\n",
            "100%|██████████| 13/13 [00:00<00:00, 17.77it/s]\n",
            "  0%|          | 0/117 [00:00<?, ?it/s]"
          ],
          "name": "stderr"
        },
        {
          "output_type": "stream",
          "text": [
            " \n",
            " Saving Best Model\n",
            "\n",
            " Epoch: 61,   train_loss:0.6763970867181436,  test_loss:0.5766614010700812,   Accuracy=0.41346153846153844\n"
          ],
          "name": "stdout"
        },
        {
          "output_type": "stream",
          "text": [
            "100%|██████████| 117/117 [00:03<00:00, 38.61it/s]\n",
            "100%|██████████| 13/13 [00:00<00:00, 17.67it/s]\n",
            "  0%|          | 0/117 [00:00<?, ?it/s]"
          ],
          "name": "stderr"
        },
        {
          "output_type": "stream",
          "text": [
            " \n",
            " Saving Best Model\n",
            "\n",
            " Epoch: 62,   train_loss:0.6229919218100034,  test_loss:0.5226900050273309,   Accuracy=0.4519230769230769\n"
          ],
          "name": "stdout"
        },
        {
          "output_type": "stream",
          "text": [
            "100%|██████████| 117/117 [00:03<00:00, 38.64it/s]\n",
            "100%|██████████| 13/13 [00:00<00:00, 17.61it/s]\n",
            "  0%|          | 0/117 [00:00<?, ?it/s]"
          ],
          "name": "stderr"
        },
        {
          "output_type": "stream",
          "text": [
            " \n",
            " Saving Best Model\n",
            "\n",
            " Epoch: 63,   train_loss:0.5770715796030484,  test_loss:0.49553354657613313,   Accuracy=0.41346153846153844\n"
          ],
          "name": "stdout"
        },
        {
          "output_type": "stream",
          "text": [
            "100%|██████████| 117/117 [00:02<00:00, 39.22it/s]\n",
            "100%|██████████| 13/13 [00:00<00:00, 17.40it/s]\n",
            "  0%|          | 0/117 [00:00<?, ?it/s]"
          ],
          "name": "stderr"
        },
        {
          "output_type": "stream",
          "text": [
            " \n",
            " Saving Best Model\n",
            "\n",
            " Epoch: 64,   train_loss:0.539085620488876,  test_loss:0.45883856828396136,   Accuracy=0.4807692307692308\n"
          ],
          "name": "stdout"
        },
        {
          "output_type": "stream",
          "text": [
            "100%|██████████| 117/117 [00:03<00:00, 38.65it/s]\n",
            "100%|██████████| 13/13 [00:00<00:00, 17.25it/s]\n",
            "  0%|          | 0/117 [00:00<?, ?it/s]"
          ],
          "name": "stderr"
        },
        {
          "output_type": "stream",
          "text": [
            " \n",
            " Saving Best Model\n",
            "\n",
            " Epoch: 65,   train_loss:0.5145991974406772,  test_loss:0.4483088392477769,   Accuracy=0.5192307692307693\n"
          ],
          "name": "stdout"
        },
        {
          "output_type": "stream",
          "text": [
            "100%|██████████| 117/117 [00:03<00:00, 38.26it/s]\n",
            "100%|██████████| 13/13 [00:00<00:00, 17.56it/s]\n",
            "  0%|          | 0/117 [00:00<?, ?it/s]"
          ],
          "name": "stderr"
        },
        {
          "output_type": "stream",
          "text": [
            " \n",
            " Saving Best Model\n",
            "\n",
            " Epoch: 66,   train_loss:0.4850823364706121,  test_loss:0.43885982495087844,   Accuracy=0.4519230769230769\n"
          ],
          "name": "stdout"
        },
        {
          "output_type": "stream",
          "text": [
            "100%|██████████| 117/117 [00:03<00:00, 38.33it/s]\n",
            "100%|██████████| 13/13 [00:00<00:00, 17.48it/s]\n",
            "  0%|          | 0/117 [00:00<?, ?it/s]"
          ],
          "name": "stderr"
        },
        {
          "output_type": "stream",
          "text": [
            " \n",
            " Saving Best Model\n",
            "\n",
            " Epoch: 67,   train_loss:0.46312014542074287,  test_loss:0.4222803654579016,   Accuracy=0.5096153846153846\n"
          ],
          "name": "stdout"
        },
        {
          "output_type": "stream",
          "text": [
            "100%|██████████| 117/117 [00:03<00:00, 38.85it/s]\n",
            "100%|██████████| 13/13 [00:00<00:00, 18.02it/s]\n",
            "  0%|          | 0/117 [00:00<?, ?it/s]"
          ],
          "name": "stderr"
        },
        {
          "output_type": "stream",
          "text": [
            " \n",
            " Saving Best Model\n",
            "\n",
            " Epoch: 68,   train_loss:0.444514956102412,  test_loss:0.42127641576987046,   Accuracy=0.5673076923076923\n"
          ],
          "name": "stdout"
        },
        {
          "output_type": "stream",
          "text": [
            "100%|██████████| 117/117 [00:03<00:00, 38.72it/s]\n",
            "100%|██████████| 13/13 [00:00<00:00, 17.79it/s]\n",
            "  0%|          | 0/117 [00:00<?, ?it/s]"
          ],
          "name": "stderr"
        },
        {
          "output_type": "stream",
          "text": [
            " \n",
            " Saving Best Model\n",
            "\n",
            " Epoch: 69,   train_loss:0.4113359265347831,  test_loss:0.39008283844360936,   Accuracy=0.49038461538461536\n"
          ],
          "name": "stdout"
        },
        {
          "output_type": "stream",
          "text": [
            "100%|██████████| 117/117 [00:03<00:00, 38.90it/s]\n",
            "100%|██████████| 13/13 [00:00<00:00, 17.47it/s]\n",
            "  0%|          | 0/117 [00:00<?, ?it/s]"
          ],
          "name": "stderr"
        },
        {
          "output_type": "stream",
          "text": [
            "\n",
            " Epoch: 70,   train_loss:0.4037812873084321,  test_loss:0.4100860976255857,   Accuracy=0.5096153846153846\n"
          ],
          "name": "stdout"
        },
        {
          "output_type": "stream",
          "text": [
            "100%|██████████| 117/117 [00:03<00:00, 38.55it/s]\n",
            "100%|██████████| 13/13 [00:00<00:00, 17.57it/s]\n",
            "  0%|          | 0/117 [00:00<?, ?it/s]"
          ],
          "name": "stderr"
        },
        {
          "output_type": "stream",
          "text": [
            " \n",
            " Saving Best Model\n",
            "\n",
            " Epoch: 71,   train_loss:0.38718782237961763,  test_loss:0.3701266543223308,   Accuracy=0.5673076923076923\n"
          ],
          "name": "stdout"
        },
        {
          "output_type": "stream",
          "text": [
            "100%|██████████| 117/117 [00:03<00:00, 37.65it/s]\n",
            "100%|██████████| 13/13 [00:00<00:00, 28.89it/s]\n",
            "  0%|          | 0/117 [00:00<?, ?it/s]"
          ],
          "name": "stderr"
        },
        {
          "output_type": "stream",
          "text": [
            " \n",
            " Saving Best Model\n",
            "\n",
            " Epoch: 72,   train_loss:0.36395389835039776,  test_loss:0.334377720952034,   Accuracy=0.6057692307692307\n"
          ],
          "name": "stdout"
        },
        {
          "output_type": "stream",
          "text": [
            "100%|██████████| 117/117 [00:02<00:00, 43.01it/s]\n",
            "100%|██████████| 13/13 [00:00<00:00, 29.37it/s]\n",
            "  0%|          | 0/117 [00:00<?, ?it/s]"
          ],
          "name": "stderr"
        },
        {
          "output_type": "stream",
          "text": [
            "\n",
            " Epoch: 73,   train_loss:0.3463889458495328,  test_loss:0.3396022950227444,   Accuracy=0.5865384615384616\n"
          ],
          "name": "stdout"
        },
        {
          "output_type": "stream",
          "text": [
            "100%|██████████| 117/117 [00:02<00:00, 42.44it/s]\n",
            "100%|██████████| 13/13 [00:00<00:00, 29.33it/s]\n",
            "  0%|          | 0/117 [00:00<?, ?it/s]"
          ],
          "name": "stderr"
        },
        {
          "output_type": "stream",
          "text": [
            " \n",
            " Saving Best Model\n",
            "\n",
            " Epoch: 74,   train_loss:0.3447537158544247,  test_loss:0.31360830939733064,   Accuracy=0.6057692307692307\n"
          ],
          "name": "stdout"
        },
        {
          "output_type": "stream",
          "text": [
            "100%|██████████| 117/117 [00:02<00:00, 42.15it/s]\n",
            "100%|██████████| 13/13 [00:00<00:00, 28.29it/s]\n",
            "  0%|          | 0/117 [00:00<?, ?it/s]"
          ],
          "name": "stderr"
        },
        {
          "output_type": "stream",
          "text": [
            " \n",
            " Saving Best Model\n",
            "\n",
            " Epoch: 75,   train_loss:0.32059362365139854,  test_loss:0.31239015093216527,   Accuracy=0.5961538461538461\n"
          ],
          "name": "stdout"
        },
        {
          "output_type": "stream",
          "text": [
            "100%|██████████| 117/117 [00:02<00:00, 42.99it/s]\n",
            "100%|██████████| 13/13 [00:00<00:00, 27.69it/s]\n",
            "  0%|          | 0/117 [00:00<?, ?it/s]"
          ],
          "name": "stderr"
        },
        {
          "output_type": "stream",
          "text": [
            "\n",
            " Epoch: 76,   train_loss:0.31799483846904886,  test_loss:0.3147824154450343,   Accuracy=0.5769230769230769\n"
          ],
          "name": "stdout"
        },
        {
          "output_type": "stream",
          "text": [
            "100%|██████████| 117/117 [00:02<00:00, 43.01it/s]\n",
            "100%|██████████| 13/13 [00:00<00:00, 28.64it/s]\n",
            "  0%|          | 0/117 [00:00<?, ?it/s]"
          ],
          "name": "stderr"
        },
        {
          "output_type": "stream",
          "text": [
            " \n",
            " Saving Best Model\n",
            "\n",
            " Epoch: 77,   train_loss:0.29941960252248323,  test_loss:0.29080524696753574,   Accuracy=0.625\n"
          ],
          "name": "stdout"
        },
        {
          "output_type": "stream",
          "text": [
            "100%|██████████| 117/117 [00:02<00:00, 42.62it/s]\n",
            "100%|██████████| 13/13 [00:00<00:00, 29.08it/s]\n",
            "  0%|          | 0/117 [00:00<?, ?it/s]"
          ],
          "name": "stderr"
        },
        {
          "output_type": "stream",
          "text": [
            "\n",
            " Epoch: 78,   train_loss:0.2888778913606945,  test_loss:0.3031019866466522,   Accuracy=0.6057692307692307\n"
          ],
          "name": "stdout"
        },
        {
          "output_type": "stream",
          "text": [
            "100%|██████████| 117/117 [00:02<00:00, 42.90it/s]\n",
            "100%|██████████| 13/13 [00:00<00:00, 29.57it/s]\n",
            "  0%|          | 0/117 [00:00<?, ?it/s]"
          ],
          "name": "stderr"
        },
        {
          "output_type": "stream",
          "text": [
            "\n",
            " Epoch: 79,   train_loss:0.27813837212375087,  test_loss:0.31038174491662246,   Accuracy=0.5961538461538461\n"
          ],
          "name": "stdout"
        },
        {
          "output_type": "stream",
          "text": [
            "100%|██████████| 117/117 [00:02<00:00, 42.58it/s]\n",
            "100%|██████████| 13/13 [00:00<00:00, 28.81it/s]\n",
            "  0%|          | 0/117 [00:00<?, ?it/s]"
          ],
          "name": "stderr"
        },
        {
          "output_type": "stream",
          "text": [
            "\n",
            " Epoch: 80,   train_loss:0.27555956048333746,  test_loss:0.3019891908535591,   Accuracy=0.6538461538461539\n"
          ],
          "name": "stdout"
        },
        {
          "output_type": "stream",
          "text": [
            "100%|██████████| 117/117 [00:02<00:00, 42.96it/s]\n",
            "100%|██████████| 13/13 [00:00<00:00, 27.11it/s]\n",
            "  0%|          | 0/117 [00:00<?, ?it/s]"
          ],
          "name": "stderr"
        },
        {
          "output_type": "stream",
          "text": [
            " \n",
            " Saving Best Model\n",
            "\n",
            " Epoch: 81,   train_loss:0.26529634839449173,  test_loss:0.27282824653845567,   Accuracy=0.6634615384615384\n"
          ],
          "name": "stdout"
        },
        {
          "output_type": "stream",
          "text": [
            "100%|██████████| 117/117 [00:02<00:00, 42.98it/s]\n",
            "100%|██████████| 13/13 [00:00<00:00, 27.89it/s]\n",
            "  0%|          | 0/117 [00:00<?, ?it/s]"
          ],
          "name": "stderr"
        },
        {
          "output_type": "stream",
          "text": [
            "\n",
            " Epoch: 82,   train_loss:0.25591960275529796,  test_loss:0.2786506683780597,   Accuracy=0.6538461538461539\n"
          ],
          "name": "stdout"
        },
        {
          "output_type": "stream",
          "text": [
            "100%|██████████| 117/117 [00:02<00:00, 42.86it/s]\n",
            "100%|██████████| 13/13 [00:00<00:00, 28.67it/s]\n",
            "  0%|          | 0/117 [00:00<?, ?it/s]"
          ],
          "name": "stderr"
        },
        {
          "output_type": "stream",
          "text": [
            "\n",
            " Epoch: 83,   train_loss:0.2431713061200248,  test_loss:0.2791910641468488,   Accuracy=0.6923076923076923\n"
          ],
          "name": "stdout"
        },
        {
          "output_type": "stream",
          "text": [
            "100%|██████████| 117/117 [00:02<00:00, 42.44it/s]\n",
            "100%|██████████| 13/13 [00:00<00:00, 28.54it/s]\n",
            "  0%|          | 0/117 [00:00<?, ?it/s]"
          ],
          "name": "stderr"
        },
        {
          "output_type": "stream",
          "text": [
            " \n",
            " Saving Best Model\n",
            "\n",
            " Epoch: 84,   train_loss:0.23764801471151858,  test_loss:0.27004683304291505,   Accuracy=0.6826923076923077\n"
          ],
          "name": "stdout"
        },
        {
          "output_type": "stream",
          "text": [
            "100%|██████████| 117/117 [00:02<00:00, 42.07it/s]\n",
            "100%|██████████| 13/13 [00:00<00:00, 28.88it/s]\n",
            "  0%|          | 0/117 [00:00<?, ?it/s]"
          ],
          "name": "stderr"
        },
        {
          "output_type": "stream",
          "text": [
            " \n",
            " Saving Best Model\n",
            "\n",
            " Epoch: 85,   train_loss:0.23623084671731687,  test_loss:0.2581759588076518,   Accuracy=0.6442307692307693\n"
          ],
          "name": "stdout"
        },
        {
          "output_type": "stream",
          "text": [
            "100%|██████████| 117/117 [00:02<00:00, 42.76it/s]\n",
            "100%|██████████| 13/13 [00:00<00:00, 28.52it/s]\n",
            "  0%|          | 0/117 [00:00<?, ?it/s]"
          ],
          "name": "stderr"
        },
        {
          "output_type": "stream",
          "text": [
            "\n",
            " Epoch: 86,   train_loss:0.23396578329241174,  test_loss:0.28246929897711825,   Accuracy=0.625\n"
          ],
          "name": "stdout"
        },
        {
          "output_type": "stream",
          "text": [
            "100%|██████████| 117/117 [00:02<00:00, 42.92it/s]\n",
            "100%|██████████| 13/13 [00:00<00:00, 28.06it/s]\n",
            "  0%|          | 0/117 [00:00<?, ?it/s]"
          ],
          "name": "stderr"
        },
        {
          "output_type": "stream",
          "text": [
            "\n",
            " Epoch: 87,   train_loss:0.22998865203470245,  test_loss:0.3079429349073997,   Accuracy=0.5865384615384616\n"
          ],
          "name": "stdout"
        },
        {
          "output_type": "stream",
          "text": [
            "100%|██████████| 117/117 [00:02<00:00, 42.49it/s]\n",
            "100%|██████████| 13/13 [00:00<00:00, 28.42it/s]\n",
            "  0%|          | 0/117 [00:00<?, ?it/s]"
          ],
          "name": "stderr"
        },
        {
          "output_type": "stream",
          "text": [
            " \n",
            " Saving Best Model\n",
            "\n",
            " Epoch: 88,   train_loss:0.21927284783659837,  test_loss:0.2406213925434993,   Accuracy=0.6730769230769231\n"
          ],
          "name": "stdout"
        },
        {
          "output_type": "stream",
          "text": [
            "100%|██████████| 117/117 [00:02<00:00, 42.38it/s]\n",
            "100%|██████████| 13/13 [00:00<00:00, 28.61it/s]\n",
            "  0%|          | 0/117 [00:00<?, ?it/s]"
          ],
          "name": "stderr"
        },
        {
          "output_type": "stream",
          "text": [
            "\n",
            " Epoch: 89,   train_loss:0.21618851207387754,  test_loss:0.2856580741130389,   Accuracy=0.6538461538461539\n"
          ],
          "name": "stdout"
        },
        {
          "output_type": "stream",
          "text": [
            "100%|██████████| 117/117 [00:02<00:00, 42.48it/s]\n",
            "100%|██████████| 13/13 [00:00<00:00, 28.74it/s]\n",
            "  0%|          | 0/117 [00:00<?, ?it/s]"
          ],
          "name": "stderr"
        },
        {
          "output_type": "stream",
          "text": [
            " \n",
            " Saving Best Model\n",
            "\n",
            " Epoch: 90,   train_loss:0.20522371074582776,  test_loss:0.2120177264396961,   Accuracy=0.7115384615384616\n"
          ],
          "name": "stdout"
        },
        {
          "output_type": "stream",
          "text": [
            "100%|██████████| 117/117 [00:02<00:00, 42.33it/s]\n",
            "100%|██████████| 13/13 [00:00<00:00, 29.06it/s]\n",
            "  0%|          | 0/117 [00:00<?, ?it/s]"
          ],
          "name": "stderr"
        },
        {
          "output_type": "stream",
          "text": [
            "\n",
            " Epoch: 91,   train_loss:0.2073017237150771,  test_loss:0.23224389151884958,   Accuracy=0.6923076923076923\n"
          ],
          "name": "stdout"
        },
        {
          "output_type": "stream",
          "text": [
            "100%|██████████| 117/117 [00:02<00:00, 42.23it/s]\n",
            "100%|██████████| 13/13 [00:00<00:00, 28.50it/s]\n",
            "  0%|          | 0/117 [00:00<?, ?it/s]"
          ],
          "name": "stderr"
        },
        {
          "output_type": "stream",
          "text": [
            "\n",
            " Epoch: 92,   train_loss:0.19353413607320216,  test_loss:0.24078602744982794,   Accuracy=0.7019230769230769\n"
          ],
          "name": "stdout"
        },
        {
          "output_type": "stream",
          "text": [
            "100%|██████████| 117/117 [00:02<00:00, 42.69it/s]\n",
            "100%|██████████| 13/13 [00:00<00:00, 27.61it/s]\n",
            "  0%|          | 0/117 [00:00<?, ?it/s]"
          ],
          "name": "stderr"
        },
        {
          "output_type": "stream",
          "text": [
            "\n",
            " Epoch: 93,   train_loss:0.18897194332546657,  test_loss:0.24848609131116134,   Accuracy=0.6442307692307693\n"
          ],
          "name": "stdout"
        },
        {
          "output_type": "stream",
          "text": [
            "100%|██████████| 117/117 [00:02<00:00, 42.40it/s]\n",
            "100%|██████████| 13/13 [00:00<00:00, 27.69it/s]\n",
            "  0%|          | 0/117 [00:00<?, ?it/s]"
          ],
          "name": "stderr"
        },
        {
          "output_type": "stream",
          "text": [
            "\n",
            " Epoch: 94,   train_loss:0.185824322522196,  test_loss:0.24920646817638323,   Accuracy=0.7019230769230769\n"
          ],
          "name": "stdout"
        },
        {
          "output_type": "stream",
          "text": [
            "100%|██████████| 117/117 [00:02<00:00, 42.32it/s]\n",
            "100%|██████████| 13/13 [00:00<00:00, 28.05it/s]\n",
            "  0%|          | 0/117 [00:00<?, ?it/s]"
          ],
          "name": "stderr"
        },
        {
          "output_type": "stream",
          "text": [
            "\n",
            " Epoch: 95,   train_loss:0.18597868110379603,  test_loss:0.22868602379010275,   Accuracy=0.6826923076923077\n"
          ],
          "name": "stdout"
        },
        {
          "output_type": "stream",
          "text": [
            "100%|██████████| 117/117 [00:02<00:00, 42.49it/s]\n",
            "100%|██████████| 13/13 [00:00<00:00, 29.05it/s]\n",
            "  0%|          | 0/117 [00:00<?, ?it/s]"
          ],
          "name": "stderr"
        },
        {
          "output_type": "stream",
          "text": [
            " \n",
            " Saving Best Model\n",
            "\n",
            " Epoch: 96,   train_loss:0.18118135035674796,  test_loss:0.20345196013267225,   Accuracy=0.6826923076923077\n"
          ],
          "name": "stdout"
        },
        {
          "output_type": "stream",
          "text": [
            "100%|██████████| 117/117 [00:02<00:00, 42.93it/s]\n",
            "100%|██████████| 13/13 [00:00<00:00, 29.11it/s]\n",
            "  0%|          | 0/117 [00:00<?, ?it/s]"
          ],
          "name": "stderr"
        },
        {
          "output_type": "stream",
          "text": [
            " \n",
            " Saving Best Model\n",
            "\n",
            " Epoch: 97,   train_loss:0.1716353408037088,  test_loss:0.20292707532644272,   Accuracy=0.7211538461538461\n"
          ],
          "name": "stdout"
        },
        {
          "output_type": "stream",
          "text": [
            "100%|██████████| 117/117 [00:02<00:00, 42.38it/s]\n",
            "100%|██████████| 13/13 [00:00<00:00, 29.61it/s]\n",
            "  0%|          | 0/117 [00:00<?, ?it/s]"
          ],
          "name": "stderr"
        },
        {
          "output_type": "stream",
          "text": [
            "\n",
            " Epoch: 98,   train_loss:0.17148867927682707,  test_loss:0.2044334116463478,   Accuracy=0.7019230769230769\n"
          ],
          "name": "stdout"
        },
        {
          "output_type": "stream",
          "text": [
            "100%|██████████| 117/117 [00:02<00:00, 42.80it/s]\n",
            "100%|██████████| 13/13 [00:00<00:00, 28.47it/s]\n",
            "  0%|          | 0/117 [00:00<?, ?it/s]"
          ],
          "name": "stderr"
        },
        {
          "output_type": "stream",
          "text": [
            "\n",
            " Epoch: 99,   train_loss:0.16798642822183096,  test_loss:0.2446891235617491,   Accuracy=0.7019230769230769\n"
          ],
          "name": "stdout"
        },
        {
          "output_type": "stream",
          "text": [
            "100%|██████████| 117/117 [00:02<00:00, 42.66it/s]\n",
            "100%|██████████| 13/13 [00:00<00:00, 27.96it/s]\n",
            "  0%|          | 0/117 [00:00<?, ?it/s]"
          ],
          "name": "stderr"
        },
        {
          "output_type": "stream",
          "text": [
            "\n",
            " Epoch: 100,   train_loss:0.16090240023839167,  test_loss:0.2149309114767955,   Accuracy=0.7211538461538461\n"
          ],
          "name": "stdout"
        },
        {
          "output_type": "stream",
          "text": [
            "100%|██████████| 117/117 [00:02<00:00, 42.27it/s]\n",
            "100%|██████████| 13/13 [00:00<00:00, 28.70it/s]\n",
            "  0%|          | 0/117 [00:00<?, ?it/s]"
          ],
          "name": "stderr"
        },
        {
          "output_type": "stream",
          "text": [
            " \n",
            " Saving Best Model\n",
            "\n",
            " Epoch: 101,   train_loss:0.1624990609020759,  test_loss:0.2022541638177175,   Accuracy=0.6923076923076923\n"
          ],
          "name": "stdout"
        },
        {
          "output_type": "stream",
          "text": [
            "100%|██████████| 117/117 [00:02<00:00, 42.65it/s]\n",
            "100%|██████████| 13/13 [00:00<00:00, 29.12it/s]\n",
            "  0%|          | 0/117 [00:00<?, ?it/s]"
          ],
          "name": "stderr"
        },
        {
          "output_type": "stream",
          "text": [
            "\n",
            " Epoch: 102,   train_loss:0.15732414689328936,  test_loss:0.20309480279684067,   Accuracy=0.7307692307692307\n"
          ],
          "name": "stdout"
        },
        {
          "output_type": "stream",
          "text": [
            "100%|██████████| 117/117 [00:02<00:00, 42.63it/s]\n",
            "100%|██████████| 13/13 [00:00<00:00, 28.88it/s]\n",
            "  0%|          | 0/117 [00:00<?, ?it/s]"
          ],
          "name": "stderr"
        },
        {
          "output_type": "stream",
          "text": [
            " \n",
            " Saving Best Model\n",
            "\n",
            " Epoch: 103,   train_loss:0.1554198269214895,  test_loss:0.18288814391081148,   Accuracy=0.7403846153846154\n"
          ],
          "name": "stdout"
        },
        {
          "output_type": "stream",
          "text": [
            "100%|██████████| 117/117 [00:02<00:00, 42.53it/s]\n",
            "100%|██████████| 13/13 [00:00<00:00, 28.88it/s]\n",
            "  0%|          | 0/117 [00:00<?, ?it/s]"
          ],
          "name": "stderr"
        },
        {
          "output_type": "stream",
          "text": [
            "\n",
            " Epoch: 104,   train_loss:0.15494309298885175,  test_loss:0.2045636480817428,   Accuracy=0.7403846153846154\n"
          ],
          "name": "stdout"
        },
        {
          "output_type": "stream",
          "text": [
            "100%|██████████| 117/117 [00:02<00:00, 43.09it/s]\n",
            "100%|██████████| 13/13 [00:00<00:00, 28.32it/s]\n",
            "  0%|          | 0/117 [00:00<?, ?it/s]"
          ],
          "name": "stderr"
        },
        {
          "output_type": "stream",
          "text": [
            "\n",
            " Epoch: 105,   train_loss:0.14882438722201902,  test_loss:0.2043196619130098,   Accuracy=0.7211538461538461\n"
          ],
          "name": "stdout"
        },
        {
          "output_type": "stream",
          "text": [
            "100%|██████████| 117/117 [00:02<00:00, 42.79it/s]\n",
            "100%|██████████| 13/13 [00:00<00:00, 28.65it/s]\n",
            "  0%|          | 0/117 [00:00<?, ?it/s]"
          ],
          "name": "stderr"
        },
        {
          "output_type": "stream",
          "text": [
            "\n",
            " Epoch: 106,   train_loss:0.14550379103320277,  test_loss:0.19759084169681257,   Accuracy=0.7115384615384616\n"
          ],
          "name": "stdout"
        },
        {
          "output_type": "stream",
          "text": [
            "100%|██████████| 117/117 [00:02<00:00, 42.75it/s]\n",
            "100%|██████████| 13/13 [00:00<00:00, 28.55it/s]\n",
            "  0%|          | 0/117 [00:00<?, ?it/s]"
          ],
          "name": "stderr"
        },
        {
          "output_type": "stream",
          "text": [
            " \n",
            " Saving Best Model\n",
            "\n",
            " Epoch: 107,   train_loss:0.1510618416289998,  test_loss:0.1823576559814123,   Accuracy=0.7596153846153846\n"
          ],
          "name": "stdout"
        },
        {
          "output_type": "stream",
          "text": [
            "100%|██████████| 117/117 [00:02<00:00, 41.96it/s]\n",
            "100%|██████████| 13/13 [00:00<00:00, 28.75it/s]\n",
            "  0%|          | 0/117 [00:00<?, ?it/s]"
          ],
          "name": "stderr"
        },
        {
          "output_type": "stream",
          "text": [
            "\n",
            " Epoch: 108,   train_loss:0.13808655165708983,  test_loss:0.21860602326118028,   Accuracy=0.7115384615384616\n"
          ],
          "name": "stdout"
        },
        {
          "output_type": "stream",
          "text": [
            "100%|██████████| 117/117 [00:02<00:00, 42.51it/s]\n",
            "100%|██████████| 13/13 [00:00<00:00, 29.10it/s]\n",
            "  0%|          | 0/117 [00:00<?, ?it/s]"
          ],
          "name": "stderr"
        },
        {
          "output_type": "stream",
          "text": [
            "\n",
            " Epoch: 109,   train_loss:0.14293952751108724,  test_loss:0.24373508474001518,   Accuracy=0.75\n"
          ],
          "name": "stdout"
        },
        {
          "output_type": "stream",
          "text": [
            "100%|██████████| 117/117 [00:02<00:00, 42.58it/s]\n",
            "100%|██████████| 13/13 [00:00<00:00, 29.62it/s]\n",
            "  0%|          | 0/117 [00:00<?, ?it/s]"
          ],
          "name": "stderr"
        },
        {
          "output_type": "stream",
          "text": [
            "\n",
            " Epoch: 110,   train_loss:0.1350667587457559,  test_loss:0.2065377841488673,   Accuracy=0.7115384615384616\n"
          ],
          "name": "stdout"
        },
        {
          "output_type": "stream",
          "text": [
            "100%|██████████| 117/117 [00:02<00:00, 42.29it/s]\n",
            "100%|██████████| 13/13 [00:00<00:00, 28.22it/s]\n",
            "  0%|          | 0/117 [00:00<?, ?it/s]"
          ],
          "name": "stderr"
        },
        {
          "output_type": "stream",
          "text": [
            "\n",
            " Epoch: 111,   train_loss:0.14435490413417673,  test_loss:0.21800546577343574,   Accuracy=0.7115384615384616\n"
          ],
          "name": "stdout"
        },
        {
          "output_type": "stream",
          "text": [
            "100%|██████████| 117/117 [00:02<00:00, 42.35it/s]\n",
            "100%|██████████| 13/13 [00:00<00:00, 28.51it/s]\n",
            "  0%|          | 0/117 [00:00<?, ?it/s]"
          ],
          "name": "stderr"
        },
        {
          "output_type": "stream",
          "text": [
            "\n",
            " Epoch: 112,   train_loss:0.13350756404300532,  test_loss:0.20900707233410615,   Accuracy=0.7211538461538461\n"
          ],
          "name": "stdout"
        },
        {
          "output_type": "stream",
          "text": [
            "100%|██████████| 117/117 [00:02<00:00, 42.39it/s]\n",
            "100%|██████████| 13/13 [00:00<00:00, 29.54it/s]\n",
            "  0%|          | 0/117 [00:00<?, ?it/s]"
          ],
          "name": "stderr"
        },
        {
          "output_type": "stream",
          "text": [
            "\n",
            " Epoch: 113,   train_loss:0.12625739342954934,  test_loss:0.19185632524582055,   Accuracy=0.7307692307692307\n",
            "Epoch   114: reducing learning rate of group 0 to 1.2288e-04.\n"
          ],
          "name": "stdout"
        },
        {
          "output_type": "stream",
          "text": [
            "100%|██████████| 117/117 [00:02<00:00, 42.00it/s]\n",
            "100%|██████████| 13/13 [00:00<00:00, 28.64it/s]\n",
            "  0%|          | 0/117 [00:00<?, ?it/s]"
          ],
          "name": "stderr"
        },
        {
          "output_type": "stream",
          "text": [
            "\n",
            " Epoch: 114,   train_loss:0.13048262555056658,  test_loss:0.22007564971080193,   Accuracy=0.7884615384615384\n"
          ],
          "name": "stdout"
        },
        {
          "output_type": "stream",
          "text": [
            "100%|██████████| 117/117 [00:02<00:00, 42.25it/s]\n",
            "100%|██████████| 13/13 [00:00<00:00, 28.40it/s]\n",
            "  0%|          | 0/117 [00:00<?, ?it/s]"
          ],
          "name": "stderr"
        },
        {
          "output_type": "stream",
          "text": [
            "\n",
            " Epoch: 115,   train_loss:0.12014953338373931,  test_loss:0.22171086416794702,   Accuracy=0.7307692307692307\n"
          ],
          "name": "stdout"
        },
        {
          "output_type": "stream",
          "text": [
            "100%|██████████| 117/117 [00:02<00:00, 42.66it/s]\n",
            "100%|██████████| 13/13 [00:00<00:00, 27.43it/s]\n",
            "  0%|          | 0/117 [00:00<?, ?it/s]"
          ],
          "name": "stderr"
        },
        {
          "output_type": "stream",
          "text": [
            "\n",
            " Epoch: 116,   train_loss:0.11940151101185216,  test_loss:0.19626460367670426,   Accuracy=0.7596153846153846\n"
          ],
          "name": "stdout"
        },
        {
          "output_type": "stream",
          "text": [
            "100%|██████████| 117/117 [00:02<00:00, 43.03it/s]\n",
            "100%|██████████| 13/13 [00:00<00:00, 29.59it/s]\n",
            "  0%|          | 0/117 [00:00<?, ?it/s]"
          ],
          "name": "stderr"
        },
        {
          "output_type": "stream",
          "text": [
            " \n",
            " Saving Best Model\n",
            "\n",
            " Epoch: 117,   train_loss:0.11783866612957074,  test_loss:0.1793031802830788,   Accuracy=0.75\n"
          ],
          "name": "stdout"
        },
        {
          "output_type": "stream",
          "text": [
            "100%|██████████| 117/117 [00:02<00:00, 42.40it/s]\n",
            "100%|██████████| 13/13 [00:00<00:00, 29.96it/s]\n",
            "  0%|          | 0/117 [00:00<?, ?it/s]"
          ],
          "name": "stderr"
        },
        {
          "output_type": "stream",
          "text": [
            "\n",
            " Epoch: 118,   train_loss:0.11636027916629091,  test_loss:0.18749671171490961,   Accuracy=0.7307692307692307\n"
          ],
          "name": "stdout"
        },
        {
          "output_type": "stream",
          "text": [
            "100%|██████████| 117/117 [00:02<00:00, 43.00it/s]\n",
            "100%|██████████| 13/13 [00:00<00:00, 28.61it/s]\n",
            "  0%|          | 0/117 [00:00<?, ?it/s]"
          ],
          "name": "stderr"
        },
        {
          "output_type": "stream",
          "text": [
            "\n",
            " Epoch: 119,   train_loss:0.12427843151948391,  test_loss:0.18873677445718876,   Accuracy=0.7692307692307693\n"
          ],
          "name": "stdout"
        },
        {
          "output_type": "stream",
          "text": [
            "100%|██████████| 117/117 [00:02<00:00, 42.86it/s]\n",
            "100%|██████████| 13/13 [00:00<00:00, 29.30it/s]\n",
            "  0%|          | 0/117 [00:00<?, ?it/s]"
          ],
          "name": "stderr"
        },
        {
          "output_type": "stream",
          "text": [
            "\n",
            " Epoch: 120,   train_loss:0.10881719330691883,  test_loss:0.21982183221441048,   Accuracy=0.7211538461538461\n"
          ],
          "name": "stdout"
        },
        {
          "output_type": "stream",
          "text": [
            "100%|██████████| 117/117 [00:02<00:00, 42.85it/s]\n",
            "100%|██████████| 13/13 [00:00<00:00, 28.79it/s]\n",
            "  0%|          | 0/117 [00:00<?, ?it/s]"
          ],
          "name": "stderr"
        },
        {
          "output_type": "stream",
          "text": [
            "\n",
            " Epoch: 121,   train_loss:0.1152372954524735,  test_loss:0.2013231318157453,   Accuracy=0.75\n"
          ],
          "name": "stdout"
        },
        {
          "output_type": "stream",
          "text": [
            "100%|██████████| 117/117 [00:02<00:00, 42.89it/s]\n",
            "100%|██████████| 13/13 [00:00<00:00, 28.97it/s]\n",
            "  0%|          | 0/117 [00:00<?, ?it/s]"
          ],
          "name": "stderr"
        },
        {
          "output_type": "stream",
          "text": [
            "\n",
            " Epoch: 122,   train_loss:0.10904886016351545,  test_loss:0.22031051006454688,   Accuracy=0.7307692307692307\n"
          ],
          "name": "stdout"
        },
        {
          "output_type": "stream",
          "text": [
            "100%|██████████| 117/117 [00:02<00:00, 42.59it/s]\n",
            "100%|██████████| 13/13 [00:00<00:00, 28.64it/s]\n",
            "  0%|          | 0/117 [00:00<?, ?it/s]"
          ],
          "name": "stderr"
        },
        {
          "output_type": "stream",
          "text": [
            "\n",
            " Epoch: 123,   train_loss:0.11217532507502116,  test_loss:0.2139335790505776,   Accuracy=0.7788461538461539\n",
            "Epoch   124: reducing learning rate of group 0 to 9.8304e-05.\n"
          ],
          "name": "stdout"
        },
        {
          "output_type": "stream",
          "text": [
            "100%|██████████| 117/117 [00:02<00:00, 42.88it/s]\n",
            "100%|██████████| 13/13 [00:00<00:00, 29.67it/s]\n",
            "  0%|          | 0/117 [00:00<?, ?it/s]"
          ],
          "name": "stderr"
        },
        {
          "output_type": "stream",
          "text": [
            "\n",
            " Epoch: 124,   train_loss:0.10366920556904924,  test_loss:0.21111103942474493,   Accuracy=0.7596153846153846\n"
          ],
          "name": "stdout"
        },
        {
          "output_type": "stream",
          "text": [
            "100%|██████████| 117/117 [00:02<00:00, 42.85it/s]\n",
            "100%|██████████| 13/13 [00:00<00:00, 29.17it/s]\n",
            "  0%|          | 0/117 [00:00<?, ?it/s]"
          ],
          "name": "stderr"
        },
        {
          "output_type": "stream",
          "text": [
            "\n",
            " Epoch: 125,   train_loss:0.10306314452209024,  test_loss:0.2061653406574176,   Accuracy=0.75\n"
          ],
          "name": "stdout"
        },
        {
          "output_type": "stream",
          "text": [
            "100%|██████████| 117/117 [00:02<00:00, 42.75it/s]\n",
            "100%|██████████| 13/13 [00:00<00:00, 28.22it/s]\n",
            "  0%|          | 0/117 [00:00<?, ?it/s]"
          ],
          "name": "stderr"
        },
        {
          "output_type": "stream",
          "text": [
            "\n",
            " Epoch: 126,   train_loss:0.10170950001885748,  test_loss:0.19260683111273325,   Accuracy=0.75\n"
          ],
          "name": "stdout"
        },
        {
          "output_type": "stream",
          "text": [
            "100%|██████████| 117/117 [00:02<00:00, 42.72it/s]\n",
            "100%|██████████| 13/13 [00:00<00:00, 28.60it/s]\n",
            "  0%|          | 0/117 [00:00<?, ?it/s]"
          ],
          "name": "stderr"
        },
        {
          "output_type": "stream",
          "text": [
            "\n",
            " Epoch: 127,   train_loss:0.10318898330004807,  test_loss:0.2045126391144899,   Accuracy=0.7692307692307693\n"
          ],
          "name": "stdout"
        },
        {
          "output_type": "stream",
          "text": [
            "100%|██████████| 117/117 [00:02<00:00, 42.74it/s]\n",
            "100%|██████████| 13/13 [00:00<00:00, 27.41it/s]\n",
            "  0%|          | 0/117 [00:00<?, ?it/s]"
          ],
          "name": "stderr"
        },
        {
          "output_type": "stream",
          "text": [
            "\n",
            " Epoch: 128,   train_loss:0.10417264250990672,  test_loss:0.18620831060868043,   Accuracy=0.7403846153846154\n"
          ],
          "name": "stdout"
        },
        {
          "output_type": "stream",
          "text": [
            "100%|██████████| 117/117 [00:02<00:00, 41.61it/s]\n",
            "100%|██████████| 13/13 [00:00<00:00, 25.79it/s]\n",
            "  0%|          | 0/117 [00:00<?, ?it/s]"
          ],
          "name": "stderr"
        },
        {
          "output_type": "stream",
          "text": [
            "\n",
            " Epoch: 129,   train_loss:0.09339076165969555,  test_loss:0.19456223541727433,   Accuracy=0.7788461538461539\n",
            "Epoch   130: reducing learning rate of group 0 to 7.8643e-05.\n"
          ],
          "name": "stdout"
        },
        {
          "output_type": "stream",
          "text": [
            "100%|██████████| 117/117 [00:02<00:00, 41.65it/s]\n",
            "100%|██████████| 13/13 [00:00<00:00, 28.33it/s]\n",
            "  0%|          | 0/117 [00:00<?, ?it/s]"
          ],
          "name": "stderr"
        },
        {
          "output_type": "stream",
          "text": [
            "\n",
            " Epoch: 130,   train_loss:0.09796145075979905,  test_loss:0.18712599460895246,   Accuracy=0.7596153846153846\n"
          ],
          "name": "stdout"
        },
        {
          "output_type": "stream",
          "text": [
            "100%|██████████| 117/117 [00:02<00:00, 41.94it/s]\n",
            "100%|██████████| 13/13 [00:00<00:00, 26.38it/s]\n",
            "  0%|          | 0/117 [00:00<?, ?it/s]"
          ],
          "name": "stderr"
        },
        {
          "output_type": "stream",
          "text": [
            "\n",
            " Epoch: 131,   train_loss:0.09430766631013308,  test_loss:0.19408464087889746,   Accuracy=0.7692307692307693\n"
          ],
          "name": "stdout"
        },
        {
          "output_type": "stream",
          "text": [
            "100%|██████████| 117/117 [00:02<00:00, 41.20it/s]\n",
            "100%|██████████| 13/13 [00:00<00:00, 28.21it/s]\n",
            "  0%|          | 0/117 [00:00<?, ?it/s]"
          ],
          "name": "stderr"
        },
        {
          "output_type": "stream",
          "text": [
            "\n",
            " Epoch: 132,   train_loss:0.09122383249047984,  test_loss:0.1828266132909518,   Accuracy=0.7692307692307693\n"
          ],
          "name": "stdout"
        },
        {
          "output_type": "stream",
          "text": [
            "100%|██████████| 117/117 [00:02<00:00, 41.80it/s]\n",
            "100%|██████████| 13/13 [00:00<00:00, 27.45it/s]\n",
            "  0%|          | 0/117 [00:00<?, ?it/s]"
          ],
          "name": "stderr"
        },
        {
          "output_type": "stream",
          "text": [
            "\n",
            " Epoch: 133,   train_loss:0.09026132579733673,  test_loss:0.1982213073911575,   Accuracy=0.7692307692307693\n"
          ],
          "name": "stdout"
        },
        {
          "output_type": "stream",
          "text": [
            "100%|██████████| 117/117 [00:02<00:00, 41.64it/s]\n",
            "100%|██████████| 13/13 [00:00<00:00, 26.74it/s]\n",
            "  0%|          | 0/117 [00:00<?, ?it/s]"
          ],
          "name": "stderr"
        },
        {
          "output_type": "stream",
          "text": [
            "\n",
            " Epoch: 134,   train_loss:0.09088743039462556,  test_loss:0.19677477043408614,   Accuracy=0.7596153846153846\n"
          ],
          "name": "stdout"
        },
        {
          "output_type": "stream",
          "text": [
            "100%|██████████| 117/117 [00:02<00:00, 40.41it/s]\n",
            "100%|██████████| 13/13 [00:00<00:00, 27.67it/s]\n",
            "  0%|          | 0/117 [00:00<?, ?it/s]"
          ],
          "name": "stderr"
        },
        {
          "output_type": "stream",
          "text": [
            "\n",
            " Epoch: 135,   train_loss:0.08560988752760439,  test_loss:0.20016606123401567,   Accuracy=0.7596153846153846\n",
            "Epoch   136: reducing learning rate of group 0 to 6.2915e-05.\n"
          ],
          "name": "stdout"
        },
        {
          "output_type": "stream",
          "text": [
            "100%|██████████| 117/117 [00:02<00:00, 41.20it/s]\n",
            "100%|██████████| 13/13 [00:00<00:00, 27.30it/s]\n",
            "  0%|          | 0/117 [00:00<?, ?it/s]"
          ],
          "name": "stderr"
        },
        {
          "output_type": "stream",
          "text": [
            "\n",
            " Epoch: 136,   train_loss:0.08702448562074167,  test_loss:0.20124017275296724,   Accuracy=0.7692307692307693\n"
          ],
          "name": "stdout"
        },
        {
          "output_type": "stream",
          "text": [
            "100%|██████████| 117/117 [00:02<00:00, 41.65it/s]\n",
            "100%|██████████| 13/13 [00:00<00:00, 26.17it/s]\n",
            "  0%|          | 0/117 [00:00<?, ?it/s]"
          ],
          "name": "stderr"
        },
        {
          "output_type": "stream",
          "text": [
            " \n",
            " Saving Best Model\n",
            "\n",
            " Epoch: 137,   train_loss:0.08235100374167037,  test_loss:0.17752406316307875,   Accuracy=0.7692307692307693\n"
          ],
          "name": "stdout"
        },
        {
          "output_type": "stream",
          "text": [
            "100%|██████████| 117/117 [00:02<00:00, 41.24it/s]\n",
            "100%|██████████| 13/13 [00:00<00:00, 26.55it/s]\n",
            "  0%|          | 0/117 [00:00<?, ?it/s]"
          ],
          "name": "stderr"
        },
        {
          "output_type": "stream",
          "text": [
            "\n",
            " Epoch: 138,   train_loss:0.08657736988722259,  test_loss:0.19343091877034077,   Accuracy=0.7788461538461539\n"
          ],
          "name": "stdout"
        },
        {
          "output_type": "stream",
          "text": [
            "100%|██████████| 117/117 [00:02<00:00, 41.58it/s]\n",
            "100%|██████████| 13/13 [00:00<00:00, 27.03it/s]\n",
            "  0%|          | 0/117 [00:00<?, ?it/s]"
          ],
          "name": "stderr"
        },
        {
          "output_type": "stream",
          "text": [
            "\n",
            " Epoch: 139,   train_loss:0.08754813784940375,  test_loss:0.19745915325788352,   Accuracy=0.7596153846153846\n"
          ],
          "name": "stdout"
        },
        {
          "output_type": "stream",
          "text": [
            "100%|██████████| 117/117 [00:02<00:00, 41.49it/s]\n",
            "100%|██████████| 13/13 [00:00<00:00, 26.70it/s]\n",
            "  0%|          | 0/117 [00:00<?, ?it/s]"
          ],
          "name": "stderr"
        },
        {
          "output_type": "stream",
          "text": [
            "\n",
            " Epoch: 140,   train_loss:0.07878595522931243,  test_loss:0.18423678582677475,   Accuracy=0.7307692307692307\n"
          ],
          "name": "stdout"
        },
        {
          "output_type": "stream",
          "text": [
            "100%|██████████| 117/117 [00:02<00:00, 41.48it/s]\n",
            "100%|██████████| 13/13 [00:00<00:00, 27.99it/s]\n",
            "  0%|          | 0/117 [00:00<?, ?it/s]"
          ],
          "name": "stderr"
        },
        {
          "output_type": "stream",
          "text": [
            "\n",
            " Epoch: 141,   train_loss:0.07917586605773012,  test_loss:0.18067386459845763,   Accuracy=0.7692307692307693\n"
          ],
          "name": "stdout"
        },
        {
          "output_type": "stream",
          "text": [
            "100%|██████████| 117/117 [00:02<00:00, 41.68it/s]\n",
            "100%|██████████| 13/13 [00:00<00:00, 28.34it/s]\n",
            "  0%|          | 0/117 [00:00<?, ?it/s]"
          ],
          "name": "stderr"
        },
        {
          "output_type": "stream",
          "text": [
            "\n",
            " Epoch: 142,   train_loss:0.08229376068020351,  test_loss:0.20274480088399008,   Accuracy=0.7692307692307693\n"
          ],
          "name": "stdout"
        },
        {
          "output_type": "stream",
          "text": [
            "100%|██████████| 117/117 [00:02<00:00, 41.46it/s]\n",
            "100%|██████████| 13/13 [00:00<00:00, 27.52it/s]\n",
            "  0%|          | 0/117 [00:00<?, ?it/s]"
          ],
          "name": "stderr"
        },
        {
          "output_type": "stream",
          "text": [
            "\n",
            " Epoch: 143,   train_loss:0.08016828047987233,  test_loss:0.19060487644030497,   Accuracy=0.7788461538461539\n",
            "Epoch   144: reducing learning rate of group 0 to 5.0332e-05.\n"
          ],
          "name": "stdout"
        },
        {
          "output_type": "stream",
          "text": [
            "100%|██████████| 117/117 [00:02<00:00, 41.69it/s]\n",
            "100%|██████████| 13/13 [00:00<00:00, 27.52it/s]\n",
            "  0%|          | 0/117 [00:00<?, ?it/s]"
          ],
          "name": "stderr"
        },
        {
          "output_type": "stream",
          "text": [
            "\n",
            " Epoch: 144,   train_loss:0.0822708671196149,  test_loss:0.19628309773711058,   Accuracy=0.7884615384615384\n"
          ],
          "name": "stdout"
        },
        {
          "output_type": "stream",
          "text": [
            "100%|██████████| 117/117 [00:02<00:00, 41.90it/s]\n",
            "100%|██████████| 13/13 [00:00<00:00, 27.85it/s]\n",
            "  0%|          | 0/117 [00:00<?, ?it/s]"
          ],
          "name": "stderr"
        },
        {
          "output_type": "stream",
          "text": [
            "\n",
            " Epoch: 145,   train_loss:0.07788627429140939,  test_loss:0.1878999758225221,   Accuracy=0.7692307692307693\n"
          ],
          "name": "stdout"
        },
        {
          "output_type": "stream",
          "text": [
            "100%|██████████| 117/117 [00:02<00:00, 41.80it/s]\n",
            "100%|██████████| 13/13 [00:00<00:00, 28.39it/s]\n",
            "  0%|          | 0/117 [00:00<?, ?it/s]"
          ],
          "name": "stderr"
        },
        {
          "output_type": "stream",
          "text": [
            " \n",
            " Saving Best Model\n",
            "\n",
            " Epoch: 146,   train_loss:0.0796318787874447,  test_loss:0.1768454757447426,   Accuracy=0.7788461538461539\n"
          ],
          "name": "stdout"
        },
        {
          "output_type": "stream",
          "text": [
            "100%|██████████| 117/117 [00:02<00:00, 42.09it/s]\n",
            "100%|██████████| 13/13 [00:00<00:00, 27.87it/s]\n",
            "  0%|          | 0/117 [00:00<?, ?it/s]"
          ],
          "name": "stderr"
        },
        {
          "output_type": "stream",
          "text": [
            " \n",
            " Saving Best Model\n",
            "\n",
            " Epoch: 147,   train_loss:0.07539255491211119,  test_loss:0.17029132608037728,   Accuracy=0.7884615384615384\n"
          ],
          "name": "stdout"
        },
        {
          "output_type": "stream",
          "text": [
            "100%|██████████| 117/117 [00:02<00:00, 42.54it/s]\n",
            "100%|██████████| 13/13 [00:00<00:00, 27.31it/s]\n",
            "  0%|          | 0/117 [00:00<?, ?it/s]"
          ],
          "name": "stderr"
        },
        {
          "output_type": "stream",
          "text": [
            "\n",
            " Epoch: 148,   train_loss:0.07544143497943878,  test_loss:0.1714746612482346,   Accuracy=0.7980769230769231\n"
          ],
          "name": "stdout"
        },
        {
          "output_type": "stream",
          "text": [
            "100%|██████████| 117/117 [00:02<00:00, 42.59it/s]\n",
            "100%|██████████| 13/13 [00:00<00:00, 27.86it/s]\n",
            "  0%|          | 0/117 [00:00<?, ?it/s]"
          ],
          "name": "stderr"
        },
        {
          "output_type": "stream",
          "text": [
            "\n",
            " Epoch: 149,   train_loss:0.07392807136106695,  test_loss:0.18420301062556413,   Accuracy=0.7596153846153846\n"
          ],
          "name": "stdout"
        },
        {
          "output_type": "stream",
          "text": [
            "100%|██████████| 117/117 [00:02<00:00, 42.66it/s]\n",
            "100%|██████████| 13/13 [00:00<00:00, 28.62it/s]\n",
            "  0%|          | 0/117 [00:00<?, ?it/s]"
          ],
          "name": "stderr"
        },
        {
          "output_type": "stream",
          "text": [
            "\n",
            " Epoch: 150,   train_loss:0.07309157190382735,  test_loss:0.1828901615853493,   Accuracy=0.7692307692307693\n"
          ],
          "name": "stdout"
        },
        {
          "output_type": "stream",
          "text": [
            "100%|██████████| 117/117 [00:02<00:00, 42.17it/s]\n",
            "100%|██████████| 13/13 [00:00<00:00, 28.52it/s]\n",
            "  0%|          | 0/117 [00:00<?, ?it/s]"
          ],
          "name": "stderr"
        },
        {
          "output_type": "stream",
          "text": [
            "\n",
            " Epoch: 151,   train_loss:0.07544082170750341,  test_loss:0.18044616339298394,   Accuracy=0.7692307692307693\n"
          ],
          "name": "stdout"
        },
        {
          "output_type": "stream",
          "text": [
            "100%|██████████| 117/117 [00:02<00:00, 42.12it/s]\n",
            "100%|██████████| 13/13 [00:00<00:00, 28.71it/s]\n",
            "  0%|          | 0/117 [00:00<?, ?it/s]"
          ],
          "name": "stderr"
        },
        {
          "output_type": "stream",
          "text": [
            "\n",
            " Epoch: 152,   train_loss:0.07632100787491371,  test_loss:0.18540390122395295,   Accuracy=0.7596153846153846\n"
          ],
          "name": "stdout"
        },
        {
          "output_type": "stream",
          "text": [
            "100%|██████████| 117/117 [00:02<00:00, 42.51it/s]\n",
            "100%|██████████| 13/13 [00:00<00:00, 27.76it/s]\n",
            "  0%|          | 0/117 [00:00<?, ?it/s]"
          ],
          "name": "stderr"
        },
        {
          "output_type": "stream",
          "text": [
            "\n",
            " Epoch: 153,   train_loss:0.07595067950061117,  test_loss:0.18189002430209747,   Accuracy=0.7596153846153846\n",
            "Epoch   154: reducing learning rate of group 0 to 4.0265e-05.\n"
          ],
          "name": "stdout"
        },
        {
          "output_type": "stream",
          "text": [
            "100%|██████████| 117/117 [00:02<00:00, 42.37it/s]\n",
            "100%|██████████| 13/13 [00:00<00:00, 27.77it/s]\n",
            "  0%|          | 0/117 [00:00<?, ?it/s]"
          ],
          "name": "stderr"
        },
        {
          "output_type": "stream",
          "text": [
            "\n",
            " Epoch: 154,   train_loss:0.0737171800982239,  test_loss:0.18003351656863323,   Accuracy=0.7884615384615384\n"
          ],
          "name": "stdout"
        },
        {
          "output_type": "stream",
          "text": [
            "100%|██████████| 117/117 [00:02<00:00, 42.21it/s]\n",
            "100%|██████████| 13/13 [00:00<00:00, 28.77it/s]\n",
            "  0%|          | 0/117 [00:00<?, ?it/s]"
          ],
          "name": "stderr"
        },
        {
          "output_type": "stream",
          "text": [
            "\n",
            " Epoch: 155,   train_loss:0.07168747510156061,  test_loss:0.19459275528788567,   Accuracy=0.7596153846153846\n"
          ],
          "name": "stdout"
        },
        {
          "output_type": "stream",
          "text": [
            "100%|██████████| 117/117 [00:02<00:00, 42.17it/s]\n",
            "100%|██████████| 13/13 [00:00<00:00, 28.77it/s]\n",
            "  0%|          | 0/117 [00:00<?, ?it/s]"
          ],
          "name": "stderr"
        },
        {
          "output_type": "stream",
          "text": [
            "\n",
            " Epoch: 156,   train_loss:0.07331754833173293,  test_loss:0.19714707924196354,   Accuracy=0.7788461538461539\n"
          ],
          "name": "stdout"
        },
        {
          "output_type": "stream",
          "text": [
            "100%|██████████| 117/117 [00:02<00:00, 42.51it/s]\n",
            "100%|██████████| 13/13 [00:00<00:00, 27.65it/s]\n",
            "  0%|          | 0/117 [00:00<?, ?it/s]"
          ],
          "name": "stderr"
        },
        {
          "output_type": "stream",
          "text": [
            "\n",
            " Epoch: 157,   train_loss:0.07396871419862294,  test_loss:0.17796917001788432,   Accuracy=0.7788461538461539\n"
          ],
          "name": "stdout"
        },
        {
          "output_type": "stream",
          "text": [
            "100%|██████████| 117/117 [00:02<00:00, 42.29it/s]\n",
            "100%|██████████| 13/13 [00:00<00:00, 27.47it/s]\n",
            "  0%|          | 0/117 [00:00<?, ?it/s]"
          ],
          "name": "stderr"
        },
        {
          "output_type": "stream",
          "text": [
            "\n",
            " Epoch: 158,   train_loss:0.0693959843319578,  test_loss:0.19153591933158728,   Accuracy=0.7788461538461539\n"
          ],
          "name": "stdout"
        },
        {
          "output_type": "stream",
          "text": [
            "100%|██████████| 117/117 [00:02<00:00, 42.29it/s]\n",
            "100%|██████████| 13/13 [00:00<00:00, 28.81it/s]\n",
            "  0%|          | 0/117 [00:00<?, ?it/s]"
          ],
          "name": "stderr"
        },
        {
          "output_type": "stream",
          "text": [
            "\n",
            " Epoch: 159,   train_loss:0.06772948345408225,  test_loss:0.2096099114188781,   Accuracy=0.75\n",
            "Epoch   160: reducing learning rate of group 0 to 3.2212e-05.\n"
          ],
          "name": "stdout"
        },
        {
          "output_type": "stream",
          "text": [
            "100%|██████████| 117/117 [00:02<00:00, 42.27it/s]\n",
            "100%|██████████| 13/13 [00:00<00:00, 29.10it/s]\n",
            "  0%|          | 0/117 [00:00<?, ?it/s]"
          ],
          "name": "stderr"
        },
        {
          "output_type": "stream",
          "text": [
            "\n",
            " Epoch: 160,   train_loss:0.06735641886599553,  test_loss:0.18169035390019417,   Accuracy=0.7692307692307693\n"
          ],
          "name": "stdout"
        },
        {
          "output_type": "stream",
          "text": [
            "100%|██████████| 117/117 [00:02<00:00, 41.91it/s]\n",
            "100%|██████████| 13/13 [00:00<00:00, 27.73it/s]\n",
            "  0%|          | 0/117 [00:00<?, ?it/s]"
          ],
          "name": "stderr"
        },
        {
          "output_type": "stream",
          "text": [
            "\n",
            " Epoch: 161,   train_loss:0.06768658841586012,  test_loss:0.1819412255516419,   Accuracy=0.7788461538461539\n"
          ],
          "name": "stdout"
        },
        {
          "output_type": "stream",
          "text": [
            "100%|██████████| 117/117 [00:02<00:00, 41.59it/s]\n",
            "100%|██████████| 13/13 [00:00<00:00, 28.44it/s]\n",
            "  0%|          | 0/117 [00:00<?, ?it/s]"
          ],
          "name": "stderr"
        },
        {
          "output_type": "stream",
          "text": [
            "\n",
            " Epoch: 162,   train_loss:0.06760733434532443,  test_loss:0.18105078137551361,   Accuracy=0.7788461538461539\n"
          ],
          "name": "stdout"
        },
        {
          "output_type": "stream",
          "text": [
            "100%|██████████| 117/117 [00:02<00:00, 41.68it/s]\n",
            "100%|██████████| 13/13 [00:00<00:00, 28.49it/s]\n",
            "  0%|          | 0/117 [00:00<?, ?it/s]"
          ],
          "name": "stderr"
        },
        {
          "output_type": "stream",
          "text": [
            "\n",
            " Epoch: 163,   train_loss:0.06645314906461117,  test_loss:0.18533365958585188,   Accuracy=0.7884615384615384\n"
          ],
          "name": "stdout"
        },
        {
          "output_type": "stream",
          "text": [
            "100%|██████████| 117/117 [00:02<00:00, 42.24it/s]\n",
            "100%|██████████| 13/13 [00:00<00:00, 28.13it/s]\n",
            "  0%|          | 0/117 [00:00<?, ?it/s]"
          ],
          "name": "stderr"
        },
        {
          "output_type": "stream",
          "text": [
            "\n",
            " Epoch: 164,   train_loss:0.06946847843340574,  test_loss:0.18680817963412175,   Accuracy=0.7788461538461539\n"
          ],
          "name": "stdout"
        },
        {
          "output_type": "stream",
          "text": [
            "100%|██████████| 117/117 [00:02<00:00, 42.29it/s]\n",
            "100%|██████████| 13/13 [00:00<00:00, 27.68it/s]\n",
            "  0%|          | 0/117 [00:00<?, ?it/s]"
          ],
          "name": "stderr"
        },
        {
          "output_type": "stream",
          "text": [
            "\n",
            " Epoch: 165,   train_loss:0.06462781987765916,  test_loss:0.18277836275788453,   Accuracy=0.7692307692307693\n",
            "Epoch   166: reducing learning rate of group 0 to 2.5770e-05.\n"
          ],
          "name": "stdout"
        },
        {
          "output_type": "stream",
          "text": [
            "100%|██████████| 117/117 [00:02<00:00, 42.05it/s]\n",
            "100%|██████████| 13/13 [00:00<00:00, 28.26it/s]\n",
            "  0%|          | 0/117 [00:00<?, ?it/s]"
          ],
          "name": "stderr"
        },
        {
          "output_type": "stream",
          "text": [
            "\n",
            " Epoch: 166,   train_loss:0.06363092474321015,  test_loss:0.1817891547599664,   Accuracy=0.7788461538461539\n"
          ],
          "name": "stdout"
        },
        {
          "output_type": "stream",
          "text": [
            "100%|██████████| 117/117 [00:02<00:00, 42.09it/s]\n",
            "100%|██████████| 13/13 [00:00<00:00, 28.74it/s]\n",
            "  0%|          | 0/117 [00:00<?, ?it/s]"
          ],
          "name": "stderr"
        },
        {
          "output_type": "stream",
          "text": [
            "\n",
            " Epoch: 167,   train_loss:0.0679424226634268,  test_loss:0.1771785541652487,   Accuracy=0.7596153846153846\n"
          ],
          "name": "stdout"
        },
        {
          "output_type": "stream",
          "text": [
            "100%|██████████| 117/117 [00:02<00:00, 42.39it/s]\n",
            "100%|██████████| 13/13 [00:00<00:00, 27.72it/s]\n",
            "  0%|          | 0/117 [00:00<?, ?it/s]"
          ],
          "name": "stderr"
        },
        {
          "output_type": "stream",
          "text": [
            "\n",
            " Epoch: 168,   train_loss:0.06900505196207608,  test_loss:0.18445230060471937,   Accuracy=0.75\n"
          ],
          "name": "stdout"
        },
        {
          "output_type": "stream",
          "text": [
            "100%|██████████| 117/117 [00:02<00:00, 42.24it/s]\n",
            "100%|██████████| 13/13 [00:00<00:00, 28.53it/s]\n",
            "  0%|          | 0/117 [00:00<?, ?it/s]"
          ],
          "name": "stderr"
        },
        {
          "output_type": "stream",
          "text": [
            "\n",
            " Epoch: 169,   train_loss:0.06525795945786259,  test_loss:0.1814067605882883,   Accuracy=0.7788461538461539\n"
          ],
          "name": "stdout"
        },
        {
          "output_type": "stream",
          "text": [
            "100%|██████████| 117/117 [00:02<00:00, 42.42it/s]\n",
            "100%|██████████| 13/13 [00:00<00:00, 27.83it/s]\n",
            "  0%|          | 0/117 [00:00<?, ?it/s]"
          ],
          "name": "stderr"
        },
        {
          "output_type": "stream",
          "text": [
            "\n",
            " Epoch: 170,   train_loss:0.06681520143587492,  test_loss:0.17828318648613417,   Accuracy=0.7788461538461539\n"
          ],
          "name": "stdout"
        },
        {
          "output_type": "stream",
          "text": [
            "100%|██████████| 117/117 [00:02<00:00, 41.95it/s]\n",
            "100%|██████████| 13/13 [00:00<00:00, 28.11it/s]\n",
            "  0%|          | 0/117 [00:00<?, ?it/s]"
          ],
          "name": "stderr"
        },
        {
          "output_type": "stream",
          "text": [
            "\n",
            " Epoch: 171,   train_loss:0.06471346117333214,  test_loss:0.1858480150023332,   Accuracy=0.7596153846153846\n",
            "Epoch   172: reducing learning rate of group 0 to 2.0616e-05.\n"
          ],
          "name": "stdout"
        },
        {
          "output_type": "stream",
          "text": [
            "100%|██████████| 117/117 [00:02<00:00, 42.02it/s]\n",
            "100%|██████████| 13/13 [00:00<00:00, 27.88it/s]\n",
            "  0%|          | 0/117 [00:00<?, ?it/s]"
          ],
          "name": "stderr"
        },
        {
          "output_type": "stream",
          "text": [
            "\n",
            " Epoch: 172,   train_loss:0.06376885460355343,  test_loss:0.18419958464801311,   Accuracy=0.7884615384615384\n"
          ],
          "name": "stdout"
        },
        {
          "output_type": "stream",
          "text": [
            "100%|██████████| 117/117 [00:02<00:00, 41.08it/s]\n",
            "100%|██████████| 13/13 [00:00<00:00, 28.40it/s]\n",
            "  0%|          | 0/117 [00:00<?, ?it/s]"
          ],
          "name": "stderr"
        },
        {
          "output_type": "stream",
          "text": [
            "\n",
            " Epoch: 173,   train_loss:0.06123651900034175,  test_loss:0.18587844231380865,   Accuracy=0.7788461538461539\n"
          ],
          "name": "stdout"
        },
        {
          "output_type": "stream",
          "text": [
            "100%|██████████| 117/117 [00:02<00:00, 42.11it/s]\n",
            "100%|██████████| 13/13 [00:00<00:00, 28.49it/s]\n",
            "  0%|          | 0/117 [00:00<?, ?it/s]"
          ],
          "name": "stderr"
        },
        {
          "output_type": "stream",
          "text": [
            "\n",
            " Epoch: 174,   train_loss:0.06286452739284588,  test_loss:0.1834223220268121,   Accuracy=0.7980769230769231\n"
          ],
          "name": "stdout"
        },
        {
          "output_type": "stream",
          "text": [
            "100%|██████████| 117/117 [00:02<00:00, 42.32it/s]\n",
            "100%|██████████| 13/13 [00:00<00:00, 28.79it/s]\n",
            "  0%|          | 0/117 [00:00<?, ?it/s]"
          ],
          "name": "stderr"
        },
        {
          "output_type": "stream",
          "text": [
            "\n",
            " Epoch: 175,   train_loss:0.0600208677072874,  test_loss:0.18238957999990538,   Accuracy=0.7884615384615384\n"
          ],
          "name": "stdout"
        },
        {
          "output_type": "stream",
          "text": [
            "100%|██████████| 117/117 [00:02<00:00, 42.56it/s]\n",
            "100%|██████████| 13/13 [00:00<00:00, 28.63it/s]\n",
            "  0%|          | 0/117 [00:00<?, ?it/s]"
          ],
          "name": "stderr"
        },
        {
          "output_type": "stream",
          "text": [
            "\n",
            " Epoch: 176,   train_loss:0.06217043794309481,  test_loss:0.1855507452184191,   Accuracy=0.7788461538461539\n"
          ],
          "name": "stdout"
        },
        {
          "output_type": "stream",
          "text": [
            "100%|██████████| 117/117 [00:02<00:00, 42.54it/s]\n",
            "100%|██████████| 13/13 [00:00<00:00, 28.58it/s]\n",
            "  0%|          | 0/117 [00:00<?, ?it/s]"
          ],
          "name": "stderr"
        },
        {
          "output_type": "stream",
          "text": [
            "\n",
            " Epoch: 177,   train_loss:0.06228890757944085,  test_loss:0.19256683224095747,   Accuracy=0.7788461538461539\n",
            "Epoch   178: reducing learning rate of group 0 to 1.6493e-05.\n"
          ],
          "name": "stdout"
        },
        {
          "output_type": "stream",
          "text": [
            "100%|██████████| 117/117 [00:02<00:00, 42.40it/s]\n",
            "100%|██████████| 13/13 [00:00<00:00, 28.04it/s]\n",
            "  0%|          | 0/117 [00:00<?, ?it/s]"
          ],
          "name": "stderr"
        },
        {
          "output_type": "stream",
          "text": [
            "\n",
            " Epoch: 178,   train_loss:0.06131965765713626,  test_loss:0.18161623667065913,   Accuracy=0.7980769230769231\n"
          ],
          "name": "stdout"
        },
        {
          "output_type": "stream",
          "text": [
            "100%|██████████| 117/117 [00:02<00:00, 41.87it/s]\n",
            "100%|██████████| 13/13 [00:00<00:00, 27.95it/s]\n",
            "  0%|          | 0/117 [00:00<?, ?it/s]"
          ],
          "name": "stderr"
        },
        {
          "output_type": "stream",
          "text": [
            "\n",
            " Epoch: 179,   train_loss:0.059220326539033495,  test_loss:0.18309312363943228,   Accuracy=0.7884615384615384\n"
          ],
          "name": "stdout"
        },
        {
          "output_type": "stream",
          "text": [
            "100%|██████████| 117/117 [00:02<00:00, 42.54it/s]\n",
            "100%|██████████| 13/13 [00:00<00:00, 28.52it/s]\n",
            "  0%|          | 0/117 [00:00<?, ?it/s]"
          ],
          "name": "stderr"
        },
        {
          "output_type": "stream",
          "text": [
            "\n",
            " Epoch: 180,   train_loss:0.06210138139306989,  test_loss:0.18673562315794137,   Accuracy=0.7884615384615384\n"
          ],
          "name": "stdout"
        },
        {
          "output_type": "stream",
          "text": [
            "100%|██████████| 117/117 [00:02<00:00, 42.48it/s]\n",
            "100%|██████████| 13/13 [00:00<00:00, 28.37it/s]\n",
            "  0%|          | 0/117 [00:00<?, ?it/s]"
          ],
          "name": "stderr"
        },
        {
          "output_type": "stream",
          "text": [
            "\n",
            " Epoch: 181,   train_loss:0.06176455908765396,  test_loss:0.18491625341658408,   Accuracy=0.8076923076923077\n"
          ],
          "name": "stdout"
        },
        {
          "output_type": "stream",
          "text": [
            "100%|██████████| 117/117 [00:02<00:00, 42.33it/s]\n",
            "100%|██████████| 13/13 [00:00<00:00, 27.68it/s]\n",
            "  0%|          | 0/117 [00:00<?, ?it/s]"
          ],
          "name": "stderr"
        },
        {
          "output_type": "stream",
          "text": [
            "\n",
            " Epoch: 182,   train_loss:0.060773031658723824,  test_loss:0.18311201924314865,   Accuracy=0.7788461538461539\n"
          ],
          "name": "stdout"
        },
        {
          "output_type": "stream",
          "text": [
            "100%|██████████| 117/117 [00:02<00:00, 42.58it/s]\n",
            "100%|██████████| 13/13 [00:00<00:00, 27.18it/s]\n",
            "  0%|          | 0/117 [00:00<?, ?it/s]"
          ],
          "name": "stderr"
        },
        {
          "output_type": "stream",
          "text": [
            "\n",
            " Epoch: 183,   train_loss:0.06015068122273327,  test_loss:0.18211895886522073,   Accuracy=0.7788461538461539\n",
            "Epoch   184: reducing learning rate of group 0 to 1.3194e-05.\n"
          ],
          "name": "stdout"
        },
        {
          "output_type": "stream",
          "text": [
            "100%|██████████| 117/117 [00:02<00:00, 42.23it/s]\n",
            "100%|██████████| 13/13 [00:00<00:00, 27.42it/s]\n",
            "  0%|          | 0/117 [00:00<?, ?it/s]"
          ],
          "name": "stderr"
        },
        {
          "output_type": "stream",
          "text": [
            "\n",
            " Epoch: 184,   train_loss:0.060047786826124556,  test_loss:0.18090916317529404,   Accuracy=0.7884615384615384\n"
          ],
          "name": "stdout"
        },
        {
          "output_type": "stream",
          "text": [
            "100%|██████████| 117/117 [00:02<00:00, 41.66it/s]\n",
            "100%|██████████| 13/13 [00:00<00:00, 28.35it/s]\n",
            "  0%|          | 0/117 [00:00<?, ?it/s]"
          ],
          "name": "stderr"
        },
        {
          "output_type": "stream",
          "text": [
            "\n",
            " Epoch: 185,   train_loss:0.06082780712530909,  test_loss:0.18386288101856524,   Accuracy=0.7980769230769231\n"
          ],
          "name": "stdout"
        },
        {
          "output_type": "stream",
          "text": [
            "100%|██████████| 117/117 [00:02<00:00, 41.77it/s]\n",
            "100%|██████████| 13/13 [00:00<00:00, 27.50it/s]\n",
            "  0%|          | 0/117 [00:00<?, ?it/s]"
          ],
          "name": "stderr"
        },
        {
          "output_type": "stream",
          "text": [
            "\n",
            " Epoch: 186,   train_loss:0.061584038516649835,  test_loss:0.1894151562681565,   Accuracy=0.7788461538461539\n"
          ],
          "name": "stdout"
        },
        {
          "output_type": "stream",
          "text": [
            "100%|██████████| 117/117 [00:02<00:00, 42.26it/s]\n",
            "100%|██████████| 13/13 [00:00<00:00, 27.74it/s]\n",
            "  0%|          | 0/117 [00:00<?, ?it/s]"
          ],
          "name": "stderr"
        },
        {
          "output_type": "stream",
          "text": [
            "\n",
            " Epoch: 187,   train_loss:0.05890209877338165,  test_loss:0.1879052882297681,   Accuracy=0.7884615384615384\n"
          ],
          "name": "stdout"
        },
        {
          "output_type": "stream",
          "text": [
            "100%|██████████| 117/117 [00:02<00:00, 41.90it/s]\n",
            "100%|██████████| 13/13 [00:00<00:00, 27.64it/s]\n",
            "  0%|          | 0/117 [00:00<?, ?it/s]"
          ],
          "name": "stderr"
        },
        {
          "output_type": "stream",
          "text": [
            "\n",
            " Epoch: 188,   train_loss:0.060883640136537895,  test_loss:0.18347790407446715,   Accuracy=0.7980769230769231\n"
          ],
          "name": "stdout"
        },
        {
          "output_type": "stream",
          "text": [
            "100%|██████████| 117/117 [00:02<00:00, 42.26it/s]\n",
            "100%|██████████| 13/13 [00:00<00:00, 29.08it/s]\n",
            "  0%|          | 0/117 [00:00<?, ?it/s]"
          ],
          "name": "stderr"
        },
        {
          "output_type": "stream",
          "text": [
            "\n",
            " Epoch: 189,   train_loss:0.06128952017006201,  test_loss:0.18878432198499256,   Accuracy=0.7884615384615384\n",
            "Epoch   190: reducing learning rate of group 0 to 1.0555e-05.\n"
          ],
          "name": "stdout"
        },
        {
          "output_type": "stream",
          "text": [
            "100%|██████████| 117/117 [00:02<00:00, 42.05it/s]\n",
            "100%|██████████| 13/13 [00:00<00:00, 28.56it/s]\n",
            "  0%|          | 0/117 [00:00<?, ?it/s]"
          ],
          "name": "stderr"
        },
        {
          "output_type": "stream",
          "text": [
            "\n",
            " Epoch: 190,   train_loss:0.055536254555878475,  test_loss:0.1896730281699162,   Accuracy=0.7884615384615384\n"
          ],
          "name": "stdout"
        },
        {
          "output_type": "stream",
          "text": [
            "100%|██████████| 117/117 [00:02<00:00, 42.36it/s]\n",
            "100%|██████████| 13/13 [00:00<00:00, 27.69it/s]\n",
            "  0%|          | 0/117 [00:00<?, ?it/s]"
          ],
          "name": "stderr"
        },
        {
          "output_type": "stream",
          "text": [
            "\n",
            " Epoch: 191,   train_loss:0.05599383090853564,  test_loss:0.18619426497473165,   Accuracy=0.7980769230769231\n"
          ],
          "name": "stdout"
        },
        {
          "output_type": "stream",
          "text": [
            "100%|██████████| 117/117 [00:02<00:00, 42.39it/s]\n",
            "100%|██████████| 13/13 [00:00<00:00, 27.26it/s]\n",
            "  0%|          | 0/117 [00:00<?, ?it/s]"
          ],
          "name": "stderr"
        },
        {
          "output_type": "stream",
          "text": [
            "\n",
            " Epoch: 192,   train_loss:0.057530132042737596,  test_loss:0.19221378963154095,   Accuracy=0.7692307692307693\n"
          ],
          "name": "stdout"
        },
        {
          "output_type": "stream",
          "text": [
            "100%|██████████| 117/117 [00:02<00:00, 42.09it/s]\n",
            "100%|██████████| 13/13 [00:00<00:00, 28.33it/s]\n",
            "  0%|          | 0/117 [00:00<?, ?it/s]"
          ],
          "name": "stderr"
        },
        {
          "output_type": "stream",
          "text": [
            "\n",
            " Epoch: 193,   train_loss:0.056457235438064635,  test_loss:0.18848613341553852,   Accuracy=0.7884615384615384\n"
          ],
          "name": "stdout"
        },
        {
          "output_type": "stream",
          "text": [
            "100%|██████████| 117/117 [00:02<00:00, 42.21it/s]\n",
            "100%|██████████| 13/13 [00:00<00:00, 29.14it/s]\n",
            "  0%|          | 0/117 [00:00<?, ?it/s]"
          ],
          "name": "stderr"
        },
        {
          "output_type": "stream",
          "text": [
            "\n",
            " Epoch: 194,   train_loss:0.05719638422020098,  test_loss:0.18584651170441738,   Accuracy=0.7884615384615384\n"
          ],
          "name": "stdout"
        },
        {
          "output_type": "stream",
          "text": [
            "100%|██████████| 117/117 [00:02<00:00, 42.31it/s]\n",
            "100%|██████████| 13/13 [00:00<00:00, 28.52it/s]\n",
            "  0%|          | 0/117 [00:00<?, ?it/s]"
          ],
          "name": "stderr"
        },
        {
          "output_type": "stream",
          "text": [
            "\n",
            " Epoch: 195,   train_loss:0.05955423343066986,  test_loss:0.18664700000618512,   Accuracy=0.7692307692307693\n",
            "Epoch   196: reducing learning rate of group 0 to 8.4442e-06.\n"
          ],
          "name": "stdout"
        },
        {
          "output_type": "stream",
          "text": [
            "100%|██████████| 117/117 [00:02<00:00, 41.96it/s]\n",
            "100%|██████████| 13/13 [00:00<00:00, 27.88it/s]\n",
            "  0%|          | 0/117 [00:00<?, ?it/s]"
          ],
          "name": "stderr"
        },
        {
          "output_type": "stream",
          "text": [
            "\n",
            " Epoch: 196,   train_loss:0.05784334618056941,  test_loss:0.18882280645462182,   Accuracy=0.7788461538461539\n"
          ],
          "name": "stdout"
        },
        {
          "output_type": "stream",
          "text": [
            "100%|██████████| 117/117 [00:02<00:00, 42.51it/s]\n",
            "100%|██████████| 13/13 [00:00<00:00, 28.46it/s]\n",
            "  0%|          | 0/117 [00:00<?, ?it/s]"
          ],
          "name": "stderr"
        },
        {
          "output_type": "stream",
          "text": [
            "\n",
            " Epoch: 197,   train_loss:0.05840297042527515,  test_loss:0.18710351262528163,   Accuracy=0.7788461538461539\n"
          ],
          "name": "stdout"
        },
        {
          "output_type": "stream",
          "text": [
            "100%|██████████| 117/117 [00:02<00:00, 42.49it/s]\n",
            "100%|██████████| 13/13 [00:00<00:00, 28.71it/s]\n",
            "  0%|          | 0/117 [00:00<?, ?it/s]"
          ],
          "name": "stderr"
        },
        {
          "output_type": "stream",
          "text": [
            "\n",
            " Epoch: 198,   train_loss:0.056199674088603414,  test_loss:0.1852364017843054,   Accuracy=0.7884615384615384\n"
          ],
          "name": "stdout"
        },
        {
          "output_type": "stream",
          "text": [
            "100%|██████████| 117/117 [00:02<00:00, 42.34it/s]\n",
            "100%|██████████| 13/13 [00:00<00:00, 27.81it/s]\n"
          ],
          "name": "stderr"
        },
        {
          "output_type": "stream",
          "text": [
            "\n",
            " Epoch: 199,   train_loss:0.05538400977404199,  test_loss:0.19050028483168438,   Accuracy=0.7788461538461539\n",
            "\n",
            " Accuracy of Model is 0.7884615384615384  and Test Loss is (0.17029132608037728,)\n"
          ],
          "name": "stdout"
        },
        {
          "output_type": "display_data",
          "data": {
            "image/png": "[encoded data removed]",
            "text/plain": [
              "<Figure size 432x288 with 1 Axes>"
            ]
          },
          "metadata": {
            "tags": []
          }
        },
        {
          "output_type": "display_data",
          "data": {
            "image/png": "[encoded data removed]",
            "text/plain": [
              "<Figure size 432x288 with 1 Axes>"
            ]
          },
          "metadata": {
            "tags": []
          }
        }
      ]
    },
    {
      "cell_type": "code",
      "metadata": {
        "id": "B7Ikle_LSGgr",
        "colab_type": "code",
        "colab": {
          "base_uri": "https://localhost:8080/",
          "height": 35
        },
        "outputId": "08e800c6-66d8-498a-85f7-36a30ba0490e"
      },
      "source": [
        " "
      ],
      "execution_count": 6,
      "outputs": [
        {
          "output_type": "execute_result",
          "data": {
            "application/vnd.google.colaboratory.intrinsic+json": {
              "type": "string"
            },
            "text/plain": [
              "'input/captcha_images_v2/'"
            ]
          },
          "metadata": {
            "tags": []
          },
          "execution_count": 6
        }
      ]
    },
    {
      "cell_type": "code",
      "metadata": {
        "id": "sV5jEE1mSGgy",
        "colab_type": "code",
        "colab": {}
      },
      "source": [
        "# !pip install opencv-python"
      ],
      "execution_count": 7,
      "outputs": []
    },
    {
      "cell_type": "code",
      "metadata": {
        "id": "mb5L47bcSGg4",
        "colab_type": "code",
        "colab": {}
      },
      "source": [
        ""
      ],
      "execution_count": 7,
      "outputs": []
    },
    {
      "cell_type": "code",
      "metadata": {
        "id": "W8A4oz5KSGg-",
        "colab_type": "code",
        "colab": {
          "base_uri": "https://localhost:8080/",
          "height": 1000
        },
        "outputId": "012973cc-56df-442f-fdf4-ebce0037cc53"
      },
      "source": [
        "run_training()"
      ],
      "execution_count": 8,
      "outputs": [
        {
          "output_type": "stream",
          "text": [
            "\r  0%|          | 0/117 [00:00<?, ?it/s]"
          ],
          "name": "stderr"
        },
        {
          "output_type": "stream",
          "text": [
            "done\n"
          ],
          "name": "stdout"
        },
        {
          "output_type": "stream",
          "text": [
            "100%|██████████| 117/117 [00:02<00:00, 42.29it/s]\n",
            "100%|██████████| 13/13 [00:00<00:00, 27.30it/s]\n",
            "  0%|          | 0/117 [00:00<?, ?it/s]"
          ],
          "name": "stderr"
        },
        {
          "output_type": "stream",
          "text": [
            " \n",
            " Saving Best Model\n",
            "\n",
            " Epoch: 0,   train_loss:7.731285268424923,  test_loss:3.371751913657555,   Accuracy=0.0\n"
          ],
          "name": "stdout"
        },
        {
          "output_type": "stream",
          "text": [
            "100%|██████████| 117/117 [00:02<00:00, 41.94it/s]\n",
            "100%|██████████| 13/13 [00:00<00:00, 27.54it/s]\n",
            "  0%|          | 0/117 [00:00<?, ?it/s]"
          ],
          "name": "stderr"
        },
        {
          "output_type": "stream",
          "text": [
            " \n",
            " Saving Best Model\n",
            "\n",
            " Epoch: 1,   train_loss:3.351012301241231,  test_loss:3.345497571505033,   Accuracy=0.0\n"
          ],
          "name": "stdout"
        },
        {
          "output_type": "stream",
          "text": [
            "100%|██████████| 117/117 [00:02<00:00, 40.99it/s]\n",
            "100%|██████████| 13/13 [00:00<00:00, 27.09it/s]\n",
            "  0%|          | 0/117 [00:00<?, ?it/s]"
          ],
          "name": "stderr"
        },
        {
          "output_type": "stream",
          "text": [
            " \n",
            " Saving Best Model\n",
            "\n",
            " Epoch: 2,   train_loss:3.318903211854462,  test_loss:3.3338340612558217,   Accuracy=0.0\n"
          ],
          "name": "stdout"
        },
        {
          "output_type": "stream",
          "text": [
            "100%|██████████| 117/117 [00:02<00:00, 42.13it/s]\n",
            "100%|██████████| 13/13 [00:00<00:00, 28.14it/s]\n",
            "  0%|          | 0/117 [00:00<?, ?it/s]"
          ],
          "name": "stderr"
        },
        {
          "output_type": "stream",
          "text": [
            " \n",
            " Saving Best Model\n",
            "\n",
            " Epoch: 3,   train_loss:3.3058708243899875,  test_loss:3.321138381958008,   Accuracy=0.0\n"
          ],
          "name": "stdout"
        },
        {
          "output_type": "stream",
          "text": [
            "100%|██████████| 117/117 [00:02<00:00, 42.31it/s]\n",
            "100%|██████████| 13/13 [00:00<00:00, 27.44it/s]\n",
            "  0%|          | 0/117 [00:00<?, ?it/s]"
          ],
          "name": "stderr"
        },
        {
          "output_type": "stream",
          "text": [
            " \n",
            " Saving Best Model\n",
            "\n",
            " Epoch: 4,   train_loss:3.2953878814338617,  test_loss:3.314098413173969,   Accuracy=0.0\n"
          ],
          "name": "stdout"
        },
        {
          "output_type": "stream",
          "text": [
            "100%|██████████| 117/117 [00:02<00:00, 41.56it/s]\n",
            "100%|██████████| 13/13 [00:00<00:00, 28.28it/s]\n",
            "  0%|          | 0/117 [00:00<?, ?it/s]"
          ],
          "name": "stderr"
        },
        {
          "output_type": "stream",
          "text": [
            " \n",
            " Saving Best Model\n",
            "\n",
            " Epoch: 5,   train_loss:3.2886174540234427,  test_loss:3.3073723866389346,   Accuracy=0.0\n"
          ],
          "name": "stdout"
        },
        {
          "output_type": "stream",
          "text": [
            "100%|██████████| 117/117 [00:02<00:00, 41.88it/s]\n",
            "100%|██████████| 13/13 [00:00<00:00, 27.74it/s]\n",
            "  0%|          | 0/117 [00:00<?, ?it/s]"
          ],
          "name": "stderr"
        },
        {
          "output_type": "stream",
          "text": [
            " \n",
            " Saving Best Model\n",
            "\n",
            " Epoch: 6,   train_loss:3.283823647050776,  test_loss:3.3029066966130185,   Accuracy=0.0\n"
          ],
          "name": "stdout"
        },
        {
          "output_type": "stream",
          "text": [
            "100%|██████████| 117/117 [00:02<00:00, 42.20it/s]\n",
            "100%|██████████| 13/13 [00:00<00:00, 27.80it/s]\n",
            "  0%|          | 0/117 [00:00<?, ?it/s]"
          ],
          "name": "stderr"
        },
        {
          "output_type": "stream",
          "text": [
            " \n",
            " Saving Best Model\n",
            "\n",
            " Epoch: 7,   train_loss:3.2786508849543385,  test_loss:3.2984775946690488,   Accuracy=0.0\n"
          ],
          "name": "stdout"
        },
        {
          "output_type": "stream",
          "text": [
            "100%|██████████| 117/117 [00:02<00:00, 42.35it/s]\n",
            "100%|██████████| 13/13 [00:00<00:00, 27.88it/s]\n",
            "  0%|          | 0/117 [00:00<?, ?it/s]"
          ],
          "name": "stderr"
        },
        {
          "output_type": "stream",
          "text": [
            " \n",
            " Saving Best Model\n",
            "\n",
            " Epoch: 8,   train_loss:3.276879650914771,  test_loss:3.296768408555251,   Accuracy=0.0\n"
          ],
          "name": "stdout"
        },
        {
          "output_type": "stream",
          "text": [
            "100%|██████████| 117/117 [00:02<00:00, 41.80it/s]\n",
            "100%|██████████| 13/13 [00:00<00:00, 27.56it/s]\n",
            "  0%|          | 0/117 [00:00<?, ?it/s]"
          ],
          "name": "stderr"
        },
        {
          "output_type": "stream",
          "text": [
            " \n",
            " Saving Best Model\n",
            "\n",
            " Epoch: 9,   train_loss:3.2735910517537694,  test_loss:3.2959010234245887,   Accuracy=0.0\n"
          ],
          "name": "stdout"
        },
        {
          "output_type": "stream",
          "text": [
            "100%|██████████| 117/117 [00:02<00:00, 42.26it/s]\n",
            "100%|██████████| 13/13 [00:00<00:00, 26.98it/s]\n",
            "  0%|          | 0/117 [00:00<?, ?it/s]"
          ],
          "name": "stderr"
        },
        {
          "output_type": "stream",
          "text": [
            " \n",
            " Saving Best Model\n",
            "\n",
            " Epoch: 10,   train_loss:3.2713624086135473,  test_loss:3.294821097300603,   Accuracy=0.0\n"
          ],
          "name": "stdout"
        },
        {
          "output_type": "stream",
          "text": [
            "100%|██████████| 117/117 [00:02<00:00, 42.06it/s]\n",
            "100%|██████████| 13/13 [00:00<00:00, 27.18it/s]\n",
            "  0%|          | 0/117 [00:00<?, ?it/s]"
          ],
          "name": "stderr"
        },
        {
          "output_type": "stream",
          "text": [
            "\n",
            " Epoch: 11,   train_loss:3.270746538781712,  test_loss:3.295461361224835,   Accuracy=0.0\n"
          ],
          "name": "stdout"
        },
        {
          "output_type": "stream",
          "text": [
            "100%|██████████| 117/117 [00:02<00:00, 41.80it/s]\n",
            "100%|██████████| 13/13 [00:00<00:00, 28.09it/s]\n",
            "  0%|          | 0/117 [00:00<?, ?it/s]"
          ],
          "name": "stderr"
        },
        {
          "output_type": "stream",
          "text": [
            " \n",
            " Saving Best Model\n",
            "\n",
            " Epoch: 12,   train_loss:3.2695647223382935,  test_loss:3.291952756734995,   Accuracy=0.0\n"
          ],
          "name": "stdout"
        },
        {
          "output_type": "stream",
          "text": [
            "100%|██████████| 117/117 [00:02<00:00, 41.79it/s]\n",
            "100%|██████████| 13/13 [00:00<00:00, 27.26it/s]\n",
            "  0%|          | 0/117 [00:00<?, ?it/s]"
          ],
          "name": "stderr"
        },
        {
          "output_type": "stream",
          "text": [
            "\n",
            " Epoch: 13,   train_loss:3.268328140943478,  test_loss:3.292342130954449,   Accuracy=0.0\n"
          ],
          "name": "stdout"
        },
        {
          "output_type": "stream",
          "text": [
            "100%|██████████| 117/117 [00:02<00:00, 42.41it/s]\n",
            "100%|██████████| 13/13 [00:00<00:00, 28.56it/s]\n",
            "  0%|          | 0/117 [00:00<?, ?it/s]"
          ],
          "name": "stderr"
        },
        {
          "output_type": "stream",
          "text": [
            "\n",
            " Epoch: 14,   train_loss:3.268610616015573,  test_loss:3.293739814024705,   Accuracy=0.0\n"
          ],
          "name": "stdout"
        },
        {
          "output_type": "stream",
          "text": [
            "100%|██████████| 117/117 [00:02<00:00, 42.42it/s]\n",
            "100%|██████████| 13/13 [00:00<00:00, 27.08it/s]\n",
            "  0%|          | 0/117 [00:00<?, ?it/s]"
          ],
          "name": "stderr"
        },
        {
          "output_type": "stream",
          "text": [
            " \n",
            " Saving Best Model\n",
            "\n",
            " Epoch: 15,   train_loss:3.2684576124207587,  test_loss:3.291256171006423,   Accuracy=0.0\n"
          ],
          "name": "stdout"
        },
        {
          "output_type": "stream",
          "text": [
            "100%|██████████| 117/117 [00:02<00:00, 42.31it/s]\n",
            "100%|██████████| 13/13 [00:00<00:00, 27.48it/s]\n",
            "  0%|          | 0/117 [00:00<?, ?it/s]"
          ],
          "name": "stderr"
        },
        {
          "output_type": "stream",
          "text": [
            "\n",
            " Epoch: 16,   train_loss:3.267730105636466,  test_loss:3.296476987692026,   Accuracy=0.0\n"
          ],
          "name": "stdout"
        },
        {
          "output_type": "stream",
          "text": [
            "100%|██████████| 117/117 [00:02<00:00, 42.22it/s]\n",
            "100%|██████████| 13/13 [00:00<00:00, 28.97it/s]\n",
            "  0%|          | 0/117 [00:00<?, ?it/s]"
          ],
          "name": "stderr"
        },
        {
          "output_type": "stream",
          "text": [
            " \n",
            " Saving Best Model\n",
            "\n",
            " Epoch: 17,   train_loss:3.267827893933679,  test_loss:3.289088799403264,   Accuracy=0.0\n"
          ],
          "name": "stdout"
        },
        {
          "output_type": "error",
          "ename": "KeyboardInterrupt",
          "evalue": "ignored",
          "traceback": [
            "\u001b[0;31m---------------------------------------------------------------------------\u001b[0m",
            "\u001b[0;31mKeyboardInterrupt\u001b[0m                         Traceback (most recent call last)",
            "\u001b[0;32m<ipython-input-8-2f18cc448813>\u001b[0m in \u001b[0;36m<module>\u001b[0;34m()\u001b[0m\n\u001b[0;32m----> 1\u001b[0;31m \u001b[0mrun_training\u001b[0m\u001b[0;34m(\u001b[0m\u001b[0;34m)\u001b[0m\u001b[0;34m\u001b[0m\u001b[0;34m\u001b[0m\u001b[0m\n\u001b[0m",
            "\u001b[0;32m/content/Projects/Captcha_CTC/train.py\u001b[0m in \u001b[0;36mrun_training\u001b[0;34m()\u001b[0m\n\u001b[1;32m    116\u001b[0m     \u001b[0mbest_accuracy\u001b[0m\u001b[0;34m=\u001b[0m\u001b[0;36m0\u001b[0m\u001b[0;34m\u001b[0m\u001b[0;34m\u001b[0m\u001b[0m\n\u001b[1;32m    117\u001b[0m     \u001b[0;32mfor\u001b[0m \u001b[0mepoch\u001b[0m \u001b[0;32min\u001b[0m \u001b[0mrange\u001b[0m\u001b[0;34m(\u001b[0m\u001b[0mconfig\u001b[0m\u001b[0;34m.\u001b[0m\u001b[0mEPOCHS\u001b[0m\u001b[0;34m)\u001b[0m\u001b[0;34m:\u001b[0m\u001b[0;34m\u001b[0m\u001b[0;34m\u001b[0m\u001b[0m\n\u001b[0;32m--> 118\u001b[0;31m         \u001b[0mtrain_loss\u001b[0m \u001b[0;34m=\u001b[0m \u001b[0mengine\u001b[0m\u001b[0;34m.\u001b[0m\u001b[0mtrain_fn\u001b[0m\u001b[0;34m(\u001b[0m\u001b[0mmodel\u001b[0m\u001b[0;34m,\u001b[0m \u001b[0mtrain_loader\u001b[0m\u001b[0;34m,\u001b[0m \u001b[0moptimizer\u001b[0m\u001b[0;34m)\u001b[0m\u001b[0;34m\u001b[0m\u001b[0;34m\u001b[0m\u001b[0m\n\u001b[0m\u001b[1;32m    119\u001b[0m         \u001b[0mtest_prediction\u001b[0m\u001b[0;34m,\u001b[0m \u001b[0mtest_loss\u001b[0m \u001b[0;34m=\u001b[0m \u001b[0mengine\u001b[0m\u001b[0;34m.\u001b[0m\u001b[0meval_fn\u001b[0m\u001b[0;34m(\u001b[0m\u001b[0mmodel\u001b[0m\u001b[0;34m,\u001b[0m \u001b[0mtest_loader\u001b[0m\u001b[0;34m)\u001b[0m\u001b[0;34m\u001b[0m\u001b[0;34m\u001b[0m\u001b[0m\n\u001b[1;32m    120\u001b[0m \u001b[0;34m\u001b[0m\u001b[0m\n",
            "\u001b[0;32m/content/Projects/Captcha_CTC/engine.py\u001b[0m in \u001b[0;36mtrain_fn\u001b[0;34m(model, data_loader, optimizer)\u001b[0m\n\u001b[1;32m      9\u001b[0m     \u001b[0mfin_loss\u001b[0m \u001b[0;34m=\u001b[0m \u001b[0;36m0\u001b[0m\u001b[0;34m\u001b[0m\u001b[0;34m\u001b[0m\u001b[0m\n\u001b[1;32m     10\u001b[0m     \u001b[0mtk\u001b[0m \u001b[0;34m=\u001b[0m \u001b[0mtqdm\u001b[0m\u001b[0;34m(\u001b[0m\u001b[0mdata_loader\u001b[0m\u001b[0;34m,\u001b[0m \u001b[0mtotal\u001b[0m\u001b[0;34m=\u001b[0m\u001b[0mlen\u001b[0m\u001b[0;34m(\u001b[0m\u001b[0mdata_loader\u001b[0m\u001b[0;34m)\u001b[0m\u001b[0;34m)\u001b[0m\u001b[0;34m\u001b[0m\u001b[0;34m\u001b[0m\u001b[0m\n\u001b[0;32m---> 11\u001b[0;31m     \u001b[0;32mfor\u001b[0m \u001b[0mdata\u001b[0m \u001b[0;32min\u001b[0m \u001b[0mtk\u001b[0m\u001b[0;34m:\u001b[0m\u001b[0;34m\u001b[0m\u001b[0;34m\u001b[0m\u001b[0m\n\u001b[0m\u001b[1;32m     12\u001b[0m         \u001b[0;32mfor\u001b[0m \u001b[0mk\u001b[0m\u001b[0;34m,\u001b[0m \u001b[0mv\u001b[0m \u001b[0;32min\u001b[0m \u001b[0mdata\u001b[0m\u001b[0;34m.\u001b[0m\u001b[0mitems\u001b[0m\u001b[0;34m(\u001b[0m\u001b[0;34m)\u001b[0m\u001b[0;34m:\u001b[0m\u001b[0;34m\u001b[0m\u001b[0;34m\u001b[0m\u001b[0m\n\u001b[1;32m     13\u001b[0m             \u001b[0mdata\u001b[0m\u001b[0;34m[\u001b[0m\u001b[0mk\u001b[0m\u001b[0;34m]\u001b[0m \u001b[0;34m=\u001b[0m \u001b[0mv\u001b[0m\u001b[0;34m.\u001b[0m\u001b[0mto\u001b[0m\u001b[0;34m(\u001b[0m\u001b[0mconfig\u001b[0m\u001b[0;34m.\u001b[0m\u001b[0mDEVICE\u001b[0m\u001b[0;34m)\u001b[0m\u001b[0;34m\u001b[0m\u001b[0;34m\u001b[0m\u001b[0m\n",
            "\u001b[0;32m/usr/local/lib/python3.6/dist-packages/tqdm/std.py\u001b[0m in \u001b[0;36m__iter__\u001b[0;34m(self)\u001b[0m\n\u001b[1;32m   1102\u001b[0m                 fp_write=getattr(self.fp, 'write', sys.stderr.write))\n\u001b[1;32m   1103\u001b[0m \u001b[0;34m\u001b[0m\u001b[0m\n\u001b[0;32m-> 1104\u001b[0;31m         \u001b[0;32mfor\u001b[0m \u001b[0mobj\u001b[0m \u001b[0;32min\u001b[0m \u001b[0miterable\u001b[0m\u001b[0;34m:\u001b[0m\u001b[0;34m\u001b[0m\u001b[0;34m\u001b[0m\u001b[0m\n\u001b[0m\u001b[1;32m   1105\u001b[0m             \u001b[0;32myield\u001b[0m \u001b[0mobj\u001b[0m\u001b[0;34m\u001b[0m\u001b[0;34m\u001b[0m\u001b[0m\n\u001b[1;32m   1106\u001b[0m             \u001b[0;31m# Update and possibly print the progressbar.\u001b[0m\u001b[0;34m\u001b[0m\u001b[0;34m\u001b[0m\u001b[0;34m\u001b[0m\u001b[0m\n",
            "\u001b[0;32m/usr/local/lib/python3.6/dist-packages/torch/utils/data/dataloader.py\u001b[0m in \u001b[0;36m__iter__\u001b[0;34m(self)\u001b[0m\n\u001b[1;32m    289\u001b[0m             \u001b[0;32mreturn\u001b[0m \u001b[0m_SingleProcessDataLoaderIter\u001b[0m\u001b[0;34m(\u001b[0m\u001b[0mself\u001b[0m\u001b[0;34m)\u001b[0m\u001b[0;34m\u001b[0m\u001b[0;34m\u001b[0m\u001b[0m\n\u001b[1;32m    290\u001b[0m         \u001b[0;32melse\u001b[0m\u001b[0;34m:\u001b[0m\u001b[0;34m\u001b[0m\u001b[0;34m\u001b[0m\u001b[0m\n\u001b[0;32m--> 291\u001b[0;31m             \u001b[0;32mreturn\u001b[0m \u001b[0m_MultiProcessingDataLoaderIter\u001b[0m\u001b[0;34m(\u001b[0m\u001b[0mself\u001b[0m\u001b[0;34m)\u001b[0m\u001b[0;34m\u001b[0m\u001b[0;34m\u001b[0m\u001b[0m\n\u001b[0m\u001b[1;32m    292\u001b[0m \u001b[0;34m\u001b[0m\u001b[0m\n\u001b[1;32m    293\u001b[0m     \u001b[0;34m@\u001b[0m\u001b[0mproperty\u001b[0m\u001b[0;34m\u001b[0m\u001b[0;34m\u001b[0m\u001b[0m\n",
            "\u001b[0;32m/usr/local/lib/python3.6/dist-packages/torch/utils/data/dataloader.py\u001b[0m in \u001b[0;36m__init__\u001b[0;34m(self, loader)\u001b[0m\n\u001b[1;32m    735\u001b[0m             \u001b[0;31m#     before it starts, and __del__ tries to join but will get:\u001b[0m\u001b[0;34m\u001b[0m\u001b[0;34m\u001b[0m\u001b[0;34m\u001b[0m\u001b[0m\n\u001b[1;32m    736\u001b[0m             \u001b[0;31m#     AssertionError: can only join a started process.\u001b[0m\u001b[0;34m\u001b[0m\u001b[0;34m\u001b[0m\u001b[0;34m\u001b[0m\u001b[0m\n\u001b[0;32m--> 737\u001b[0;31m             \u001b[0mw\u001b[0m\u001b[0;34m.\u001b[0m\u001b[0mstart\u001b[0m\u001b[0;34m(\u001b[0m\u001b[0;34m)\u001b[0m\u001b[0;34m\u001b[0m\u001b[0;34m\u001b[0m\u001b[0m\n\u001b[0m\u001b[1;32m    738\u001b[0m             \u001b[0mself\u001b[0m\u001b[0;34m.\u001b[0m\u001b[0m_index_queues\u001b[0m\u001b[0;34m.\u001b[0m\u001b[0mappend\u001b[0m\u001b[0;34m(\u001b[0m\u001b[0mindex_queue\u001b[0m\u001b[0;34m)\u001b[0m\u001b[0;34m\u001b[0m\u001b[0;34m\u001b[0m\u001b[0m\n\u001b[1;32m    739\u001b[0m             \u001b[0mself\u001b[0m\u001b[0;34m.\u001b[0m\u001b[0m_workers\u001b[0m\u001b[0;34m.\u001b[0m\u001b[0mappend\u001b[0m\u001b[0;34m(\u001b[0m\u001b[0mw\u001b[0m\u001b[0;34m)\u001b[0m\u001b[0;34m\u001b[0m\u001b[0;34m\u001b[0m\u001b[0m\n",
            "\u001b[0;32m/usr/lib/python3.6/multiprocessing/process.py\u001b[0m in \u001b[0;36mstart\u001b[0;34m(self)\u001b[0m\n\u001b[1;32m    103\u001b[0m                \u001b[0;34m'daemonic processes are not allowed to have children'\u001b[0m\u001b[0;34m\u001b[0m\u001b[0;34m\u001b[0m\u001b[0m\n\u001b[1;32m    104\u001b[0m         \u001b[0m_cleanup\u001b[0m\u001b[0;34m(\u001b[0m\u001b[0;34m)\u001b[0m\u001b[0;34m\u001b[0m\u001b[0;34m\u001b[0m\u001b[0m\n\u001b[0;32m--> 105\u001b[0;31m         \u001b[0mself\u001b[0m\u001b[0;34m.\u001b[0m\u001b[0m_popen\u001b[0m \u001b[0;34m=\u001b[0m \u001b[0mself\u001b[0m\u001b[0;34m.\u001b[0m\u001b[0m_Popen\u001b[0m\u001b[0;34m(\u001b[0m\u001b[0mself\u001b[0m\u001b[0;34m)\u001b[0m\u001b[0;34m\u001b[0m\u001b[0;34m\u001b[0m\u001b[0m\n\u001b[0m\u001b[1;32m    106\u001b[0m         \u001b[0mself\u001b[0m\u001b[0;34m.\u001b[0m\u001b[0m_sentinel\u001b[0m \u001b[0;34m=\u001b[0m \u001b[0mself\u001b[0m\u001b[0;34m.\u001b[0m\u001b[0m_popen\u001b[0m\u001b[0;34m.\u001b[0m\u001b[0msentinel\u001b[0m\u001b[0;34m\u001b[0m\u001b[0;34m\u001b[0m\u001b[0m\n\u001b[1;32m    107\u001b[0m         \u001b[0;31m# Avoid a refcycle if the target function holds an indirect\u001b[0m\u001b[0;34m\u001b[0m\u001b[0;34m\u001b[0m\u001b[0;34m\u001b[0m\u001b[0m\n",
            "\u001b[0;32m/usr/lib/python3.6/multiprocessing/context.py\u001b[0m in \u001b[0;36m_Popen\u001b[0;34m(process_obj)\u001b[0m\n\u001b[1;32m    221\u001b[0m     \u001b[0;34m@\u001b[0m\u001b[0mstaticmethod\u001b[0m\u001b[0;34m\u001b[0m\u001b[0;34m\u001b[0m\u001b[0m\n\u001b[1;32m    222\u001b[0m     \u001b[0;32mdef\u001b[0m \u001b[0m_Popen\u001b[0m\u001b[0;34m(\u001b[0m\u001b[0mprocess_obj\u001b[0m\u001b[0;34m)\u001b[0m\u001b[0;34m:\u001b[0m\u001b[0;34m\u001b[0m\u001b[0;34m\u001b[0m\u001b[0m\n\u001b[0;32m--> 223\u001b[0;31m         \u001b[0;32mreturn\u001b[0m \u001b[0m_default_context\u001b[0m\u001b[0;34m.\u001b[0m\u001b[0mget_context\u001b[0m\u001b[0;34m(\u001b[0m\u001b[0;34m)\u001b[0m\u001b[0;34m.\u001b[0m\u001b[0mProcess\u001b[0m\u001b[0;34m.\u001b[0m\u001b[0m_Popen\u001b[0m\u001b[0;34m(\u001b[0m\u001b[0mprocess_obj\u001b[0m\u001b[0;34m)\u001b[0m\u001b[0;34m\u001b[0m\u001b[0;34m\u001b[0m\u001b[0m\n\u001b[0m\u001b[1;32m    224\u001b[0m \u001b[0;34m\u001b[0m\u001b[0m\n\u001b[1;32m    225\u001b[0m \u001b[0;32mclass\u001b[0m \u001b[0mDefaultContext\u001b[0m\u001b[0;34m(\u001b[0m\u001b[0mBaseContext\u001b[0m\u001b[0;34m)\u001b[0m\u001b[0;34m:\u001b[0m\u001b[0;34m\u001b[0m\u001b[0;34m\u001b[0m\u001b[0m\n",
            "\u001b[0;32m/usr/lib/python3.6/multiprocessing/context.py\u001b[0m in \u001b[0;36m_Popen\u001b[0;34m(process_obj)\u001b[0m\n\u001b[1;32m    275\u001b[0m         \u001b[0;32mdef\u001b[0m \u001b[0m_Popen\u001b[0m\u001b[0;34m(\u001b[0m\u001b[0mprocess_obj\u001b[0m\u001b[0;34m)\u001b[0m\u001b[0;34m:\u001b[0m\u001b[0;34m\u001b[0m\u001b[0;34m\u001b[0m\u001b[0m\n\u001b[1;32m    276\u001b[0m             \u001b[0;32mfrom\u001b[0m \u001b[0;34m.\u001b[0m\u001b[0mpopen_fork\u001b[0m \u001b[0;32mimport\u001b[0m \u001b[0mPopen\u001b[0m\u001b[0;34m\u001b[0m\u001b[0;34m\u001b[0m\u001b[0m\n\u001b[0;32m--> 277\u001b[0;31m             \u001b[0;32mreturn\u001b[0m \u001b[0mPopen\u001b[0m\u001b[0;34m(\u001b[0m\u001b[0mprocess_obj\u001b[0m\u001b[0;34m)\u001b[0m\u001b[0;34m\u001b[0m\u001b[0;34m\u001b[0m\u001b[0m\n\u001b[0m\u001b[1;32m    278\u001b[0m \u001b[0;34m\u001b[0m\u001b[0m\n\u001b[1;32m    279\u001b[0m     \u001b[0;32mclass\u001b[0m \u001b[0mSpawnProcess\u001b[0m\u001b[0;34m(\u001b[0m\u001b[0mprocess\u001b[0m\u001b[0;34m.\u001b[0m\u001b[0mBaseProcess\u001b[0m\u001b[0;34m)\u001b[0m\u001b[0;34m:\u001b[0m\u001b[0;34m\u001b[0m\u001b[0;34m\u001b[0m\u001b[0m\n",
            "\u001b[0;32m/usr/lib/python3.6/multiprocessing/popen_fork.py\u001b[0m in \u001b[0;36m__init__\u001b[0;34m(self, process_obj)\u001b[0m\n\u001b[1;32m     17\u001b[0m         \u001b[0mutil\u001b[0m\u001b[0;34m.\u001b[0m\u001b[0m_flush_std_streams\u001b[0m\u001b[0;34m(\u001b[0m\u001b[0;34m)\u001b[0m\u001b[0;34m\u001b[0m\u001b[0;34m\u001b[0m\u001b[0m\n\u001b[1;32m     18\u001b[0m         \u001b[0mself\u001b[0m\u001b[0;34m.\u001b[0m\u001b[0mreturncode\u001b[0m \u001b[0;34m=\u001b[0m \u001b[0;32mNone\u001b[0m\u001b[0;34m\u001b[0m\u001b[0;34m\u001b[0m\u001b[0m\n\u001b[0;32m---> 19\u001b[0;31m         \u001b[0mself\u001b[0m\u001b[0;34m.\u001b[0m\u001b[0m_launch\u001b[0m\u001b[0;34m(\u001b[0m\u001b[0mprocess_obj\u001b[0m\u001b[0;34m)\u001b[0m\u001b[0;34m\u001b[0m\u001b[0;34m\u001b[0m\u001b[0m\n\u001b[0m\u001b[1;32m     20\u001b[0m \u001b[0;34m\u001b[0m\u001b[0m\n\u001b[1;32m     21\u001b[0m     \u001b[0;32mdef\u001b[0m \u001b[0mduplicate_for_child\u001b[0m\u001b[0;34m(\u001b[0m\u001b[0mself\u001b[0m\u001b[0;34m,\u001b[0m \u001b[0mfd\u001b[0m\u001b[0;34m)\u001b[0m\u001b[0;34m:\u001b[0m\u001b[0;34m\u001b[0m\u001b[0;34m\u001b[0m\u001b[0m\n",
            "\u001b[0;32m/usr/lib/python3.6/multiprocessing/popen_fork.py\u001b[0m in \u001b[0;36m_launch\u001b[0;34m(self, process_obj)\u001b[0m\n\u001b[1;32m     64\u001b[0m         \u001b[0mcode\u001b[0m \u001b[0;34m=\u001b[0m \u001b[0;36m1\u001b[0m\u001b[0;34m\u001b[0m\u001b[0;34m\u001b[0m\u001b[0m\n\u001b[1;32m     65\u001b[0m         \u001b[0mparent_r\u001b[0m\u001b[0;34m,\u001b[0m \u001b[0mchild_w\u001b[0m \u001b[0;34m=\u001b[0m \u001b[0mos\u001b[0m\u001b[0;34m.\u001b[0m\u001b[0mpipe\u001b[0m\u001b[0;34m(\u001b[0m\u001b[0;34m)\u001b[0m\u001b[0;34m\u001b[0m\u001b[0;34m\u001b[0m\u001b[0m\n\u001b[0;32m---> 66\u001b[0;31m         \u001b[0mself\u001b[0m\u001b[0;34m.\u001b[0m\u001b[0mpid\u001b[0m \u001b[0;34m=\u001b[0m \u001b[0mos\u001b[0m\u001b[0;34m.\u001b[0m\u001b[0mfork\u001b[0m\u001b[0;34m(\u001b[0m\u001b[0;34m)\u001b[0m\u001b[0;34m\u001b[0m\u001b[0;34m\u001b[0m\u001b[0m\n\u001b[0m\u001b[1;32m     67\u001b[0m         \u001b[0;32mif\u001b[0m \u001b[0mself\u001b[0m\u001b[0;34m.\u001b[0m\u001b[0mpid\u001b[0m \u001b[0;34m==\u001b[0m \u001b[0;36m0\u001b[0m\u001b[0;34m:\u001b[0m\u001b[0;34m\u001b[0m\u001b[0;34m\u001b[0m\u001b[0m\n\u001b[1;32m     68\u001b[0m             \u001b[0;32mtry\u001b[0m\u001b[0;34m:\u001b[0m\u001b[0;34m\u001b[0m\u001b[0;34m\u001b[0m\u001b[0m\n",
            "\u001b[0;31mKeyboardInterrupt\u001b[0m: "
          ]
        }
      ]
    },
    {
      "cell_type": "code",
      "metadata": {
        "id": "9EJcIkO2SGhE",
        "colab_type": "code",
        "colab": {}
      },
      "source": [
        ""
      ],
      "execution_count": null,
      "outputs": []
    }
  ]
}