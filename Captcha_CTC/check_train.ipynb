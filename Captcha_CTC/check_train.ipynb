{
 "cells": [
  {
   "cell_type": "code",
   "execution_count": 1,
   "metadata": {},
   "outputs": [],
   "source": [
    "import os\n",
    "os.chdir('/home/rakshit/PycharmProjects/CaptchaRecogntion/')"
   ]
  },
  {
   "cell_type": "code",
   "execution_count": 3,
   "metadata": {},
   "outputs": [
    {
     "name": "stderr",
     "output_type": "stream",
     "text": [
      "\r",
      "  0%|          | 0/117 [00:00<?, ?it/s]"
     ]
    },
    {
     "name": "stdout",
     "output_type": "stream",
     "text": [
      "done\n"
     ]
    },
    {
     "name": "stderr",
     "output_type": "stream",
     "text": [
      "100%|██████████| 117/117 [01:45<00:00,  1.11it/s]\n",
      "100%|██████████| 13/13 [00:04<00:00,  2.93it/s]\n",
      "  0%|          | 0/117 [00:00<?, ?it/s]"
     ]
    },
    {
     "name": "stdout",
     "output_type": "stream",
     "text": [
      "[('6e6pn',\n",
      "  '~~~~~~~~~~~~~~~~~~~~~~~~~~~~~~~~~~~~~~~~~~~~~~~~~~~~~~~~~~~~~~~~~~~~~~~~~~~'),\n",
      " ('nwncn',\n",
      "  '~~~~~~~~~~~~~~~~~~~~~~~~~~~~~~~~~~~~~~~~~~~~~~~~~~~~~~~~~~~~~~~~~~~~~~~~~~~'),\n",
      " ('33b22',\n",
      "  '~~~~~~~~~~~~~~~~~~~~~~~~~~~~~~~~~~~~~~~~~~~~~~~~~~~~~~~~~~~~~~~~~~~~~~~~~~~'),\n",
      " ('d4n82',\n",
      "  '~~~~~~~~~~~~~~~~~~~~~~~~~~~~~~~~~~~~~~~~~~~~~~~~~~~~~~~~~~~~~~~~~~~~~~~~~~~'),\n",
      " ('3x325',\n",
      "  '~~~~~~~~~~~~~~~~~~~~~~~~~~~~~~~~~~~~~~~~~~~~~~~~~~~~~~~~~~~~~~~~~~~~~~~~~~~')]\n",
      "Epoch: 0,train_loss:8.531977987696981,test_loss:3.4063576551584096\n"
     ]
    },
    {
     "name": "stderr",
     "output_type": "stream",
     "text": [
      " 13%|█▎        | 15/117 [00:13<01:25,  1.19it/s]Traceback (most recent call last):\n",
      "  File \"/home/rakshit/anaconda3/lib/python3.7/multiprocessing/queues.py\", line 242, in _feed\n",
      "    send_bytes(obj)\n",
      "  File \"/home/rakshit/anaconda3/lib/python3.7/multiprocessing/connection.py\", line 200, in send_bytes\n",
      "    self._send_bytes(m[offset:offset + size])\n",
      "  File \"/home/rakshit/anaconda3/lib/python3.7/multiprocessing/connection.py\", line 404, in _send_bytes\n",
      "    self._send(header + buf)\n",
      "  File \"/home/rakshit/anaconda3/lib/python3.7/multiprocessing/connection.py\", line 368, in _send\n",
      "    n = write(self._handle, buf)\n",
      "BrokenPipeError: [Errno 32] Broken pipe\n"
     ]
    },
    {
     "ename": "KeyboardInterrupt",
     "evalue": "",
     "output_type": "error",
     "traceback": [
      "\u001b[0;31m---------------------------------------------------------------------------\u001b[0m",
      "\u001b[0;31mKeyboardInterrupt\u001b[0m                         Traceback (most recent call last)",
      "\u001b[0;32m<ipython-input-3-c5727b8f2a7f>\u001b[0m in \u001b[0;36m<module>\u001b[0;34m\u001b[0m\n\u001b[1;32m     88\u001b[0m \u001b[0mprint\u001b[0m\u001b[0;34m(\u001b[0m\u001b[0;34m'done'\u001b[0m\u001b[0;34m)\u001b[0m\u001b[0;34m\u001b[0m\u001b[0;34m\u001b[0m\u001b[0m\n\u001b[1;32m     89\u001b[0m \u001b[0;32mfor\u001b[0m \u001b[0mepoch\u001b[0m \u001b[0;32min\u001b[0m \u001b[0mrange\u001b[0m\u001b[0;34m(\u001b[0m\u001b[0mconfig\u001b[0m\u001b[0;34m.\u001b[0m\u001b[0mEPOCHS\u001b[0m\u001b[0;34m)\u001b[0m\u001b[0;34m:\u001b[0m\u001b[0;34m\u001b[0m\u001b[0;34m\u001b[0m\u001b[0m\n\u001b[0;32m---> 90\u001b[0;31m     \u001b[0mtrain_loss\u001b[0m \u001b[0;34m=\u001b[0m \u001b[0mengine\u001b[0m\u001b[0;34m.\u001b[0m\u001b[0mtrain_fn\u001b[0m\u001b[0;34m(\u001b[0m\u001b[0mmodel\u001b[0m\u001b[0;34m,\u001b[0m \u001b[0mtrain_loader\u001b[0m\u001b[0;34m,\u001b[0m \u001b[0moptimizer\u001b[0m\u001b[0;34m)\u001b[0m\u001b[0;34m\u001b[0m\u001b[0;34m\u001b[0m\u001b[0m\n\u001b[0m\u001b[1;32m     91\u001b[0m     \u001b[0mtest_prediction\u001b[0m\u001b[0;34m,\u001b[0m \u001b[0mtest_loss\u001b[0m \u001b[0;34m=\u001b[0m \u001b[0mengine\u001b[0m\u001b[0;34m.\u001b[0m\u001b[0meval_fn\u001b[0m\u001b[0;34m(\u001b[0m\u001b[0mmodel\u001b[0m\u001b[0;34m,\u001b[0m \u001b[0mtest_loader\u001b[0m\u001b[0;34m)\u001b[0m\u001b[0;34m\u001b[0m\u001b[0;34m\u001b[0m\u001b[0m\n\u001b[1;32m     92\u001b[0m \u001b[0;31m#     print(type(test_prediction[0]))\u001b[0m\u001b[0;34m\u001b[0m\u001b[0;34m\u001b[0m\u001b[0;34m\u001b[0m\u001b[0m\n",
      "\u001b[0;32m~/PycharmProjects/Captcha_CTC/engine.py\u001b[0m in \u001b[0;36mtrain_fn\u001b[0;34m(model, data_loader, optimizer)\u001b[0m\n\u001b[1;32m     14\u001b[0m         \u001b[0moptimizer\u001b[0m\u001b[0;34m.\u001b[0m\u001b[0mzero_grad\u001b[0m\u001b[0;34m(\u001b[0m\u001b[0;34m)\u001b[0m\u001b[0;34m\u001b[0m\u001b[0;34m\u001b[0m\u001b[0m\n\u001b[1;32m     15\u001b[0m         \u001b[0m_\u001b[0m\u001b[0;34m,\u001b[0m \u001b[0mloss\u001b[0m \u001b[0;34m=\u001b[0m \u001b[0mmodel\u001b[0m\u001b[0;34m(\u001b[0m\u001b[0;34m**\u001b[0m\u001b[0mdata\u001b[0m\u001b[0;34m)\u001b[0m\u001b[0;34m\u001b[0m\u001b[0;34m\u001b[0m\u001b[0m\n\u001b[0;32m---> 16\u001b[0;31m         \u001b[0mloss\u001b[0m\u001b[0;34m.\u001b[0m\u001b[0mbackward\u001b[0m\u001b[0;34m(\u001b[0m\u001b[0;34m)\u001b[0m\u001b[0;34m\u001b[0m\u001b[0;34m\u001b[0m\u001b[0m\n\u001b[0m\u001b[1;32m     17\u001b[0m         \u001b[0moptimizer\u001b[0m\u001b[0;34m.\u001b[0m\u001b[0mstep\u001b[0m\u001b[0;34m(\u001b[0m\u001b[0;34m)\u001b[0m\u001b[0;34m\u001b[0m\u001b[0;34m\u001b[0m\u001b[0m\n\u001b[1;32m     18\u001b[0m         \u001b[0mfin_loss\u001b[0m \u001b[0;34m+=\u001b[0m \u001b[0mloss\u001b[0m\u001b[0;34m.\u001b[0m\u001b[0mitem\u001b[0m\u001b[0;34m(\u001b[0m\u001b[0;34m)\u001b[0m\u001b[0;34m\u001b[0m\u001b[0;34m\u001b[0m\u001b[0m\n",
      "\u001b[0;32m~/anaconda3/lib/python3.7/site-packages/torch/tensor.py\u001b[0m in \u001b[0;36mbackward\u001b[0;34m(self, gradient, retain_graph, create_graph)\u001b[0m\n\u001b[1;32m    196\u001b[0m                 \u001b[0mproducts\u001b[0m\u001b[0;34m.\u001b[0m \u001b[0mDefaults\u001b[0m \u001b[0mto\u001b[0m\u001b[0;31m \u001b[0m\u001b[0;31m`\u001b[0m\u001b[0;31m`\u001b[0m\u001b[0;32mFalse\u001b[0m\u001b[0;31m`\u001b[0m\u001b[0;31m`\u001b[0m\u001b[0;34m.\u001b[0m\u001b[0;34m\u001b[0m\u001b[0;34m\u001b[0m\u001b[0m\n\u001b[1;32m    197\u001b[0m         \"\"\"\n\u001b[0;32m--> 198\u001b[0;31m         \u001b[0mtorch\u001b[0m\u001b[0;34m.\u001b[0m\u001b[0mautograd\u001b[0m\u001b[0;34m.\u001b[0m\u001b[0mbackward\u001b[0m\u001b[0;34m(\u001b[0m\u001b[0mself\u001b[0m\u001b[0;34m,\u001b[0m \u001b[0mgradient\u001b[0m\u001b[0;34m,\u001b[0m \u001b[0mretain_graph\u001b[0m\u001b[0;34m,\u001b[0m \u001b[0mcreate_graph\u001b[0m\u001b[0;34m)\u001b[0m\u001b[0;34m\u001b[0m\u001b[0;34m\u001b[0m\u001b[0m\n\u001b[0m\u001b[1;32m    199\u001b[0m \u001b[0;34m\u001b[0m\u001b[0m\n\u001b[1;32m    200\u001b[0m     \u001b[0;32mdef\u001b[0m \u001b[0mregister_hook\u001b[0m\u001b[0;34m(\u001b[0m\u001b[0mself\u001b[0m\u001b[0;34m,\u001b[0m \u001b[0mhook\u001b[0m\u001b[0;34m)\u001b[0m\u001b[0;34m:\u001b[0m\u001b[0;34m\u001b[0m\u001b[0;34m\u001b[0m\u001b[0m\n",
      "\u001b[0;32m~/anaconda3/lib/python3.7/site-packages/torch/autograd/__init__.py\u001b[0m in \u001b[0;36mbackward\u001b[0;34m(tensors, grad_tensors, retain_graph, create_graph, grad_variables)\u001b[0m\n\u001b[1;32m     98\u001b[0m     Variable._execution_engine.run_backward(\n\u001b[1;32m     99\u001b[0m         \u001b[0mtensors\u001b[0m\u001b[0;34m,\u001b[0m \u001b[0mgrad_tensors\u001b[0m\u001b[0;34m,\u001b[0m \u001b[0mretain_graph\u001b[0m\u001b[0;34m,\u001b[0m \u001b[0mcreate_graph\u001b[0m\u001b[0;34m,\u001b[0m\u001b[0;34m\u001b[0m\u001b[0;34m\u001b[0m\u001b[0m\n\u001b[0;32m--> 100\u001b[0;31m         allow_unreachable=True)  # allow_unreachable flag\n\u001b[0m\u001b[1;32m    101\u001b[0m \u001b[0;34m\u001b[0m\u001b[0m\n\u001b[1;32m    102\u001b[0m \u001b[0;34m\u001b[0m\u001b[0m\n",
      "\u001b[0;31mKeyboardInterrupt\u001b[0m: "
     ]
    }
   ],
   "source": [
    "import functools\n",
    "import glob\n",
    "import operator\n",
    "import os\n",
    "from pprint import pprint\n",
    "\n",
    "import numpy as np\n",
    "import torch\n",
    "from sklearn import preprocessing, model_selection\n",
    "from torch.utils import data\n",
    "\n",
    "import config\n",
    "import engine\n",
    "from dataset import CaptchaImageDataset\n",
    "from model import CaptchaModel\n",
    "\n",
    "\n",
    "def decode_predictions(prediction, encoder):\n",
    "    prediction = prediction.permute(1, 0, 2)\n",
    "    prediction = torch.softmax(prediction, 2)\n",
    "    prediction = torch.argmax(prediction, 2)\n",
    "    prediction = prediction.detach().cpu().numpy()\n",
    "    cap_prediction = []\n",
    "    for j in range(prediction.shape[0]):\n",
    "        temp = []\n",
    "        for k in prediction[j, :]:\n",
    "            k = k - 1\n",
    "            if k == -1:\n",
    "                temp.append(\"~\")\n",
    "            else:\n",
    "                temp.append(encoder.inverse_transform([k])[0])\n",
    "        tp = \"\".join(temp)\n",
    "        cap_prediction.append(tp)\n",
    "    return cap_prediction\n",
    "\n",
    "\n",
    "# def run_training():\n",
    "image_files = glob.glob(os.path.join(config.DATA_DIR, \"*.png\"))\n",
    "targets_orig = [os.path.splitext(os.path.basename(i))[0] for i in image_files]\n",
    "\n",
    "targets = [[c for c in i] for i in targets_orig]\n",
    "targets_flat = functools.reduce(operator.iconcat, targets, [])\n",
    "# [j for i in targets for j in i ]\n",
    "lbl_enc = preprocessing.LabelEncoder()\n",
    "lbl_enc.fit(targets_flat)\n",
    "target_enc = [lbl_enc.transform(i) for i in targets]\n",
    "target_enc = np.array(target_enc) + 1\n",
    "\n",
    "train_images, test_images, train_targets, test_targets, train_orig_targets, test_orig_targets = model_selection.train_test_split(\n",
    "    image_files, target_enc, targets_orig, test_size=0.1, random_state=42)\n",
    "\n",
    "train_data = CaptchaImageDataset(\n",
    "    image_paths=train_images,\n",
    "    targets=train_targets,\n",
    "    resize=(config.IMAGE_HEIGHT, config.IMAGE_WIDTH)\n",
    ")\n",
    "\n",
    "train_loader = data.DataLoader(\n",
    "    train_data,\n",
    "    batch_size=config.BATCH_SIZE,\n",
    "    num_workers=config.NUM_WORKERS,\n",
    "    shuffle=True\n",
    ")\n",
    "\n",
    "test_data = CaptchaImageDataset(\n",
    "    image_paths=test_images,\n",
    "    targets=train_targets,\n",
    "    resize=(config.IMAGE_HEIGHT, config.IMAGE_WIDTH)\n",
    ")\n",
    "test_loader = data.DataLoader(\n",
    "    test_data,\n",
    "    batch_size=config.BATCH_SIZE,\n",
    "    num_workers=config.NUM_WORKERS,\n",
    "    shuffle=False\n",
    ")\n",
    "\n",
    "model = CaptchaModel(num_chars=len(lbl_enc.classes_))\n",
    "model.to(config.DEVICE)\n",
    "\n",
    "optimizer = torch.optim.Adam(model.parameters(),\n",
    "                             lr=3e-4)\n",
    "scheduler = torch.optim.lr_scheduler.ReduceLROnPlateau(\n",
    "    optimizer,\n",
    "    factor=0.8,\n",
    "    patience=5,\n",
    "    verbose=True\n",
    ")\n",
    "print('done')\n",
    "for epoch in range(config.EPOCHS):\n",
    "    train_loss = engine.train_fn(model, train_loader, optimizer)\n",
    "    test_prediction, test_loss = engine.eval_fn(model, test_loader)\n",
    "#     print(type(test_prediction[0]))\n",
    "    test_cap_prediction = []\n",
    "    for kk in test_prediction:\n",
    "        current_prediction = decode_predictions(kk, lbl_enc)\n",
    "        test_cap_prediction.extend(current_prediction)\n",
    "    pprint(list(zip(test_orig_targets, test_cap_prediction))[6:11])\n",
    "    print(f\"Epoch: {epoch},train_loss:{train_loss},test_loss:{test_loss}\")\n",
    "\n",
    "\n"
   ]
  },
  {
   "cell_type": "code",
   "execution_count": 3,
   "metadata": {},
   "outputs": [
    {
     "name": "stdout",
     "output_type": "stream",
     "text": [
      "<class 'torch.Tensor'>\n"
     ]
    }
   ],
   "source": [
    "print(type(test_prediction[0]))"
   ]
  },
  {
   "cell_type": "code",
   "execution_count": 6,
   "metadata": {},
   "outputs": [
    {
     "data": {
      "text/plain": [
       "'input/captcha_images_v2/'"
      ]
     },
     "execution_count": 6,
     "metadata": {},
     "output_type": "execute_result"
    }
   ],
   "source": [
    "config.DATA_DIR"
   ]
  },
  {
   "cell_type": "code",
   "execution_count": 7,
   "metadata": {},
   "outputs": [],
   "source": [
    "# !pip install opencv-python"
   ]
  },
  {
   "cell_type": "code",
   "execution_count": null,
   "metadata": {},
   "outputs": [],
   "source": []
  },
  {
   "cell_type": "code",
   "execution_count": 8,
   "metadata": {},
   "outputs": [
    {
     "name": "stderr",
     "output_type": "stream",
     "text": [
      "\n",
      "  0%|          | 0/117 [00:00<?, ?it/s]\u001b[A"
     ]
    },
    {
     "name": "stdout",
     "output_type": "stream",
     "text": [
      "done\n"
     ]
    },
    {
     "name": "stderr",
     "output_type": "stream",
     "text": [
      "\n",
      "  1%|          | 1/117 [00:01<02:02,  1.05s/it]\u001b[A\n",
      "  2%|▏         | 2/117 [00:01<01:55,  1.01s/it]\u001b[A\n",
      "  3%|▎         | 3/117 [00:02<01:48,  1.05it/s]\u001b[A\n",
      "  3%|▎         | 4/117 [00:03<01:43,  1.09it/s]\u001b[A\n",
      "  4%|▍         | 5/117 [00:04<01:39,  1.12it/s]\u001b[A\n",
      "  5%|▌         | 6/117 [00:05<01:36,  1.15it/s]\u001b[A\n",
      "  6%|▌         | 7/117 [00:06<01:34,  1.16it/s]\u001b[A\n",
      "  7%|▋         | 8/117 [00:06<01:32,  1.17it/s]\u001b[A\n",
      "  8%|▊         | 9/117 [00:07<01:33,  1.16it/s]\u001b[A\n",
      "  9%|▊         | 10/117 [00:08<01:38,  1.09it/s]\u001b[A\n",
      "  9%|▉         | 11/117 [00:09<01:42,  1.04it/s]\u001b[A\n",
      " 10%|█         | 12/117 [00:11<01:47,  1.02s/it]\u001b[A\n",
      " 11%|█         | 13/117 [00:12<01:46,  1.03s/it]\u001b[A\n",
      " 12%|█▏        | 14/117 [00:13<01:40,  1.02it/s]\u001b[A\n",
      " 13%|█▎        | 15/117 [00:13<01:34,  1.07it/s]\u001b[A\n",
      " 14%|█▎        | 16/117 [00:14<01:31,  1.10it/s]\u001b[A\n",
      " 15%|█▍        | 17/117 [00:15<01:28,  1.13it/s]\u001b[A\n",
      " 15%|█▌        | 18/117 [00:16<01:26,  1.14it/s]\u001b[A\n",
      " 16%|█▌        | 19/117 [00:17<01:23,  1.17it/s]\u001b[A\n",
      " 17%|█▋        | 20/117 [00:17<01:21,  1.18it/s]\u001b[A\n",
      " 18%|█▊        | 21/117 [00:18<01:20,  1.19it/s]\u001b[A\n",
      " 19%|█▉        | 22/117 [00:19<01:19,  1.19it/s]\u001b[A\n",
      " 20%|█▉        | 23/117 [00:20<01:17,  1.21it/s]\u001b[A\n",
      " 21%|██        | 24/117 [00:21<01:16,  1.21it/s]\u001b[A\n",
      " 21%|██▏       | 25/117 [00:22<01:15,  1.22it/s]\u001b[A\n",
      " 22%|██▏       | 26/117 [00:22<01:14,  1.22it/s]\u001b[A\n",
      " 23%|██▎       | 27/117 [00:23<01:13,  1.22it/s]\u001b[A\n",
      " 24%|██▍       | 28/117 [00:24<01:12,  1.22it/s]\u001b[A\n",
      " 25%|██▍       | 29/117 [00:25<01:12,  1.21it/s]\u001b[A\n",
      " 26%|██▌       | 30/117 [00:26<01:12,  1.20it/s]\u001b[A\n",
      " 26%|██▋       | 31/117 [00:27<01:13,  1.17it/s]\u001b[A\n",
      " 27%|██▋       | 32/117 [00:28<01:28,  1.04s/it]\u001b[A\n",
      " 28%|██▊       | 33/117 [00:29<01:32,  1.10s/it]\u001b[A\n",
      " 29%|██▉       | 34/117 [00:30<01:29,  1.07s/it]\u001b[A\n",
      " 30%|██▉       | 35/117 [00:31<01:23,  1.02s/it]\u001b[A\n",
      " 31%|███       | 36/117 [00:33<01:35,  1.18s/it]\u001b[A\n",
      " 32%|███▏      | 37/117 [00:34<01:27,  1.09s/it]\u001b[A\n",
      " 32%|███▏      | 38/117 [00:35<01:20,  1.01s/it]\u001b[A\n",
      " 33%|███▎      | 39/117 [00:35<01:18,  1.00s/it]\u001b[A\n",
      " 34%|███▍      | 40/117 [00:37<01:17,  1.01s/it]\u001b[A\n",
      " 35%|███▌      | 41/117 [00:38<01:18,  1.03s/it]\u001b[A\n",
      " 36%|███▌      | 42/117 [00:39<01:16,  1.01s/it]\u001b[A\n",
      " 37%|███▋      | 43/117 [00:40<01:19,  1.08s/it]\u001b[A\n",
      " 38%|███▊      | 44/117 [00:41<01:18,  1.07s/it]\u001b[A\n",
      " 38%|███▊      | 45/117 [00:42<01:15,  1.04s/it]\u001b[A\n",
      " 39%|███▉      | 46/117 [00:43<01:11,  1.01s/it]\u001b[A\n",
      " 40%|████      | 47/117 [00:44<01:07,  1.04it/s]\u001b[A\n",
      " 41%|████      | 48/117 [00:44<01:03,  1.08it/s]\u001b[A\n",
      " 42%|████▏     | 49/117 [00:45<01:00,  1.13it/s]\u001b[A\n",
      " 43%|████▎     | 50/117 [00:46<00:57,  1.16it/s]\u001b[A\n",
      " 44%|████▎     | 51/117 [00:47<00:55,  1.19it/s]\u001b[A\n",
      " 44%|████▍     | 52/117 [00:48<00:53,  1.21it/s]\u001b[A\n",
      " 45%|████▌     | 53/117 [00:48<00:52,  1.22it/s]\u001b[A\n",
      " 46%|████▌     | 54/117 [00:49<00:51,  1.23it/s]\u001b[A\n",
      " 47%|████▋     | 55/117 [00:50<00:50,  1.24it/s]\u001b[A\n",
      " 48%|████▊     | 56/117 [00:51<00:49,  1.24it/s]\u001b[A\n",
      " 49%|████▊     | 57/117 [00:52<00:48,  1.24it/s]\u001b[A\n",
      " 50%|████▉     | 58/117 [00:52<00:47,  1.25it/s]\u001b[A\n",
      " 50%|█████     | 59/117 [00:53<00:47,  1.21it/s]\u001b[A\n",
      " 51%|█████▏    | 60/117 [00:54<00:46,  1.22it/s]\u001b[A\n",
      " 52%|█████▏    | 61/117 [00:55<00:46,  1.20it/s]\u001b[A\n",
      " 53%|█████▎    | 62/117 [00:56<00:46,  1.19it/s]\u001b[A\n",
      " 54%|█████▍    | 63/117 [00:57<00:45,  1.18it/s]\u001b[A\n",
      " 55%|█████▍    | 64/117 [00:58<00:44,  1.19it/s]\u001b[A\n",
      " 56%|█████▌    | 65/117 [00:58<00:43,  1.20it/s]\u001b[A\n",
      " 56%|█████▋    | 66/117 [00:59<00:44,  1.15it/s]\u001b[A\n",
      " 57%|█████▋    | 67/117 [01:00<00:43,  1.15it/s]\u001b[A\n",
      " 58%|█████▊    | 68/117 [01:01<00:41,  1.17it/s]\u001b[A\n",
      " 59%|█████▉    | 69/117 [01:02<00:40,  1.18it/s]\u001b[A\n",
      " 60%|█████▉    | 70/117 [01:03<00:39,  1.19it/s]\u001b[A\n",
      " 61%|██████    | 71/117 [01:03<00:38,  1.19it/s]\u001b[A\n",
      " 62%|██████▏   | 72/117 [01:04<00:37,  1.21it/s]\u001b[A\n",
      " 62%|██████▏   | 73/117 [01:05<00:36,  1.22it/s]\u001b[A\n",
      " 63%|██████▎   | 74/117 [01:06<00:35,  1.21it/s]\u001b[A\n",
      " 64%|██████▍   | 75/117 [01:07<00:34,  1.20it/s]\u001b[A\n",
      " 65%|██████▍   | 76/117 [01:08<00:34,  1.19it/s]\u001b[A\n",
      " 66%|██████▌   | 77/117 [01:09<00:33,  1.18it/s]\u001b[A\n",
      " 67%|██████▋   | 78/117 [01:09<00:32,  1.19it/s]\u001b[A\n",
      " 68%|██████▊   | 79/117 [01:10<00:31,  1.19it/s]\u001b[A\n",
      " 68%|██████▊   | 80/117 [01:11<00:30,  1.20it/s]\u001b[A\n",
      " 69%|██████▉   | 81/117 [01:12<00:29,  1.21it/s]\u001b[A\n",
      " 70%|███████   | 82/117 [01:13<00:29,  1.20it/s]\u001b[A\n",
      " 71%|███████   | 83/117 [01:13<00:28,  1.20it/s]\u001b[A\n",
      " 72%|███████▏  | 84/117 [01:14<00:27,  1.21it/s]\u001b[A\n",
      " 73%|███████▎  | 85/117 [01:16<00:33,  1.05s/it]\u001b[A\n",
      " 74%|███████▎  | 86/117 [01:17<00:30,  1.00it/s]\u001b[A\n",
      " 74%|███████▍  | 87/117 [01:18<00:32,  1.07s/it]\u001b[A\n",
      " 75%|███████▌  | 88/117 [01:19<00:29,  1.01s/it]\u001b[A\n",
      " 76%|███████▌  | 89/117 [01:20<00:29,  1.05s/it]\u001b[A\n",
      " 77%|███████▋  | 90/117 [01:22<00:32,  1.21s/it]\u001b[A\n",
      " 78%|███████▊  | 91/117 [01:23<00:34,  1.31s/it]\u001b[A\n",
      " 79%|███████▊  | 92/117 [01:25<00:35,  1.42s/it]\u001b[A\n",
      " 79%|███████▉  | 93/117 [01:26<00:30,  1.27s/it]\u001b[A\n",
      " 80%|████████  | 94/117 [01:27<00:27,  1.19s/it]\u001b[A\n",
      " 81%|████████  | 95/117 [01:28<00:25,  1.15s/it]\u001b[A\n",
      " 82%|████████▏ | 96/117 [01:29<00:22,  1.09s/it]\u001b[A\n",
      " 83%|████████▎ | 97/117 [01:30<00:22,  1.14s/it]\u001b[A\n",
      " 84%|████████▍ | 98/117 [01:31<00:23,  1.22s/it]\u001b[A\n",
      " 85%|████████▍ | 99/117 [01:32<00:21,  1.17s/it]\u001b[A\n",
      " 85%|████████▌ | 100/117 [01:33<00:18,  1.07s/it]\u001b[A\n",
      " 86%|████████▋ | 101/117 [01:34<00:16,  1.04s/it]\u001b[A\n",
      " 87%|████████▋ | 102/117 [01:35<00:16,  1.09s/it]\u001b[A\n",
      " 88%|████████▊ | 103/117 [01:36<00:14,  1.04s/it]\u001b[A\n",
      " 89%|████████▉ | 104/117 [01:37<00:12,  1.02it/s]\u001b[A\n",
      " 90%|████████▉ | 105/117 [01:38<00:11,  1.03it/s]\u001b[A\n",
      " 91%|█████████ | 106/117 [01:39<00:10,  1.06it/s]\u001b[A\n",
      " 91%|█████████▏| 107/117 [01:40<00:09,  1.09it/s]\u001b[A\n",
      " 92%|█████████▏| 108/117 [01:41<00:08,  1.12it/s]\u001b[A\n",
      " 93%|█████████▎| 109/117 [01:42<00:07,  1.13it/s]\u001b[A\n",
      " 94%|█████████▍| 110/117 [01:42<00:06,  1.15it/s]\u001b[A\n",
      " 95%|█████████▍| 111/117 [01:43<00:05,  1.11it/s]\u001b[A\n",
      " 96%|█████████▌| 112/117 [01:44<00:04,  1.13it/s]\u001b[A\n",
      " 97%|█████████▋| 113/117 [01:45<00:03,  1.15it/s]\u001b[A\n",
      " 97%|█████████▋| 114/117 [01:46<00:02,  1.16it/s]\u001b[A\n",
      " 98%|█████████▊| 115/117 [01:47<00:01,  1.17it/s]\u001b[A\n",
      " 99%|█████████▉| 116/117 [01:48<00:00,  1.18it/s]\u001b[A\n",
      "100%|██████████| 117/117 [01:48<00:00,  1.07it/s]\u001b[A\n",
      "\n",
      "  0%|          | 0/13 [00:00<?, ?it/s]\u001b[A\n",
      "  8%|▊         | 1/13 [00:00<00:07,  1.54it/s]\u001b[A\n",
      " 15%|█▌        | 2/13 [00:00<00:06,  1.83it/s]\u001b[A\n",
      " 23%|██▎       | 3/13 [00:01<00:04,  2.07it/s]\u001b[A\n",
      " 31%|███       | 4/13 [00:01<00:03,  2.33it/s]\u001b[A\n",
      " 38%|███▊      | 5/13 [00:01<00:03,  2.52it/s]\u001b[A\n",
      " 46%|████▌     | 6/13 [00:02<00:02,  2.72it/s]\u001b[A\n",
      " 54%|█████▍    | 7/13 [00:02<00:02,  2.78it/s]\u001b[A\n",
      " 62%|██████▏   | 8/13 [00:02<00:01,  2.90it/s]\u001b[A\n",
      " 69%|██████▉   | 9/13 [00:03<00:01,  2.89it/s]\u001b[A\n",
      " 77%|███████▋  | 10/13 [00:03<00:01,  2.82it/s]\u001b[A\n",
      " 85%|████████▍ | 11/13 [00:04<00:00,  2.60it/s]\u001b[A\n",
      " 92%|█████████▏| 12/13 [00:04<00:00,  2.54it/s]\u001b[A\n",
      "100%|██████████| 13/13 [00:05<00:00,  2.59it/s]\u001b[A\n"
     ]
    },
    {
     "ename": "NameError",
     "evalue": "name 'test_prdeiciton' is not defined",
     "output_type": "error",
     "traceback": [
      "\u001b[0;31m---------------------------------------------------------------------------\u001b[0m",
      "\u001b[0;31mNameError\u001b[0m                                 Traceback (most recent call last)",
      "\u001b[0;32m<ipython-input-8-2f18cc448813>\u001b[0m in \u001b[0;36m<module>\u001b[0;34m\u001b[0m\n\u001b[0;32m----> 1\u001b[0;31m \u001b[0mrun_training\u001b[0m\u001b[0;34m(\u001b[0m\u001b[0;34m)\u001b[0m\u001b[0;34m\u001b[0m\u001b[0;34m\u001b[0m\u001b[0m\n\u001b[0m",
      "\u001b[0;32m<ipython-input-5-7d6ebeeb3815>\u001b[0m in \u001b[0;36mrun_training\u001b[0;34m()\u001b[0m\n\u001b[1;32m     90\u001b[0m         \u001b[0mtrain_loss\u001b[0m \u001b[0;34m=\u001b[0m \u001b[0mengine\u001b[0m\u001b[0;34m.\u001b[0m\u001b[0mtrain_fn\u001b[0m\u001b[0;34m(\u001b[0m\u001b[0mmodel\u001b[0m\u001b[0;34m,\u001b[0m \u001b[0mtrain_loader\u001b[0m\u001b[0;34m,\u001b[0m \u001b[0moptimizer\u001b[0m\u001b[0;34m)\u001b[0m\u001b[0;34m\u001b[0m\u001b[0;34m\u001b[0m\u001b[0m\n\u001b[1;32m     91\u001b[0m         \u001b[0mtest_prediction\u001b[0m\u001b[0;34m,\u001b[0m \u001b[0mtest_loss\u001b[0m \u001b[0;34m=\u001b[0m \u001b[0mengine\u001b[0m\u001b[0;34m.\u001b[0m\u001b[0meval_fn\u001b[0m\u001b[0;34m(\u001b[0m\u001b[0mmodel\u001b[0m\u001b[0;34m,\u001b[0m \u001b[0mtest_loader\u001b[0m\u001b[0;34m)\u001b[0m\u001b[0;34m\u001b[0m\u001b[0;34m\u001b[0m\u001b[0m\n\u001b[0;32m---> 92\u001b[0;31m         \u001b[0mprint\u001b[0m\u001b[0;34m(\u001b[0m\u001b[0mtype\u001b[0m\u001b[0;34m(\u001b[0m\u001b[0mtest_prdeiciton\u001b[0m\u001b[0;34m)\u001b[0m\u001b[0;34m)\u001b[0m\u001b[0;34m\u001b[0m\u001b[0;34m\u001b[0m\u001b[0m\n\u001b[0m\u001b[1;32m     93\u001b[0m \u001b[0;31m#         test_cap_prediction = []\u001b[0m\u001b[0;34m\u001b[0m\u001b[0;34m\u001b[0m\u001b[0;34m\u001b[0m\u001b[0m\n\u001b[1;32m     94\u001b[0m \u001b[0;31m#         for kk in test_prediction:\u001b[0m\u001b[0;34m\u001b[0m\u001b[0;34m\u001b[0m\u001b[0;34m\u001b[0m\u001b[0m\n",
      "\u001b[0;31mNameError\u001b[0m: name 'test_prdeiciton' is not defined"
     ]
    }
   ],
   "source": [
    "run_training()"
   ]
  },
  {
   "cell_type": "code",
   "execution_count": null,
   "metadata": {},
   "outputs": [],
   "source": []
  }
 ],
 "metadata": {
  "kernelspec": {
   "display_name": "Python 3",
   "language": "python",
   "name": "python3"
  },
  "language_info": {
   "codemirror_mode": {
    "name": "ipython",
    "version": 3
   },
   "file_extension": ".py",
   "mimetype": "text/x-python",
   "name": "python",
   "nbconvert_exporter": "python",
   "pygments_lexer": "ipython3",
   "version": "3.7.6"
  }
 },
 "nbformat": 4,
 "nbformat_minor": 4
}
